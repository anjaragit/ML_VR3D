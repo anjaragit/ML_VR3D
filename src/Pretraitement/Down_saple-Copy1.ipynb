{
 "cells": [
  {
   "cell_type": "code",
   "execution_count": 1,
   "id": "a07ba221",
   "metadata": {},
   "outputs": [],
   "source": [
    "import pandas as pd\n",
    "#import dask.dataframe as dd\n",
    "from  sklearn.cluster import KMeans\n",
    "from sklearn.metrics import f1_score\n",
    "from sklearn.preprocessing import StandardScaler\n",
    "from laspy.file import File"
   ]
  },
  {
   "cell_type": "code",
   "execution_count": 1,
   "id": "9d0d1c41",
   "metadata": {},
   "outputs": [],
   "source": [
    "import os,glob\n",
    "import h5py"
   ]
  },
  {
   "cell_type": "code",
   "execution_count": 3,
   "id": "d5307047",
   "metadata": {},
   "outputs": [],
   "source": [
    "import numpy as np"
   ]
  },
  {
   "cell_type": "code",
   "execution_count": 70,
   "id": "0a6be489",
   "metadata": {},
   "outputs": [],
   "source": [
    "import math"
   ]
  },
  {
   "cell_type": "code",
   "execution_count": 71,
   "id": "cba3c0a2",
   "metadata": {},
   "outputs": [],
   "source": [
    "import seaborn as sns"
   ]
  },
  {
   "cell_type": "code",
   "execution_count": 72,
   "id": "c5cfe244",
   "metadata": {},
   "outputs": [],
   "source": [
    "import matplotlib.pyplot as plt"
   ]
  },
  {
   "cell_type": "markdown",
   "id": "8e0bbea1",
   "metadata": {},
   "source": [
    "check tout les chambre"
   ]
  },
  {
   "cell_type": "code",
   "execution_count": 73,
   "id": "cdbcd038",
   "metadata": {},
   "outputs": [],
   "source": [
    "BASE_DIR = \"D:\\VR3D\\VR3D_DATASET\""
   ]
  },
  {
   "cell_type": "code",
   "execution_count": 74,
   "id": "3c444f5b",
   "metadata": {},
   "outputs": [],
   "source": [
    "def create_list_chambre(Name,ind_zone):\n",
    "    _path = BASE_DIR+'\\Out_chambre\\\\'+Name+'\\\\'+Name+'_Z'+str(ind_zone+1)\n",
    "    x_temp = pd.read_csv(_path+'\\\\List_file.txt',header=None)\n",
    "    for i in range(len(x_temp)):\n",
    "        os.chdir(x_temp[0][i])\n",
    "        fichier = open(x_temp[0][i]+'\\\\List_file_filter.txt','w')\n",
    "        for file in glob.glob('N*filter*.txt'):\n",
    "            fichier.write(x_temp[0][i]+'\\\\'+file+'\\n')\n",
    "        fichier.close()"
   ]
  },
  {
   "cell_type": "code",
   "execution_count": 75,
   "id": "93a6f94b",
   "metadata": {},
   "outputs": [],
   "source": [
    "def get_max_min_chmbre(chambre_total):\n",
    "    chmbr_finl = []\n",
    "    for i in range(len(chambre_total)):\n",
    "        cmbr = pd.read_csv(chambre_total[0][i],sep =',')\n",
    "        chmbr_finl.append([cmbr['0'].min(),cmbr['0'].max(),cmbr['1'].min(),cmbr['1'].max()])#min_x,max_x,min_y,max_y\n",
    "    return chmbr_finl"
   ]
  },
  {
   "cell_type": "code",
   "execution_count": 76,
   "id": "eea8900e",
   "metadata": {},
   "outputs": [],
   "source": [
    "def concat_max_min_chambr(Name):\n",
    "    for j in range (8): #8:nombre de Zone à travailler \n",
    "        create_list_chambre(Name,j)\n",
    "        _path = BASE_DIR+'\\Out_chambre\\\\'+Name+'\\\\'+Name+'_Z'+str(j+1)\n",
    "        x_temp = pd.read_csv(_path+'\\\\List_file.txt',header=None)\n",
    "        var_local = pd.DataFrame()\n",
    "        for i in range(len(x_temp)):\n",
    "            fichier = pd.read_csv(x_temp[0][i]+'\\\\List_file_filter.txt',header=None)\n",
    "            cmbr_cadre = get_max_min_chmbre(fichier)\n",
    "            cmbr_cadre = pd.DataFrame(cmbr_cadre)\n",
    "            cmbr_cadre.to_csv(x_temp[0][i]+'\\Max_Min_chambre.txt',index = False)\n",
    "            var_local = var_local.append(cmbr_cadre,ignore_index=True)\n",
    "        var_local.to_csv(_path+'\\Max_Min_chambre.txt',index = False)"
   ]
  },
  {
   "cell_type": "code",
   "execution_count": 12,
   "id": "1d3179cf",
   "metadata": {},
   "outputs": [],
   "source": [
    "path = \"D:\\VR3D\\VR3D_DATASET\\Out_chambre\\corbeille\\List_file.txt\"\n",
    "file = pd.read_csv(path,header=None)\n",
    "chmbr_finl = []\n",
    "for i in range(len(file)):\n",
    "    cmbr = pd.read_csv(file[0][i])\n",
    "        \n",
    "    #cmbr = pd.read_csv(data_i_j)\n",
    "    chmbr_finl.append([cmbr['0'].min(),cmbr['0'].max(),cmbr['1'].min(),cmbr['1'].max()])"
   ]
  },
  {
   "cell_type": "code",
   "execution_count": 14,
   "id": "ab1f03f9",
   "metadata": {},
   "outputs": [],
   "source": [
    "pd.DataFrame(chmbr_finl).to_csv(\"D:\\VR3D\\VR3D_DATASET\\Out_chambre\\Bordeau\\Bordeau_Z1\\MINFILTER.txt\",index=False)"
   ]
  },
  {
   "cell_type": "code",
   "execution_count": 98,
   "id": "6cf7519e",
   "metadata": {},
   "outputs": [],
   "source": []
  },
  {
   "cell_type": "code",
   "execution_count": 14,
   "id": "ac50a082",
   "metadata": {},
   "outputs": [],
   "source": [
    "#concat_max_min_chambr('Bordeau')"
   ]
  },
  {
   "cell_type": "markdown",
   "id": "460c94ac",
   "metadata": {},
   "source": [
    "IF chambre cadre avec Balayage-------------------------------------------------"
   ]
  },
  {
   "cell_type": "markdown",
   "id": "4fdf0ada",
   "metadata": {},
   "source": [
    "------------------------------------------------------"
   ]
  },
  {
   "cell_type": "code",
   "execution_count": 73,
   "id": "033d378f",
   "metadata": {},
   "outputs": [],
   "source": []
  },
  {
   "cell_type": "code",
   "execution_count": 77,
   "id": "628e0cd9",
   "metadata": {},
   "outputs": [],
   "source": [
    "def create_list_file_zone(Name):\n",
    "    _path = BASE_DIR+'\\Out_nuage\\Out_filtre_'+Name\n",
    "    os.chdir(_path)\n",
    "    fichier = open(_path+'\\List_file.txt','w')\n",
    "    for file in glob.glob('*.las'):\n",
    "        fichier.write(_path+'\\\\'+file+'\\n')\n",
    "    fichier.close\n",
    "    "
   ]
  },
  {
   "cell_type": "code",
   "execution_count": 78,
   "id": "9fc7b439",
   "metadata": {},
   "outputs": [],
   "source": [
    "def create_fichier_list(Name,nuage_tot):\n",
    "    x_temp = pd.DataFrame()\n",
    "    _path = BASE_DIR+'\\Out_nuage\\Down_sample\\Down_sample_'+Name+'_0.5'\n",
    "    for i in range(len(nuage_tot)):\n",
    "        fichier = [_path+'\\\\Nuage_sample_'+str(i+1)+'.txt']\n",
    "        x_temp = x_temp.append(pd.DataFrame(fichier),ignore_index=True)\n",
    "    x_temp.to_csv(_path+'\\List_file.txt',index=False)\n",
    "        "
   ]
  },
  {
   "cell_type": "code",
   "execution_count": 79,
   "id": "9645ee14",
   "metadata": {},
   "outputs": [],
   "source": [
    "def cherche_dask(out_put_file,nuage,marge,cmbr_cadre):\n",
    "    #print(out_put_file)\n",
    "    #print(nuage)\n",
    "    #print(cmbr_cadre)\n",
    "    x_temp = pd.DataFrame()\n",
    "    for i in range(2):\n",
    "        shp = int(len(nuage)/2)\n",
    "        ddf = pd.DataFrame(nuage[shp*i:shp*(i+1)])\n",
    "        df = pd.DataFrame()\n",
    "        ddf = ddf.rename(columns={0:'X',1:'Y',2:'Z',3:'I'})\n",
    "        #ddf = ddf[ddf.X < 1422376.7884]\n",
    "        for j in range(len(cmbr_cadre)):\n",
    "            dfj = ddf[(ddf.X >= (cmbr_cadre['0'][j]-marge))&(ddf.X <= (cmbr_cadre['1'][j]+marge))&\n",
    "                      (ddf.Y >= (cmbr_cadre['2'][j]-marge))&(ddf.Y <= (cmbr_cadre['3'][j]+marge))]\n",
    "            \n",
    "            df = df.append(dfj,ignore_index=True)\n",
    "        df = df.drop_duplicates()\n",
    "        x_temp = x_temp.append(df,ignore_index=True)\n",
    "    x_temp.to_csv(out_put_file,index = False)"
   ]
  },
  {
   "cell_type": "code",
   "execution_count": null,
   "id": "f338bdd7",
   "metadata": {},
   "outputs": [],
   "source": []
  },
  {
   "cell_type": "code",
   "execution_count": null,
   "id": "bb6b1cbe",
   "metadata": {},
   "outputs": [],
   "source": []
  },
  {
   "cell_type": "code",
   "execution_count": 80,
   "id": "716fa8fc",
   "metadata": {},
   "outputs": [],
   "source": [
    "def concat_max_min_chmbr(Name,ind_zone):\n",
    "    path_= BASE_DIR+'\\J35_txt_cutted\\VR3D_'+Name+'\\DXF_file\\z'+str(ind_zone)\n",
    "    List_file = pd.read_csv(path_+'\\\\List_file.txt',header=None)\n",
    "    x_temp = pd.DataFrame()\n",
    "    for i in range(len(List_file)):\n",
    "        os.chdir(List_file[0][i])\n",
    "        for file in glob.glob('M*.txt'):\n",
    "            _path = List_file[0][i]+'\\\\'+file\n",
    "            x_temp = x_temp.append(pd.read_csv(_path),ignore_index=True)\n",
    "    x_temp.to_csv(path_+'\\\\'+file,index=False)"
   ]
  },
  {
   "cell_type": "code",
   "execution_count": 81,
   "id": "c322b790",
   "metadata": {},
   "outputs": [],
   "source": [
    "def split(Name,nuage_tot,filtre,marge):\n",
    "    Liste_file = pd.read_csv('D:\\VR3D\\VR3D_DATASET\\Out_nuage\\Filtre_intensite\\List_file.txt',header=None)\n",
    "    for i in range(len(nuage_tot)):\n",
    "        if filtre:\n",
    "            #path_output = BASE_DIR+'\\Out_nuage\\Down_sample_filtre\\Down_sample_'+Name+'_0.5'\n",
    "            path_output = \"D:\\VR3D\\VR3D_DATASET\\Out_nuage\\Filtre_intensite\"\n",
    "            #path_dxf = BASE_DIR+'\\Out_chambre\\\\'+Name+'\\\\'+Name+'_z'+str(i+1)\n",
    "            path_dxf = BASE_DIR+'\\Out_chambre\\\\'+Name+'\\\\'+Name+'_z'+str(1)\n",
    "        else :   \n",
    "            path_output = BASE_DIR+'\\Out_nuage\\Down_sample\\Down_sample_'+Name+'_0.5'\n",
    "            path_dxf = BASE_DIR+'\\J35_txt_cutted\\VR3D_'+Name+'\\DXF_file\\z'+str(1)\n",
    "            # path_dxf = BASE_DIR+'\\J35_txt_cutted\\VR3D_'+Name+'\\DXF_file\\z'+str(i+1)\n",
    "            concat_max_min_chmbr(Name,i+1)\n",
    "        if nuage_tot.to_numpy()[i][0][-3:]=='las':\n",
    "            #save_path = _path+str(i)+'.txt'\n",
    "            #os.system('D:\\VR3D\\Tools\\LAStools\\\\bin\\\\txt2las.exe -i \\\"' + save_path + '\\\"  -parse xyzi -olas')\n",
    "            lasfile = File(nuage_tot[0][i],mode = 'r')\n",
    "            print(len(lasfile))\n",
    "            loc_var = np.empty((len(lasfile),4))\n",
    "            loc_var[:, 0] = lasfile.x[:]\n",
    "            loc_var[:, 1] = lasfile.y[:]\n",
    "            loc_var[:, 2] = lasfile.z[:]\n",
    "            loc_var[:, 3] = lasfile.intensity[:]\n",
    "            lasfile.close()\n",
    "            print(f'-----------{i+1}') \n",
    "            #nuage= pd.DataFrame(loc_var)\n",
    "            \n",
    "            if filtre : \n",
    "                cmbr_cadre = pd.read_csv(path_dxf+'\\MAX_Min_chmbr.txt')\n",
    "            else :\n",
    "                print('on ait la')\n",
    "                cmbr_cadre = pd.read_csv(path_dxf+'\\Max_Min_chambre.txt')\n",
    "                a = cmbr_cadre['1'].copy()\n",
    "                cmbr_cadre['1'] = cmbr_cadre['2']\n",
    "                cmbr_cadre['2'] = a\n",
    "            out = path_output+'\\\\Nuage_sample_'+str(i+1)+'.txt'\n",
    "            cherche_dask(out, loc_var, marge, cmbr_cadre)\n",
    "        else :\n",
    "            if filtre : \n",
    "                #\"D:\\VR3D\\VR3D_DATASET\\Out_final\\Bordeau\\Bordeau_Z1\\MAXMINFILTER.txt\"\n",
    "                cmbr_cadre = pd.read_csv(path_dxf+'\\MINFILTER.txt')\n",
    "            else :\n",
    "                cmbr_cadre = pd.read_csv(path_dxf+'\\MINFILTER.txt')\n",
    "                a = cmbr_cadre['1'].copy()\n",
    "                cmbr_cadre['1'] = cmbr_cadre['2']\n",
    "                cmbr_cadre['2'] = a\n",
    "                out = path_output+'\\\\Nuage_sample_'+str(i)+'.txt'\n",
    "            cherche_dask(pd.read_csv(nuage_tot[0][i],header=None,sep=' '),marge,cmbr_cadre,Liste_file)\n",
    "            print('------down_'+str(i)+'----------')\n"
   ]
  },
  {
   "cell_type": "code",
   "execution_count": 83,
   "id": "783cc23c",
   "metadata": {},
   "outputs": [],
   "source": [
    "def run(Name,filtre,marge):\n",
    "    create_list_file_zone(Name)\n",
    "    if filtre:\n",
    "        #nuage_tot = pd.read_csv(\"D:\\VR3D\\VR3D_DATASET\\Out_train\\corbeille\\OUT.txt\",header=None)\n",
    "        nuage_tot = pd.read_csv(\"D:\\VR3D\\VR3D_DATASET\\Out_nuage\\Out_filtre_Bordeau\\List_file.txt\",header=None)\n",
    "        #nuage_tot = pd.read_csv(BASE_DIR+'\\Out_nuage\\Down_sample\\Down_sample_'+Name+'_0.5\\List_file.txt',header = None)\n",
    "    else:\n",
    "        nuage_tot = pd.read_csv(BASE_DIR+'\\Out_nuage\\Out_filtre_'+Name+'\\List_file.txt',header = None)\n",
    "    # create_fichier_list(Name,nuage_tot)\n",
    "    split(Name,nuage_tot,filtre,marge)"
   ]
  },
  {
   "cell_type": "code",
   "execution_count": 66,
   "id": "f2cb9713",
   "metadata": {},
   "outputs": [
    {
     "name": "stdout",
     "output_type": "stream",
     "text": [
      "41892667\n",
      "-----------1\n",
      "on ait la\n"
     ]
    }
   ],
   "source": [
    "run('XX', True, 0.5)"
   ]
  },
  {
   "cell_type": "code",
   "execution_count": 73,
   "id": "8c9a777d",
   "metadata": {},
   "outputs": [],
   "source": [
    "def create_file_chmbr(cmbr_cadre):\n",
    "    _path = \"D:\\VR3D\\VR3D_DATASET\\Out_nuage\\Filtre_intensite\"\n",
    "    fichier = open(_path+'\\List_file.txt','a')\n",
    "    for i in range(len(cmbr_cadre)):\n",
    "        fichier.write(_path+'\\\\chambre'+str(i)+'.txt\\n')\n",
    "    fichier.close()"
   ]
  },
  {
   "cell_type": "code",
   "execution_count": 74,
   "id": "58dda2b1",
   "metadata": {},
   "outputs": [],
   "source": [
    "path_dxf = \"D:\\VR3D\\VR3D_DATASET\\Out_chambre\\Bordeau\\Bordeau_Z1\"\n",
    "cmbr_cadre = pd.read_csv(path_dxf+'\\MINFILTER.txt')"
   ]
  },
  {
   "cell_type": "code",
   "execution_count": 75,
   "id": "0dd318e0",
   "metadata": {},
   "outputs": [],
   "source": [
    "create_file_chmbr(cmbr_cadre)"
   ]
  },
  {
   "cell_type": "code",
   "execution_count": null,
   "id": "15a75eae",
   "metadata": {},
   "outputs": [],
   "source": []
  },
  {
   "cell_type": "code",
   "execution_count": null,
   "id": "bbaea8dc",
   "metadata": {},
   "outputs": [],
   "source": []
  },
  {
   "cell_type": "code",
   "execution_count": null,
   "id": "90ddb84f",
   "metadata": {},
   "outputs": [],
   "source": []
  },
  {
   "cell_type": "code",
   "execution_count": null,
   "id": "7ea32a60",
   "metadata": {},
   "outputs": [],
   "source": []
  },
  {
   "cell_type": "code",
   "execution_count": null,
   "id": "01dbaba0",
   "metadata": {},
   "outputs": [],
   "source": []
  },
  {
   "cell_type": "code",
   "execution_count": null,
   "id": "bb3aa474",
   "metadata": {},
   "outputs": [],
   "source": []
  },
  {
   "cell_type": "code",
   "execution_count": null,
   "id": "1b05cfde",
   "metadata": {},
   "outputs": [],
   "source": []
  },
  {
   "cell_type": "code",
   "execution_count": null,
   "id": "11627db3",
   "metadata": {},
   "outputs": [],
   "source": []
  },
  {
   "cell_type": "code",
   "execution_count": null,
   "id": "0837d23d",
   "metadata": {},
   "outputs": [],
   "source": []
  },
  {
   "cell_type": "code",
   "execution_count": null,
   "id": "57be790d",
   "metadata": {},
   "outputs": [],
   "source": []
  },
  {
   "cell_type": "code",
   "execution_count": null,
   "id": "f7ef4e28",
   "metadata": {},
   "outputs": [],
   "source": [
    "\"D:\\VR3D\\VR3D_DATASET\\Out_train\\corbeille\\out2.txt\""
   ]
  },
  {
   "cell_type": "code",
   "execution_count": null,
   "id": "c458771b",
   "metadata": {},
   "outputs": [],
   "source": [
    "\"D:\\VR3D\\VR3D_DATASET\\Out_train\\corbeille\\out2.txt\"\"D:\\VR3D\\VR3D_DATASET\\Out_train\\corbeille\\out2.txt\""
   ]
  },
  {
   "cell_type": "code",
   "execution_count": 9,
   "id": "f73003ae",
   "metadata": {},
   "outputs": [],
   "source": [
    "path = \"D:\\VR3D\\VR3D_DATASET\\Out_train\\Out_train_Paris_0.5\\\\\""
   ]
  },
  {
   "cell_type": "code",
   "execution_count": 11,
   "id": "026efecd",
   "metadata": {},
   "outputs": [],
   "source": [
    "tot = pd.DataFrame()\n",
    "list_out = pd.read_csv(path+'OUT.txt',header=None)\n",
    "for i in range(len(list_out)):\n",
    "    tot = tot.append(pd.read_csv(list_out[0][i]),ignore_index=True)\n",
    "tot.to_csv(path+'OUT_total.txt',index=False)"
   ]
  },
  {
   "cell_type": "code",
   "execution_count": 12,
   "id": "88588ebb",
   "metadata": {},
   "outputs": [],
   "source": [
    "train_to_test = pd.read_csv(path+'out1.txt')\n",
    "train_to_test = train_to_test.drop('L',axis=1)"
   ]
  },
  {
   "cell_type": "code",
   "execution_count": 13,
   "id": "0a9fe8cd",
   "metadata": {},
   "outputs": [
    {
     "data": {
      "text/html": [
       "<div>\n",
       "<style scoped>\n",
       "    .dataframe tbody tr th:only-of-type {\n",
       "        vertical-align: middle;\n",
       "    }\n",
       "\n",
       "    .dataframe tbody tr th {\n",
       "        vertical-align: top;\n",
       "    }\n",
       "\n",
       "    .dataframe thead th {\n",
       "        text-align: right;\n",
       "    }\n",
       "</style>\n",
       "<table border=\"1\" class=\"dataframe\">\n",
       "  <thead>\n",
       "    <tr style=\"text-align: right;\">\n",
       "      <th></th>\n",
       "      <th>X</th>\n",
       "      <th>Y</th>\n",
       "      <th>Z</th>\n",
       "      <th>I</th>\n",
       "    </tr>\n",
       "  </thead>\n",
       "  <tbody>\n",
       "    <tr>\n",
       "      <th>0</th>\n",
       "      <td>1656061.35</td>\n",
       "      <td>8181826.33</td>\n",
       "      <td>38.35</td>\n",
       "      <td>28216.0</td>\n",
       "    </tr>\n",
       "    <tr>\n",
       "      <th>1</th>\n",
       "      <td>1656061.31</td>\n",
       "      <td>8181826.32</td>\n",
       "      <td>38.35</td>\n",
       "      <td>25449.0</td>\n",
       "    </tr>\n",
       "    <tr>\n",
       "      <th>2</th>\n",
       "      <td>1656061.33</td>\n",
       "      <td>8181826.25</td>\n",
       "      <td>38.36</td>\n",
       "      <td>26978.0</td>\n",
       "    </tr>\n",
       "    <tr>\n",
       "      <th>3</th>\n",
       "      <td>1656061.36</td>\n",
       "      <td>8181826.16</td>\n",
       "      <td>38.35</td>\n",
       "      <td>28216.0</td>\n",
       "    </tr>\n",
       "    <tr>\n",
       "      <th>4</th>\n",
       "      <td>1656061.27</td>\n",
       "      <td>8181826.29</td>\n",
       "      <td>38.35</td>\n",
       "      <td>25777.0</td>\n",
       "    </tr>\n",
       "    <tr>\n",
       "      <th>...</th>\n",
       "      <td>...</td>\n",
       "      <td>...</td>\n",
       "      <td>...</td>\n",
       "      <td>...</td>\n",
       "    </tr>\n",
       "    <tr>\n",
       "      <th>44438</th>\n",
       "      <td>1655949.74</td>\n",
       "      <td>8181725.80</td>\n",
       "      <td>40.89</td>\n",
       "      <td>37609.0</td>\n",
       "    </tr>\n",
       "    <tr>\n",
       "      <th>44439</th>\n",
       "      <td>1655949.72</td>\n",
       "      <td>8181725.86</td>\n",
       "      <td>40.88</td>\n",
       "      <td>30437.0</td>\n",
       "    </tr>\n",
       "    <tr>\n",
       "      <th>44440</th>\n",
       "      <td>1655949.70</td>\n",
       "      <td>8181725.90</td>\n",
       "      <td>40.89</td>\n",
       "      <td>35716.0</td>\n",
       "    </tr>\n",
       "    <tr>\n",
       "      <th>44441</th>\n",
       "      <td>1655949.78</td>\n",
       "      <td>8181725.83</td>\n",
       "      <td>40.88</td>\n",
       "      <td>8228.0</td>\n",
       "    </tr>\n",
       "    <tr>\n",
       "      <th>44442</th>\n",
       "      <td>1655949.75</td>\n",
       "      <td>8181725.90</td>\n",
       "      <td>40.87</td>\n",
       "      <td>32257.0</td>\n",
       "    </tr>\n",
       "  </tbody>\n",
       "</table>\n",
       "<p>44443 rows × 4 columns</p>\n",
       "</div>"
      ],
      "text/plain": [
       "                X           Y      Z        I\n",
       "0      1656061.35  8181826.33  38.35  28216.0\n",
       "1      1656061.31  8181826.32  38.35  25449.0\n",
       "2      1656061.33  8181826.25  38.36  26978.0\n",
       "3      1656061.36  8181826.16  38.35  28216.0\n",
       "4      1656061.27  8181826.29  38.35  25777.0\n",
       "...           ...         ...    ...      ...\n",
       "44438  1655949.74  8181725.80  40.89  37609.0\n",
       "44439  1655949.72  8181725.86  40.88  30437.0\n",
       "44440  1655949.70  8181725.90  40.89  35716.0\n",
       "44441  1655949.78  8181725.83  40.88   8228.0\n",
       "44442  1655949.75  8181725.90  40.87  32257.0\n",
       "\n",
       "[44443 rows x 4 columns]"
      ]
     },
     "execution_count": 13,
     "metadata": {},
     "output_type": "execute_result"
    }
   ],
   "source": [
    "train_to_test"
   ]
  },
  {
   "cell_type": "code",
   "execution_count": 14,
   "id": "f14b6dbc",
   "metadata": {},
   "outputs": [],
   "source": [
    "train_to_test.to_csv(path+'out1_test.txt',index=False)"
   ]
  },
  {
   "cell_type": "code",
   "execution_count": 17,
   "id": "2e4c4ffd",
   "metadata": {},
   "outputs": [],
   "source": [
    "path = \"D:\\\\MAS\\\\Pre_traitement\\\\data_source\\\\p1_zone1.txt\""
   ]
  },
  {
   "cell_type": "code",
   "execution_count": 4,
   "id": "f50e3e68",
   "metadata": {},
   "outputs": [],
   "source": [
    "import pandas as pd\n",
    "import os "
   ]
  },
  {
   "cell_type": "code",
   "execution_count": 19,
   "id": "aec8239b",
   "metadata": {},
   "outputs": [],
   "source": [
    "test_data = pd.read_csv(path,header = None,sep = ' ')"
   ]
  },
  {
   "cell_type": "code",
   "execution_count": 20,
   "id": "bdf7154d",
   "metadata": {},
   "outputs": [],
   "source": [
    "test_data = test_data.drop(4,axis=1)"
   ]
  },
  {
   "cell_type": "code",
   "execution_count": 24,
   "id": "32fa4cd8",
   "metadata": {},
   "outputs": [],
   "source": [
    "test_data.to_csv('D:\\\\MAS\\\\Pre_traitement\\\\data_source\\\\p1_zone1_test.txt',index=False)"
   ]
  },
  {
   "cell_type": "code",
   "execution_count": 6,
   "id": "3e73b83f",
   "metadata": {},
   "outputs": [],
   "source": [
    "path_test = \"D:\\VR3D\\VR3D_DATASET\\Out_nuage\\Filtre_intensite\\chambre_filtre159.txt\""
   ]
  },
  {
   "cell_type": "code",
   "execution_count": 7,
   "id": "f6f1c3e2",
   "metadata": {},
   "outputs": [
    {
     "data": {
      "text/plain": [
       "0"
      ]
     },
     "execution_count": 7,
     "metadata": {},
     "output_type": "execute_result"
    }
   ],
   "source": [
    "os.system('D:\\VR3D\\Tools\\LAStools\\\\bin\\\\txt2las.exe -i \\\"' + path_test+ '\\\" -parse xyzi -olas')"
   ]
  },
  {
   "cell_type": "code",
   "execution_count": 32,
   "id": "026ba457",
   "metadata": {},
   "outputs": [],
   "source": [
    "path_las = \"D:\\\\MAS\\\\Pre_traitement\\\\data_source\\\\p1_zone1_test.las\""
   ]
  },
  {
   "cell_type": "code",
   "execution_count": 5,
   "id": "895527ba",
   "metadata": {},
   "outputs": [],
   "source": [
    "from laspy.file import File"
   ]
  },
  {
   "cell_type": "code",
   "execution_count": 41,
   "id": "1bcd78f6",
   "metadata": {},
   "outputs": [],
   "source": [
    "lasfile = File(path_las,mode = 'rw')"
   ]
  },
  {
   "cell_type": "code",
   "execution_count": 48,
   "id": "f421d3ce",
   "metadata": {},
   "outputs": [
    {
     "data": {
      "text/plain": [
       "array([21967, 31063, 28048, ..., 19581, 15204, 15964], dtype=uint16)"
      ]
     },
     "execution_count": 48,
     "metadata": {},
     "output_type": "execute_result"
    }
   ],
   "source": [
    "lasfile"
   ]
  },
  {
   "cell_type": "markdown",
   "id": "0b697f25",
   "metadata": {},
   "source": [
    "Pour la visualisation de donne d'entrainement\n"
   ]
  },
  {
   "cell_type": "markdown",
   "id": "03d5783c",
   "metadata": {},
   "source": [
    "PostProcess Test"
   ]
  },
  {
   "cell_type": "markdown",
   "id": "8256bbad",
   "metadata": {},
   "source": [
    "Concatenations de tout les chambres"
   ]
  },
  {
   "cell_type": "code",
   "execution_count": 10,
   "id": "130cdf51",
   "metadata": {},
   "outputs": [],
   "source": [
    "fil_list = pd.read_csv(\"D:\\VR3D\\VR3D_DATASET\\Out_train\\Down_sample_paris_0.5\\OUT.txt\",header=None)"
   ]
  },
  {
   "cell_type": "code",
   "execution_count": 11,
   "id": "727f75bd",
   "metadata": {},
   "outputs": [
    {
     "data": {
      "text/plain": [
       "'D:\\\\VR3D\\\\VR3D_DATASET\\\\Out_train\\\\Down_sample_paris_0.5\\\\Out0.txt'"
      ]
     },
     "execution_count": 11,
     "metadata": {},
     "output_type": "execute_result"
    }
   ],
   "source": [
    "fil_list[0][0]"
   ]
  },
  {
   "cell_type": "code",
   "execution_count": 12,
   "id": "a0ef7d8f",
   "metadata": {},
   "outputs": [],
   "source": [
    "chmbr_tot = pd.DataFrame()\n",
    "for i in range(len(fil_list)):\n",
    "    chmbr_tot = chmbr_tot.append(pd.read_csv(fil_list[0][i],sep= ','),ignore_index=True)"
   ]
  },
  {
   "cell_type": "code",
   "execution_count": 13,
   "id": "554ce733",
   "metadata": {},
   "outputs": [
    {
     "data": {
      "text/html": [
       "<div>\n",
       "<style scoped>\n",
       "    .dataframe tbody tr th:only-of-type {\n",
       "        vertical-align: middle;\n",
       "    }\n",
       "\n",
       "    .dataframe tbody tr th {\n",
       "        vertical-align: top;\n",
       "    }\n",
       "\n",
       "    .dataframe thead th {\n",
       "        text-align: right;\n",
       "    }\n",
       "</style>\n",
       "<table border=\"1\" class=\"dataframe\">\n",
       "  <thead>\n",
       "    <tr style=\"text-align: right;\">\n",
       "      <th></th>\n",
       "      <th>X</th>\n",
       "      <th>Y</th>\n",
       "      <th>Z</th>\n",
       "      <th>I</th>\n",
       "      <th>L</th>\n",
       "    </tr>\n",
       "  </thead>\n",
       "  <tbody>\n",
       "    <tr>\n",
       "      <th>0</th>\n",
       "      <td>1656042.48</td>\n",
       "      <td>8181257.93</td>\n",
       "      <td>51.43</td>\n",
       "      <td>27643.0</td>\n",
       "      <td>0.0</td>\n",
       "    </tr>\n",
       "    <tr>\n",
       "      <th>1</th>\n",
       "      <td>1656042.58</td>\n",
       "      <td>8181258.01</td>\n",
       "      <td>51.36</td>\n",
       "      <td>29460.0</td>\n",
       "      <td>0.0</td>\n",
       "    </tr>\n",
       "    <tr>\n",
       "      <th>2</th>\n",
       "      <td>1656042.64</td>\n",
       "      <td>8181258.01</td>\n",
       "      <td>51.45</td>\n",
       "      <td>32290.0</td>\n",
       "      <td>0.0</td>\n",
       "    </tr>\n",
       "    <tr>\n",
       "      <th>3</th>\n",
       "      <td>1656042.76</td>\n",
       "      <td>8181258.00</td>\n",
       "      <td>51.61</td>\n",
       "      <td>31218.0</td>\n",
       "      <td>0.0</td>\n",
       "    </tr>\n",
       "    <tr>\n",
       "      <th>4</th>\n",
       "      <td>1656042.85</td>\n",
       "      <td>8181258.08</td>\n",
       "      <td>51.54</td>\n",
       "      <td>29490.0</td>\n",
       "      <td>0.0</td>\n",
       "    </tr>\n",
       "    <tr>\n",
       "      <th>...</th>\n",
       "      <td>...</td>\n",
       "      <td>...</td>\n",
       "      <td>...</td>\n",
       "      <td>...</td>\n",
       "      <td>...</td>\n",
       "    </tr>\n",
       "    <tr>\n",
       "      <th>4535537</th>\n",
       "      <td>1656325.22</td>\n",
       "      <td>8180949.41</td>\n",
       "      <td>51.17</td>\n",
       "      <td>24218.0</td>\n",
       "      <td>1.0</td>\n",
       "    </tr>\n",
       "    <tr>\n",
       "      <th>4535538</th>\n",
       "      <td>1656325.19</td>\n",
       "      <td>8180949.38</td>\n",
       "      <td>51.21</td>\n",
       "      <td>26690.0</td>\n",
       "      <td>1.0</td>\n",
       "    </tr>\n",
       "    <tr>\n",
       "      <th>4535539</th>\n",
       "      <td>1656325.26</td>\n",
       "      <td>8180950.72</td>\n",
       "      <td>50.83</td>\n",
       "      <td>31397.0</td>\n",
       "      <td>1.0</td>\n",
       "    </tr>\n",
       "    <tr>\n",
       "      <th>4535540</th>\n",
       "      <td>1656325.22</td>\n",
       "      <td>8180949.41</td>\n",
       "      <td>51.30</td>\n",
       "      <td>31605.0</td>\n",
       "      <td>1.0</td>\n",
       "    </tr>\n",
       "    <tr>\n",
       "      <th>4535541</th>\n",
       "      <td>1656325.22</td>\n",
       "      <td>8180949.37</td>\n",
       "      <td>51.37</td>\n",
       "      <td>29192.0</td>\n",
       "      <td>1.0</td>\n",
       "    </tr>\n",
       "  </tbody>\n",
       "</table>\n",
       "<p>4535542 rows × 5 columns</p>\n",
       "</div>"
      ],
      "text/plain": [
       "                  X           Y      Z        I    L\n",
       "0        1656042.48  8181257.93  51.43  27643.0  0.0\n",
       "1        1656042.58  8181258.01  51.36  29460.0  0.0\n",
       "2        1656042.64  8181258.01  51.45  32290.0  0.0\n",
       "3        1656042.76  8181258.00  51.61  31218.0  0.0\n",
       "4        1656042.85  8181258.08  51.54  29490.0  0.0\n",
       "...             ...         ...    ...      ...  ...\n",
       "4535537  1656325.22  8180949.41  51.17  24218.0  1.0\n",
       "4535538  1656325.19  8180949.38  51.21  26690.0  1.0\n",
       "4535539  1656325.26  8180950.72  50.83  31397.0  1.0\n",
       "4535540  1656325.22  8180949.41  51.30  31605.0  1.0\n",
       "4535541  1656325.22  8180949.37  51.37  29192.0  1.0\n",
       "\n",
       "[4535542 rows x 5 columns]"
      ]
     },
     "execution_count": 13,
     "metadata": {},
     "output_type": "execute_result"
    }
   ],
   "source": [
    "chmbr_tot"
   ]
  },
  {
   "cell_type": "code",
   "execution_count": 17,
   "id": "39a31933",
   "metadata": {},
   "outputs": [],
   "source": [
    "#sns.displot(chmbr_tot,hue='L')"
   ]
  },
  {
   "cell_type": "code",
   "execution_count": 19,
   "id": "4ee62820",
   "metadata": {},
   "outputs": [],
   "source": [
    "chmbr_tot.I = ((chmbr_tot.I -pd_mas[3].mean())/clc_var(pd_mas))**2"
   ]
  },
  {
   "cell_type": "code",
   "execution_count": 22,
   "id": "cd4ca72a",
   "metadata": {},
   "outputs": [],
   "source": [
    "chmbr_tot.I = np.sqrt((chmbr_tot.I))"
   ]
  },
  {
   "cell_type": "code",
   "execution_count": 37,
   "id": "67205ab8",
   "metadata": {},
   "outputs": [],
   "source": [
    "chmbr_tot.to_csv('D:\\\\VR3D\\\\VR3D_DATASET\\\\Out_train\\\\Down_sample_corr_0.5\\\\Data_train.txt',index=False)"
   ]
  },
  {
   "cell_type": "code",
   "execution_count": 14,
   "id": "bd7710fa",
   "metadata": {},
   "outputs": [
    {
     "data": {
      "text/plain": [
       "<seaborn.axisgrid.FacetGrid at 0x28e5ba71f40>"
      ]
     },
     "execution_count": 14,
     "metadata": {},
     "output_type": "execute_result"
    },
    {
     "data": {
      "image/png": "[encoded data removed]",
      "text/plain": [
       "<Figure size 412x360 with 1 Axes>"
      ]
     },
     "metadata": {
      "needs_background": "light"
     },
     "output_type": "display_data"
    }
   ],
   "source": [
    "sns.displot(chmbr_tot,x='I',hue='L')"
   ]
  },
  {
   "cell_type": "code",
   "execution_count": 17,
   "id": "885dd0ec",
   "metadata": {},
   "outputs": [
    {
     "data": {
      "text/plain": [
       "<seaborn.axisgrid.FacetGrid at 0x21304105d90>"
      ]
     },
     "execution_count": 17,
     "metadata": {},
     "output_type": "execute_result"
    },
    {
     "data": {
      "image/png": "[encoded data removed]",
      "text/plain": [
       "<Figure size 402.375x360 with 1 Axes>"
      ]
     },
     "metadata": {
      "needs_background": "light"
     },
     "output_type": "display_data"
    }
   ],
   "source": [
    "sns.displot(rgb,x = 3,hue = 4)"
   ]
  },
  {
   "cell_type": "code",
   "execution_count": 20,
   "id": "b6e0091b",
   "metadata": {},
   "outputs": [
    {
     "data": {
      "text/plain": [
       "<seaborn.axisgrid.FacetGrid at 0x2130b3c1760>"
      ]
     },
     "execution_count": 20,
     "metadata": {},
     "output_type": "execute_result"
    },
    {
     "data": {
      "image/png": "[encoded data removed]",
      "text/plain": [
       "<Figure size 412x360 with 1 Axes>"
      ]
     },
     "metadata": {
      "needs_background": "light"
     },
     "output_type": "display_data"
    }
   ],
   "source": [
    "sns.displot(intenst_vr3d,x = 'I',hue = 'L')"
   ]
  },
  {
   "cell_type": "code",
   "execution_count": null,
   "id": "1a1623db",
   "metadata": {},
   "outputs": [],
   "source": []
  },
  {
   "cell_type": "code",
   "execution_count": null,
   "id": "b359b5fa",
   "metadata": {},
   "outputs": [],
   "source": []
  },
  {
   "cell_type": "code",
   "execution_count": null,
   "id": "f0ee7b30",
   "metadata": {},
   "outputs": [],
   "source": []
  },
  {
   "cell_type": "code",
   "execution_count": null,
   "id": "bca20af2",
   "metadata": {},
   "outputs": [],
   "source": []
  },
  {
   "cell_type": "code",
   "execution_count": null,
   "id": "aec877eb",
   "metadata": {},
   "outputs": [],
   "source": []
  },
  {
   "cell_type": "code",
   "execution_count": null,
   "id": "4d15e606",
   "metadata": {},
   "outputs": [],
   "source": []
  },
  {
   "cell_type": "code",
   "execution_count": 130,
   "id": "f038cde5",
   "metadata": {},
   "outputs": [],
   "source": [
    "rgb = pd.concat([rgb_0,rgb_1],ignore_index=True)"
   ]
  },
  {
   "cell_type": "code",
   "execution_count": 131,
   "id": "32e75e61",
   "metadata": {},
   "outputs": [
    {
     "data": {
      "text/html": [
       "<div>\n",
       "<style scoped>\n",
       "    .dataframe tbody tr th:only-of-type {\n",
       "        vertical-align: middle;\n",
       "    }\n",
       "\n",
       "    .dataframe tbody tr th {\n",
       "        vertical-align: top;\n",
       "    }\n",
       "\n",
       "    .dataframe thead th {\n",
       "        text-align: right;\n",
       "    }\n",
       "</style>\n",
       "<table border=\"1\" class=\"dataframe\">\n",
       "  <thead>\n",
       "    <tr style=\"text-align: right;\">\n",
       "      <th></th>\n",
       "      <th>0</th>\n",
       "      <th>1</th>\n",
       "      <th>2</th>\n",
       "      <th>3</th>\n",
       "      <th>4</th>\n",
       "    </tr>\n",
       "  </thead>\n",
       "  <tbody>\n",
       "    <tr>\n",
       "      <th>0</th>\n",
       "      <td>1642732.41</td>\n",
       "      <td>8198848.22</td>\n",
       "      <td>75.94</td>\n",
       "      <td>30</td>\n",
       "      <td>0</td>\n",
       "    </tr>\n",
       "    <tr>\n",
       "      <th>1</th>\n",
       "      <td>1642732.44</td>\n",
       "      <td>8198848.26</td>\n",
       "      <td>75.95</td>\n",
       "      <td>30</td>\n",
       "      <td>0</td>\n",
       "    </tr>\n",
       "    <tr>\n",
       "      <th>2</th>\n",
       "      <td>1642732.48</td>\n",
       "      <td>8198848.21</td>\n",
       "      <td>75.94</td>\n",
       "      <td>30</td>\n",
       "      <td>0</td>\n",
       "    </tr>\n",
       "    <tr>\n",
       "      <th>3</th>\n",
       "      <td>1642732.51</td>\n",
       "      <td>8198848.25</td>\n",
       "      <td>75.95</td>\n",
       "      <td>30</td>\n",
       "      <td>0</td>\n",
       "    </tr>\n",
       "    <tr>\n",
       "      <th>4</th>\n",
       "      <td>1642732.43</td>\n",
       "      <td>8198848.20</td>\n",
       "      <td>75.94</td>\n",
       "      <td>30</td>\n",
       "      <td>0</td>\n",
       "    </tr>\n",
       "    <tr>\n",
       "      <th>...</th>\n",
       "      <td>...</td>\n",
       "      <td>...</td>\n",
       "      <td>...</td>\n",
       "      <td>...</td>\n",
       "      <td>...</td>\n",
       "    </tr>\n",
       "    <tr>\n",
       "      <th>3870709</th>\n",
       "      <td>1642743.94</td>\n",
       "      <td>8198846.09</td>\n",
       "      <td>75.53</td>\n",
       "      <td>3000</td>\n",
       "      <td>1</td>\n",
       "    </tr>\n",
       "    <tr>\n",
       "      <th>3870710</th>\n",
       "      <td>1642743.98</td>\n",
       "      <td>8198845.99</td>\n",
       "      <td>75.59</td>\n",
       "      <td>3000</td>\n",
       "      <td>1</td>\n",
       "    </tr>\n",
       "    <tr>\n",
       "      <th>3870711</th>\n",
       "      <td>1642743.98</td>\n",
       "      <td>8198845.99</td>\n",
       "      <td>75.68</td>\n",
       "      <td>3000</td>\n",
       "      <td>1</td>\n",
       "    </tr>\n",
       "    <tr>\n",
       "      <th>3870712</th>\n",
       "      <td>1642743.92</td>\n",
       "      <td>8198846.12</td>\n",
       "      <td>75.62</td>\n",
       "      <td>3000</td>\n",
       "      <td>1</td>\n",
       "    </tr>\n",
       "    <tr>\n",
       "      <th>3870713</th>\n",
       "      <td>1642743.98</td>\n",
       "      <td>8198845.99</td>\n",
       "      <td>75.74</td>\n",
       "      <td>3000</td>\n",
       "      <td>1</td>\n",
       "    </tr>\n",
       "  </tbody>\n",
       "</table>\n",
       "<p>3870714 rows × 5 columns</p>\n",
       "</div>"
      ],
      "text/plain": [
       "                  0           1      2     3  4\n",
       "0        1642732.41  8198848.22  75.94    30  0\n",
       "1        1642732.44  8198848.26  75.95    30  0\n",
       "2        1642732.48  8198848.21  75.94    30  0\n",
       "3        1642732.51  8198848.25  75.95    30  0\n",
       "4        1642732.43  8198848.20  75.94    30  0\n",
       "...             ...         ...    ...   ... ..\n",
       "3870709  1642743.94  8198846.09  75.53  3000  1\n",
       "3870710  1642743.98  8198845.99  75.59  3000  1\n",
       "3870711  1642743.98  8198845.99  75.68  3000  1\n",
       "3870712  1642743.92  8198846.12  75.62  3000  1\n",
       "3870713  1642743.98  8198845.99  75.74  3000  1\n",
       "\n",
       "[3870714 rows x 5 columns]"
      ]
     },
     "execution_count": 131,
     "metadata": {},
     "output_type": "execute_result"
    }
   ],
   "source": [
    "rgb"
   ]
  },
  {
   "cell_type": "code",
   "execution_count": 132,
   "id": "38507bec",
   "metadata": {},
   "outputs": [],
   "source": [
    "rgb.to_csv('D:\\VR3D\\labelisation automatique\\Pre_traitement\\data_source\\p1_zone1_rgb.txt',index=False)"
   ]
  },
  {
   "cell_type": "code",
   "execution_count": null,
   "id": "397b8471",
   "metadata": {},
   "outputs": [],
   "source": []
  },
  {
   "cell_type": "code",
   "execution_count": 149,
   "id": "1ddfc6bd",
   "metadata": {},
   "outputs": [],
   "source": [
    "out_file = pd.read_csv(\"D:\\VR3D\\VR3D_DATASET\\Out_train\\Down_sample_0.3\\Out0.txt\",sep = ',')"
   ]
  },
  {
   "cell_type": "code",
   "execution_count": 150,
   "id": "009ac7d6",
   "metadata": {},
   "outputs": [
    {
     "data": {
      "text/html": [
       "<div>\n",
       "<style scoped>\n",
       "    .dataframe tbody tr th:only-of-type {\n",
       "        vertical-align: middle;\n",
       "    }\n",
       "\n",
       "    .dataframe tbody tr th {\n",
       "        vertical-align: top;\n",
       "    }\n",
       "\n",
       "    .dataframe thead th {\n",
       "        text-align: right;\n",
       "    }\n",
       "</style>\n",
       "<table border=\"1\" class=\"dataframe\">\n",
       "  <thead>\n",
       "    <tr style=\"text-align: right;\">\n",
       "      <th></th>\n",
       "      <th>X</th>\n",
       "      <th>Y</th>\n",
       "      <th>Z</th>\n",
       "      <th>I</th>\n",
       "      <th>L</th>\n",
       "    </tr>\n",
       "  </thead>\n",
       "  <tbody>\n",
       "    <tr>\n",
       "      <th>0</th>\n",
       "      <td>1422353.645</td>\n",
       "      <td>4189793.836</td>\n",
       "      <td>61.146</td>\n",
       "      <td>2116.0</td>\n",
       "      <td>0.0</td>\n",
       "    </tr>\n",
       "    <tr>\n",
       "      <th>1</th>\n",
       "      <td>1422353.683</td>\n",
       "      <td>4189793.933</td>\n",
       "      <td>61.307</td>\n",
       "      <td>2195.0</td>\n",
       "      <td>0.0</td>\n",
       "    </tr>\n",
       "    <tr>\n",
       "      <th>2</th>\n",
       "      <td>1422353.590</td>\n",
       "      <td>4189793.705</td>\n",
       "      <td>61.104</td>\n",
       "      <td>2213.0</td>\n",
       "      <td>0.0</td>\n",
       "    </tr>\n",
       "    <tr>\n",
       "      <th>3</th>\n",
       "      <td>1422353.145</td>\n",
       "      <td>4189793.926</td>\n",
       "      <td>60.914</td>\n",
       "      <td>2119.0</td>\n",
       "      <td>0.0</td>\n",
       "    </tr>\n",
       "    <tr>\n",
       "      <th>4</th>\n",
       "      <td>1422353.387</td>\n",
       "      <td>4189793.903</td>\n",
       "      <td>61.221</td>\n",
       "      <td>2235.0</td>\n",
       "      <td>0.0</td>\n",
       "    </tr>\n",
       "    <tr>\n",
       "      <th>...</th>\n",
       "      <td>...</td>\n",
       "      <td>...</td>\n",
       "      <td>...</td>\n",
       "      <td>...</td>\n",
       "      <td>...</td>\n",
       "    </tr>\n",
       "    <tr>\n",
       "      <th>5152</th>\n",
       "      <td>1422327.892</td>\n",
       "      <td>4189794.577</td>\n",
       "      <td>60.531</td>\n",
       "      <td>2237.0</td>\n",
       "      <td>1.0</td>\n",
       "    </tr>\n",
       "    <tr>\n",
       "      <th>5153</th>\n",
       "      <td>1422327.652</td>\n",
       "      <td>4189794.578</td>\n",
       "      <td>60.527</td>\n",
       "      <td>2254.0</td>\n",
       "      <td>1.0</td>\n",
       "    </tr>\n",
       "    <tr>\n",
       "      <th>5154</th>\n",
       "      <td>1422327.586</td>\n",
       "      <td>4189794.442</td>\n",
       "      <td>60.536</td>\n",
       "      <td>2233.0</td>\n",
       "      <td>1.0</td>\n",
       "    </tr>\n",
       "    <tr>\n",
       "      <th>5155</th>\n",
       "      <td>1422327.868</td>\n",
       "      <td>4189794.174</td>\n",
       "      <td>60.547</td>\n",
       "      <td>2250.0</td>\n",
       "      <td>1.0</td>\n",
       "    </tr>\n",
       "    <tr>\n",
       "      <th>5156</th>\n",
       "      <td>1422327.745</td>\n",
       "      <td>4189794.292</td>\n",
       "      <td>60.531</td>\n",
       "      <td>2248.0</td>\n",
       "      <td>1.0</td>\n",
       "    </tr>\n",
       "  </tbody>\n",
       "</table>\n",
       "<p>5157 rows × 5 columns</p>\n",
       "</div>"
      ],
      "text/plain": [
       "                X            Y       Z       I    L\n",
       "0     1422353.645  4189793.836  61.146  2116.0  0.0\n",
       "1     1422353.683  4189793.933  61.307  2195.0  0.0\n",
       "2     1422353.590  4189793.705  61.104  2213.0  0.0\n",
       "3     1422353.145  4189793.926  60.914  2119.0  0.0\n",
       "4     1422353.387  4189793.903  61.221  2235.0  0.0\n",
       "...           ...          ...     ...     ...  ...\n",
       "5152  1422327.892  4189794.577  60.531  2237.0  1.0\n",
       "5153  1422327.652  4189794.578  60.527  2254.0  1.0\n",
       "5154  1422327.586  4189794.442  60.536  2233.0  1.0\n",
       "5155  1422327.868  4189794.174  60.547  2250.0  1.0\n",
       "5156  1422327.745  4189794.292  60.531  2248.0  1.0\n",
       "\n",
       "[5157 rows x 5 columns]"
      ]
     },
     "execution_count": 150,
     "metadata": {},
     "output_type": "execute_result"
    }
   ],
   "source": [
    "out_file"
   ]
  },
  {
   "cell_type": "code",
   "execution_count": null,
   "id": "4a34c54f",
   "metadata": {},
   "outputs": [],
   "source": [
    "concat_file = pd.DataFrame()\n",
    "for i in range(len(out_file)):\n",
    "    concat_file = concat_file.append(pd.read_csv(out_file[0][i]),ignore_index=True)"
   ]
  },
  {
   "cell_type": "code",
   "execution_count": 94,
   "id": "b690b9b8",
   "metadata": {},
   "outputs": [],
   "source": [
    "test = pd.read_csv(out_file[0][0])"
   ]
  },
  {
   "cell_type": "code",
   "execution_count": 151,
   "id": "a4251e58",
   "metadata": {},
   "outputs": [],
   "source": [
    "test = out_file.copy()"
   ]
  },
  {
   "cell_type": "code",
   "execution_count": 153,
   "id": "cb976bec",
   "metadata": {},
   "outputs": [
    {
     "data": {
      "text/plain": [
       "<AxesSubplot:>"
      ]
     },
     "execution_count": 153,
     "metadata": {},
     "output_type": "execute_result"
    },
    {
     "data": {
      "image/png": "[encoded data removed]",
      "text/plain": [
       "<Figure size 432x288 with 1 Axes>"
      ]
     },
     "metadata": {
      "needs_background": "light"
     },
     "output_type": "display_data"
    }
   ],
   "source": [
    "test['L'].value_counts().plot(kind = 'barh')"
   ]
  },
  {
   "cell_type": "code",
   "execution_count": 154,
   "id": "3ca51b0d",
   "metadata": {},
   "outputs": [
    {
     "data": {
      "text/plain": [
       "2049.0"
      ]
     },
     "execution_count": 154,
     "metadata": {},
     "output_type": "execute_result"
    }
   ],
   "source": [
    "test['I'].min()"
   ]
  },
  {
   "cell_type": "code",
   "execution_count": 155,
   "id": "a5973028",
   "metadata": {},
   "outputs": [
    {
     "data": {
      "text/plain": [
       "2297.0"
      ]
     },
     "execution_count": 155,
     "metadata": {},
     "output_type": "execute_result"
    }
   ],
   "source": [
    "test['I'].max()"
   ]
  },
  {
   "cell_type": "code",
   "execution_count": 156,
   "id": "0a0bb19f",
   "metadata": {},
   "outputs": [
    {
     "data": {
      "text/plain": [
       "2210.754508435137"
      ]
     },
     "execution_count": 156,
     "metadata": {},
     "output_type": "execute_result"
    }
   ],
   "source": [
    "test['I'].mean()"
   ]
  },
  {
   "cell_type": "code",
   "execution_count": null,
   "id": "ea8175ec",
   "metadata": {},
   "outputs": [],
   "source": [
    "import h5py"
   ]
  },
  {
   "cell_type": "code",
   "execution_count": 2,
   "id": "c85ee1fc",
   "metadata": {},
   "outputs": [],
   "source": [
    "save_path = \"D:\\VR3D\\VR3D_DATASET\\Out_nuage\\Filtre_intensite\\chambre_filtre152.txt\""
   ]
  },
  {
   "cell_type": "code",
   "execution_count": 3,
   "id": "527fdd8f",
   "metadata": {},
   "outputs": [
    {
     "data": {
      "text/plain": [
       "0"
      ]
     },
     "execution_count": 3,
     "metadata": {},
     "output_type": "execute_result"
    }
   ],
   "source": [
    "os.system('D:\\VR3D\\Tools\\LAStools\\\\bin\\\\txt2las.exe -i \\\"' + save_path + '\\\" -parse xyzi -olas')\n"
   ]
  },
  {
   "cell_type": "markdown",
   "id": "f9ad0bae",
   "metadata": {},
   "source": [
    "Faire de KMeans"
   ]
  },
  {
   "cell_type": "code",
   "execution_count": 59,
   "id": "767f4160",
   "metadata": {},
   "outputs": [],
   "source": [
    "Fil_list = pd.read_csv(\"D:\\VR3D\\VR3D_DATASET\\Out_train\\Down_sample_paris_0.5\\OUT_paris.txt\",header=None)"
   ]
  },
  {
   "cell_type": "code",
   "execution_count": 26,
   "id": "95ff7eb4",
   "metadata": {},
   "outputs": [],
   "source": [
    "Fil_list = pd.read_csv(\"D:\\VR3D\\VR3D_DATASET\\Out_train\\Down_sample_corr_0.5\\Fil_list.txt\",header=None)"
   ]
  },
  {
   "cell_type": "code",
   "execution_count": 60,
   "id": "e0353540",
   "metadata": {},
   "outputs": [],
   "source": [
    "out_data = pd.DataFrame()\n",
    "for i in range(len(Fil_list)):\n",
    "    out_data = out_data.append(pd.read_csv(Fil_list[0][i]),ignore_index=True)"
   ]
  },
  {
   "cell_type": "code",
   "execution_count": 8,
   "id": "f2b09e7b",
   "metadata": {},
   "outputs": [],
   "source": [
    "data_train = out_data.copy()"
   ]
  },
  {
   "cell_type": "code",
   "execution_count": 9,
   "id": "3f5d41e6",
   "metadata": {},
   "outputs": [
    {
     "data": {
      "text/plain": [
       "<AxesSubplot:>"
      ]
     },
     "execution_count": 9,
     "metadata": {},
     "output_type": "execute_result"
    },
    {
     "data": {
      "image/png": "[encoded data removed]",
      "text/plain": [
       "<Figure size 432x288 with 1 Axes>"
      ]
     },
     "metadata": {
      "needs_background": "light"
     },
     "output_type": "display_data"
    }
   ],
   "source": [
    "data_train['L'].value_counts().plot(kind = 'bar')"
   ]
  },
  {
   "cell_type": "code",
   "execution_count": 11,
   "id": "737e761b",
   "metadata": {},
   "outputs": [
    {
     "data": {
      "text/plain": [
       "<seaborn.axisgrid.FacetGrid at 0x199cbbb3e20>"
      ]
     },
     "execution_count": 11,
     "metadata": {},
     "output_type": "execute_result"
    },
    {
     "data": {
      "image/png": "[encoded data removed]",
      "text/plain": [
       "<Figure size 412x360 with 1 Axes>"
      ]
     },
     "metadata": {
      "needs_background": "light"
     },
     "output_type": "display_data"
    }
   ],
   "source": [
    "sns.displot(data_train,x=data_train['Z'],hue=data_train['L'])"
   ]
  },
  {
   "cell_type": "code",
   "execution_count": 106,
   "id": "3ece29ee",
   "metadata": {},
   "outputs": [],
   "source": [
    "model = \"D:\\\\Trained_ep19MAs_2022-02-01-11 36 07_Down_sample_bordeau_elevation_filtre.h5\""
   ]
  },
  {
   "cell_type": "code",
   "execution_count": null,
   "id": "637b4eb9",
   "metadata": {},
   "outputs": [],
   "source": [
    "model."
   ]
  },
  {
   "cell_type": "code",
   "execution_count": 10,
   "id": "5940f5a9",
   "metadata": {},
   "outputs": [],
   "source": [
    "import pandas as pd"
   ]
  },
  {
   "cell_type": "code",
   "execution_count": 11,
   "id": "dc2c041e",
   "metadata": {},
   "outputs": [],
   "source": [
    "path  = \"D:\\MAS\\Pre_traitement\\data_source\\modife_data_contour_1_obj_alls.txt\""
   ]
  },
  {
   "cell_type": "code",
   "execution_count": 12,
   "id": "5a3b7458",
   "metadata": {},
   "outputs": [],
   "source": [
    "test = pd.read_csv(path,header=None,sep=' ')"
   ]
  },
  {
   "cell_type": "code",
   "execution_count": 13,
   "id": "931f5052",
   "metadata": {},
   "outputs": [],
   "source": [
    "test_1 = test[test[4]==1]"
   ]
  },
  {
   "cell_type": "code",
   "execution_count": 14,
   "id": "ed0750d1",
   "metadata": {},
   "outputs": [],
   "source": [
    "test_0 = test[test[4]==0]"
   ]
  },
  {
   "cell_type": "code",
   "execution_count": 15,
   "id": "fccaa463",
   "metadata": {},
   "outputs": [
    {
     "name": "stderr",
     "output_type": "stream",
     "text": [
      "C:\\Users\\A2921~1.RAK\\AppData\\Local\\Temp/ipykernel_2832/2994978119.py:1: SettingWithCopyWarning: \n",
      "A value is trying to be set on a copy of a slice from a DataFrame.\n",
      "Try using .loc[row_indexer,col_indexer] = value instead\n",
      "\n",
      "See the caveats in the documentation: https://pandas.pydata.org/pandas-docs/stable/user_guide/indexing.html#returning-a-view-versus-a-copy\n",
      "  test_0[2] += 1\n"
     ]
    }
   ],
   "source": [
    "test_0[2] += 1"
   ]
  },
  {
   "cell_type": "code",
   "execution_count": 16,
   "id": "d39c09a1",
   "metadata": {},
   "outputs": [],
   "source": [
    "test = pd.concat([test_0,test_1],axis=0,ignore_index=True)"
   ]
  },
  {
   "cell_type": "code",
   "execution_count": 17,
   "id": "4027e146",
   "metadata": {},
   "outputs": [
    {
     "data": {
      "text/html": [
       "<div>\n",
       "<style scoped>\n",
       "    .dataframe tbody tr th:only-of-type {\n",
       "        vertical-align: middle;\n",
       "    }\n",
       "\n",
       "    .dataframe tbody tr th {\n",
       "        vertical-align: top;\n",
       "    }\n",
       "\n",
       "    .dataframe thead th {\n",
       "        text-align: right;\n",
       "    }\n",
       "</style>\n",
       "<table border=\"1\" class=\"dataframe\">\n",
       "  <thead>\n",
       "    <tr style=\"text-align: right;\">\n",
       "      <th></th>\n",
       "      <th>0</th>\n",
       "      <th>1</th>\n",
       "      <th>2</th>\n",
       "      <th>3</th>\n",
       "      <th>4</th>\n",
       "    </tr>\n",
       "  </thead>\n",
       "  <tbody>\n",
       "    <tr>\n",
       "      <th>0</th>\n",
       "      <td>1495285.62</td>\n",
       "      <td>7196996.33</td>\n",
       "      <td>54.90</td>\n",
       "      <td>999.037</td>\n",
       "      <td>0</td>\n",
       "    </tr>\n",
       "    <tr>\n",
       "      <th>1</th>\n",
       "      <td>1495285.71</td>\n",
       "      <td>7196996.26</td>\n",
       "      <td>54.91</td>\n",
       "      <td>999.037</td>\n",
       "      <td>0</td>\n",
       "    </tr>\n",
       "    <tr>\n",
       "      <th>2</th>\n",
       "      <td>1495285.73</td>\n",
       "      <td>7196996.26</td>\n",
       "      <td>54.91</td>\n",
       "      <td>999.037</td>\n",
       "      <td>0</td>\n",
       "    </tr>\n",
       "    <tr>\n",
       "      <th>3</th>\n",
       "      <td>1495285.74</td>\n",
       "      <td>7196996.29</td>\n",
       "      <td>54.91</td>\n",
       "      <td>999.037</td>\n",
       "      <td>0</td>\n",
       "    </tr>\n",
       "    <tr>\n",
       "      <th>4</th>\n",
       "      <td>1495285.65</td>\n",
       "      <td>7196996.30</td>\n",
       "      <td>54.91</td>\n",
       "      <td>999.037</td>\n",
       "      <td>0</td>\n",
       "    </tr>\n",
       "    <tr>\n",
       "      <th>...</th>\n",
       "      <td>...</td>\n",
       "      <td>...</td>\n",
       "      <td>...</td>\n",
       "      <td>...</td>\n",
       "      <td>...</td>\n",
       "    </tr>\n",
       "    <tr>\n",
       "      <th>110587</th>\n",
       "      <td>1495284.10</td>\n",
       "      <td>7196997.72</td>\n",
       "      <td>53.77</td>\n",
       "      <td>993.784</td>\n",
       "      <td>1</td>\n",
       "    </tr>\n",
       "    <tr>\n",
       "      <th>110588</th>\n",
       "      <td>1495284.92</td>\n",
       "      <td>7196997.18</td>\n",
       "      <td>54.03</td>\n",
       "      <td>993.784</td>\n",
       "      <td>1</td>\n",
       "    </tr>\n",
       "    <tr>\n",
       "      <th>110589</th>\n",
       "      <td>1495283.93</td>\n",
       "      <td>7196998.07</td>\n",
       "      <td>53.74</td>\n",
       "      <td>993.784</td>\n",
       "      <td>1</td>\n",
       "    </tr>\n",
       "    <tr>\n",
       "      <th>110590</th>\n",
       "      <td>1495285.12</td>\n",
       "      <td>7196996.96</td>\n",
       "      <td>53.92</td>\n",
       "      <td>993.784</td>\n",
       "      <td>1</td>\n",
       "    </tr>\n",
       "    <tr>\n",
       "      <th>110591</th>\n",
       "      <td>1495283.69</td>\n",
       "      <td>7196998.62</td>\n",
       "      <td>54.01</td>\n",
       "      <td>993.784</td>\n",
       "      <td>1</td>\n",
       "    </tr>\n",
       "  </tbody>\n",
       "</table>\n",
       "<p>110592 rows × 5 columns</p>\n",
       "</div>"
      ],
      "text/plain": [
       "                 0           1      2        3  4\n",
       "0       1495285.62  7196996.33  54.90  999.037  0\n",
       "1       1495285.71  7196996.26  54.91  999.037  0\n",
       "2       1495285.73  7196996.26  54.91  999.037  0\n",
       "3       1495285.74  7196996.29  54.91  999.037  0\n",
       "4       1495285.65  7196996.30  54.91  999.037  0\n",
       "...            ...         ...    ...      ... ..\n",
       "110587  1495284.10  7196997.72  53.77  993.784  1\n",
       "110588  1495284.92  7196997.18  54.03  993.784  1\n",
       "110589  1495283.93  7196998.07  53.74  993.784  1\n",
       "110590  1495285.12  7196996.96  53.92  993.784  1\n",
       "110591  1495283.69  7196998.62  54.01  993.784  1\n",
       "\n",
       "[110592 rows x 5 columns]"
      ]
     },
     "execution_count": 17,
     "metadata": {},
     "output_type": "execute_result"
    }
   ],
   "source": [
    "test"
   ]
  },
  {
   "cell_type": "code",
   "execution_count": 18,
   "id": "d0556c6d",
   "metadata": {},
   "outputs": [],
   "source": [
    "test.to_csv(\"D:\\\\MAS\\\\Pre_traitement\\\\data_source\\\\data_contour_1_obj_alls_test.txt\",index=False)"
   ]
  },
  {
   "cell_type": "code",
   "execution_count": null,
   "id": "c1a6f232",
   "metadata": {},
   "outputs": [],
   "source": []
  }
 ],
 "metadata": {
  "kernelspec": {
   "display_name": "Python 3 (ipykernel)",
   "language": "python",
   "name": "python3"
  },
  "language_info": {
   "codemirror_mode": {
    "name": "ipython",
    "version": 3
   },
   "file_extension": ".py",
   "mimetype": "text/x-python",
   "name": "python",
   "nbconvert_exporter": "python",
   "pygments_lexer": "ipython3",
   "version": "3.9.7"
  }
 },
 "nbformat": 4,
 "nbformat_minor": 5
}
