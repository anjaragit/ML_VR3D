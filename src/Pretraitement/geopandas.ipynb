{
 "cells": [
  {
   "cell_type": "code",
   "execution_count": 1,
   "id": "25430ad3",
   "metadata": {},
   "outputs": [],
   "source": [
    "import ezdxf\n",
    "from  shapely.geometry import Point\n",
    "from shapely.geometry.polygon import Polygon\n",
    "import ezdxf.math as math\n",
    "from collections import Counter\n",
    "import matplotlib.pyplot as plt\n",
    "import  pandas as pd\n",
    "# pandas version 1.1.3\n",
    "import geopandas\n",
    "import numpy as np\n",
    "from shapely.geometry import  Polygon,Point"
   ]
  },
  {
   "cell_type": "code",
   "execution_count": 12,
   "id": "69642baf",
   "metadata": {},
   "outputs": [],
   "source": [
    "import time"
   ]
  },
  {
   "cell_type": "code",
   "execution_count": 5,
   "id": "ad6d049a",
   "metadata": {},
   "outputs": [],
   "source": [
    "def  dxf_to_geopandas():\n",
    "    doc = ezdxf.readfile(\"D:\\VR3D\\VR3D_DATASET\\J35_txt_cutted\\\\fichier_2D\\BORDEAUX_Travail_J35_ASS.dxf\")\n",
    "    msp = doc.modelspace()\n",
    "    lwschema = msp.query('LWPOLYLINE')\n",
    "    polys1 = geopandas.GeoSeries()\n",
    "    polys2 = geopandas.GeoSeries()\n",
    "    Rayon = []\n",
    "    print(len(lwschema))\n",
    "    for pline in lwschema :\n",
    "        if not pline.has_arc:\n",
    "            poly = []\n",
    "            for p in range(len(pline)):\n",
    "                x,y,s,e,b = pline[p]\n",
    "                poly.append((x,y))\n",
    "            polys1 = polys1.append(geopandas.GeoSeries([Polygon(poly)]),ignore_index = True)\n",
    "        else :\n",
    "            polygon_data = {}\n",
    "            bulg = []\n",
    "            cx = []\n",
    "            cy = []\n",
    "            radius = []\n",
    "            nxt = 0\n",
    "\n",
    "            for pl in range(len(pline)):\n",
    "                x, y, s, e, b = pline[pl]\n",
    "                bulg.append(b)\n",
    "                polygon_data[pl] = [x, y]\n",
    "\n",
    "                if nxt > 0 :\n",
    "                    C = math.bulge_center(polygon_data[nxt-1],polygon_data[nxt],bulg[nxt-1])\n",
    "                    cx.append(C[0])\n",
    "                    cy.append(C[1])\n",
    "                    R = math.bulge_radius(polygon_data[nxt - 1], polygon_data[nxt], bulg[nxt - 1])\n",
    "                    radius.append(R)\n",
    "\n",
    "                if pl+1 == len(pline) :\n",
    "                    centerX = np.mean(cx)\n",
    "                    centerY = np.mean(cy)\n",
    "                    cercleR = np.mean(radius)\n",
    "                    Rayon.append(cercleR)\n",
    "                    #AllCercle.append([centerX,centerY,cercleR])\n",
    "                    cx = []\n",
    "                    cy = []\n",
    "                    radius = []\n",
    "                nxt += 1\n",
    "            polys1 = polys1.append(geopandas.GeoSeries([Point(centerX,centerY).buffer(cercleR)]),ignore_index = True)\n",
    "    return polys1\n",
    "        "
   ]
  },
  {
   "cell_type": "code",
   "execution_count": 4,
   "id": "00ae6e33",
   "metadata": {},
   "outputs": [],
   "source": []
  },
  {
   "cell_type": "code",
   "execution_count": 6,
   "id": "4e50871f",
   "metadata": {},
   "outputs": [
    {
     "name": "stdout",
     "output_type": "stream",
     "text": [
      "220\n"
     ]
    }
   ],
   "source": [
    "poly_geopandas = dxf_to_geopandas()"
   ]
  },
  {
   "cell_type": "code",
   "execution_count": 7,
   "id": "43b82075",
   "metadata": {},
   "outputs": [],
   "source": [
    "poly_geopandas = poly_geopandas [:219]"
   ]
  },
  {
   "cell_type": "code",
   "execution_count": 8,
   "id": "630c04c8",
   "metadata": {},
   "outputs": [],
   "source": [
    "def create_fichier_list():\n",
    "    fichier_list = []\n",
    "    for i in range(len(poly_geopandas)):\n",
    "        fichier_list.append('D:\\VR3D\\VR3D_DATASET\\Output_nuage\\Out_geopanda\\\\Nuage_points_'+str(i)+'.txt')\n",
    "    return  fichier_list"
   ]
  },
  {
   "cell_type": "code",
   "execution_count": 23,
   "id": "5a49fd3f",
   "metadata": {},
   "outputs": [],
   "source": [
    "def Tri_nuage_points():\n",
    "    nuage_data = pd.read_csv(\"D:\\VR3D\\VR3D_DATASET\\Donner_split\\Disk_final\\Disk11.txt\",header=None,sep = ' ')\n",
    "    nuage_data = nuage_data.rename(columns={0:'X',1:'Y',2:'Z',3:'I'})\n",
    "    nuage_data = nuage_data.sort_values(by = ['X','Y'],ignore_index=True)\n",
    "    return nuage_data,nuage_data[['X','Y']]"
   ]
  },
  {
   "cell_type": "code",
   "execution_count": 24,
   "id": "82d983c8",
   "metadata": {},
   "outputs": [],
   "source": [
    "nuage_data,couple = Tri_nuage_points()"
   ]
  },
  {
   "cell_type": "code",
   "execution_count": 27,
   "id": "a3511e23",
   "metadata": {},
   "outputs": [],
   "source": [
    "def train():\n",
    "    for i in range(50000):\n",
    "        df = pd.DataFrame(poly_geopandas.contains(Point(couple.loc[i][0],couple.loc[i][1])))\n",
    "        index = df.index\n",
    "        condition = df[0] == True\n",
    "        ind = index[condition]\n",
    "        if not ind.empty:\n",
    "            fichier_list = create_fichier_list()\n",
    "            fichier = open(fichier_list[ind[0]],'a')\n",
    "            fichier.write(str(couple.loc[i][0])+' '+str(couple.loc[i][1])+' '\n",
    "                      +str(nuage_data.loc[i][2])+' '+str(nuage_data.loc[i][3])+'\\n')\n",
    "            fichier.close()\n"
   ]
  },
  {
   "cell_type": "code",
   "execution_count": 28,
   "id": "b4655b09",
   "metadata": {},
   "outputs": [
    {
     "name": "stdout",
     "output_type": "stream",
     "text": [
      "Wall time: 34.8 s\n"
     ]
    }
   ],
   "source": [
    "%time train()"
   ]
  },
  {
   "cell_type": "code",
   "execution_count": null,
   "id": "e4bcd372",
   "metadata": {},
   "outputs": [],
   "source": []
  }
 ],
 "metadata": {
  "kernelspec": {
   "display_name": "Python 3 (ipykernel)",
   "language": "python",
   "name": "python3"
  },
  "language_info": {
   "codemirror_mode": {
    "name": "ipython",
    "version": 3
   },
   "file_extension": ".py",
   "mimetype": "text/x-python",
   "name": "python",
   "nbconvert_exporter": "python",
   "pygments_lexer": "ipython3",
   "version": "3.9.7"
  }
 },
 "nbformat": 4,
 "nbformat_minor": 5
}
