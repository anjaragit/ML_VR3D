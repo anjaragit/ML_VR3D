{
 "cells": [
  {
   "cell_type": "code",
   "execution_count": 2,
   "id": "25430ad3",
   "metadata": {},
   "outputs": [],
   "source": [
    "import os\n",
    "import glob\n",
    "import ezdxf\n",
    "from  shapely.geometry import Point\n",
    "from shapely.geometry.polygon import Polygon,Point\n",
    "import ezdxf.math as math\n",
    "from collections import Counter\n",
    "import matplotlib.pyplot as plt\n",
    "import  pandas as pd\n",
    "# pandas version 1.1.3\n",
    "import geopandas\n",
    "import numpy as np\n",
    "import time\n",
    "import dask.dataframe as dd\n",
    "from dask.diagnostics import ProgressBar"
   ]
  },
  {
   "cell_type": "code",
   "execution_count": 3,
   "id": "680d4c9e",
   "metadata": {},
   "outputs": [],
   "source": [
    "pbar = ProgressBar()\n",
    "pbar.register()"
   ]
  },
  {
   "cell_type": "code",
   "execution_count": 4,
   "id": "701c49c8",
   "metadata": {},
   "outputs": [],
   "source": [
    "BASE_DIR = \"D:\\VR3D\\VR3D_DATASET\""
   ]
  },
  {
   "cell_type": "code",
   "execution_count": null,
   "id": "ba9661de",
   "metadata": {},
   "outputs": [],
   "source": []
  },
  {
   "cell_type": "code",
   "execution_count": 5,
   "id": "ad6d049a",
   "metadata": {},
   "outputs": [],
   "source": [
    "def  dxf_to_geopandas(dxf_file,ind_dxf):\n",
    "    #doc = ezdxf.readfile(dxf_file[0][ind_dxf])\n",
    "    doc = ezdxf.readfile(dxf_file)\n",
    "    #doc = ezdxf.readfile(\"D:\\VR3D\\VR3D_DATASET\\J35_txt_cutted\\VR3D_paris\\Download\\PARIS_ASS_Z8.dxf\")\n",
    "\n",
    "    #print(dxf_file[0][ind_dxf])\n",
    "    msp = doc.modelspace()\n",
    "    lwschema = msp.query('LWPOLYLINE')\n",
    "    \n",
    "    polys1 = geopandas.GeoSeries()\n",
    "    pol = []\n",
    "    Rayon = []\n",
    "    Z_eleva = []\n",
    "    for pline in lwschema :\n",
    "        Z_eleva.append(pline.dxf.elevation)\n",
    "        if not pline.has_arc:\n",
    "            poly = []\n",
    "            ma_x = []\n",
    "            ma_y = []\n",
    "            for p in range(len(pline)):\n",
    "                x,y,s,e,b = pline[p]\n",
    "                ma_x.append(x)\n",
    "                ma_y.append(y)\n",
    "                poly.append((x,y))\n",
    "            pol.append([min(ma_x),min(ma_y),max(ma_x),max(ma_y)])\n",
    "            #pol.append(poly)\n",
    "            #poly[0] = (poly[0][0]+10.00000,poly[0][1])\n",
    "            polys1 = polys1.append(geopandas.GeoSeries([Polygon(poly)]),ignore_index = True)\n",
    "        else :\n",
    "            polygon_data = {}\n",
    "            bulg = []\n",
    "            cx = []\n",
    "            cy = []\n",
    "            radius = []\n",
    "            nxt = 0\n",
    "\n",
    "            for pl in range(len(pline)):\n",
    "                x, y, s, e, b = pline[pl]\n",
    "                bulg.append(b)\n",
    "                polygon_data[pl] = [x, y]\n",
    "\n",
    "                if nxt > 0 :\n",
    "                    C = math.bulge_center(polygon_data[nxt-1],polygon_data[nxt],bulg[nxt-1])\n",
    "                    cx.append(C[0])\n",
    "                    cy.append(C[1])\n",
    "                    R = math.bulge_radius(polygon_data[nxt - 1], polygon_data[nxt], bulg[nxt - 1])\n",
    "                    radius.append(R)\n",
    "\n",
    "                if pl+1 == len(pline) :\n",
    "                    centerX = np.mean(cx)\n",
    "                    centerY = np.mean(cy)\n",
    "                    cercleR = np.mean(radius)\n",
    "                    Rayon.append(cercleR)\n",
    "                    #AllCercle.append([centerX,centerY,cercleR])\n",
    "                    cx = []\n",
    "                    cy = []\n",
    "                    radius = []\n",
    "                nxt += 1\n",
    "            pol.append([centerX - cercleR,centerY - cercleR,centerX + cercleR,centerY + cercleR])\n",
    "            polys1 = polys1.append(geopandas.GeoSeries([Point(centerX,centerY).buffer(cercleR)]),ignore_index = True)\n",
    "    return pol,polys1,Z_eleva\n",
    "        "
   ]
  },
  {
   "cell_type": "code",
   "execution_count": null,
   "id": "e093b20e",
   "metadata": {},
   "outputs": [],
   "source": []
  },
  {
   "cell_type": "code",
   "execution_count": 6,
   "id": "8d397d67",
   "metadata": {},
   "outputs": [],
   "source": [
    "def run(dxf_file):\n",
    "    pg = pd.DataFrame()\n",
    "    poly_geopandas = geopandas.GeoSeries()\n",
    "    Z_eleva = pd.DataFrame()\n",
    "    for i in range(1):\n",
    "        pgs,polys_geopandas,Z_ele = dxf_to_geopandas(dxf_file,i)\n",
    "        if len(polys_geopandas) == 1:\n",
    "            pass\n",
    "        else :\n",
    "            pg = pg.append(pgs[:],ignore_index=True)\n",
    "            poly_geopandas = poly_geopandas.append(polys_geopandas[:],ignore_index = True)\n",
    "            Z_eleva = Z_eleva.append(Z_ele[:],ignore_index=True)\n",
    "    return pg,poly_geopandas,Z_eleva"
   ]
  },
  {
   "cell_type": "markdown",
   "id": "951f0fb0",
   "metadata": {},
   "source": [
    "Pour Le Gros Data"
   ]
  },
  {
   "cell_type": "code",
   "execution_count": 7,
   "id": "a0131e49",
   "metadata": {},
   "outputs": [],
   "source": [
    "def cherche_dask(i,ddf,pg):\n",
    "    #ddf = ddf.rename(columns={0:'X',1:'Y',2:'Z',3:'I'})\n",
    "    ddf['L'] = 0\n",
    "    df1 = ddf[(ddf.X >= pg[0][i])&(ddf.X <= pg[2][i])&(ddf.Y >= pg[1][i])&(ddf.Y <= pg[3][i])]\n",
    "    return df1"
   ]
  },
  {
   "cell_type": "code",
   "execution_count": 8,
   "id": "c027ab91",
   "metadata": {},
   "outputs": [],
   "source": [
    "def create_fichier_list(poly_geopandas,ind_zone,Name,Name_reseau):\n",
    "    '''\n",
    "    Name :'Paris','Bordeau',...\n",
    "    Name_reseau : 'ASS','TELECOM',...\n",
    "    ind_zone : 1,2,3,...\n",
    "    '''\n",
    "    fichier_list = []\n",
    "    for i in range(len(poly_geopandas)):\n",
    "        # _path = \"D:\\VR3D\\VR3D_DATASET\\Out_chambre\\Paris\\\\Paris_Z1\\\\ASS\"\n",
    "        _path = BASE_DIR+'\\Out_chambre\\\\'+Name+'\\\\'+Name+'_Z'+str(ind_zone+1)\n",
    "        if os.path.exists(_path):\n",
    "            if os.path.exists(_path+'\\\\'+Name_reseau):\n",
    "                fichier_list.append(_path+'\\\\'+Name_reseau+\n",
    "                            '\\\\Nuage_points_'+str(i)+'.txt')\n",
    "            else :\n",
    "                os.mkdir(_path+'\\\\'+Name_reseau)\n",
    "                fichier_list.append(_path+'\\\\'+Name_reseau+\n",
    "                            '\\\\Nuage_points_'+str(i)+'.txt')\n",
    "        else :\n",
    "            os.mkdir(_path)\n",
    "            os.mkdir(_path+'\\\\'+Name_reseau)\n",
    "            fichier_list.append(_path+'\\\\'+Name_reseau+'\\\\Nuage_points_'+str(i)+'.txt')\n",
    "    return  fichier_list"
   ]
  },
  {
   "cell_type": "code",
   "execution_count": 9,
   "id": "3aab1a8b",
   "metadata": {},
   "outputs": [],
   "source": [
    "def train(couple,poly_geopandas,path_dxf,ind_zone,Name,Name_reseau):\n",
    "    for i in range(len(couple)):\n",
    "        df = pd.DataFrame(poly_geopandas.contains(Point(couple.loc[i][0],couple.loc[i][1])))\n",
    "        index = df.index\n",
    "        condition = df[0] == True\n",
    "        ind = index[condition]\n",
    "        if not ind.empty:\n",
    "            couple['L'][i] = 1\n",
    "            fichier_list = create_fichier_list(poly_geopandas,ind_zone,Name,Name_reseau)\n",
    "            fichier = open(fichier_list[ind[0]],'a')\n",
    "            fichier.write(str(couple.loc[i][0])+' '+str(couple.loc[i][1])+' '\n",
    "                      +str(couple.loc[i][2])+' '+str(couple.loc[i][3])+' '+str(couple.loc[i][4])+'\\n')\n",
    "            fichier.close()\n",
    "            \n",
    "    return couple"
   ]
  },
  {
   "cell_type": "code",
   "execution_count": 10,
   "id": "bff2db80",
   "metadata": {},
   "outputs": [
    {
     "data": {
      "text/plain": [
       "\"def final_train():\\n    for i in range(218):\\n        chre = cherche_dask(i)\\n        data_final = chre.compute()\\n        data_final = data_final.reset_index(drop = True)\\n        train(data_final)\\n        print('--------------------',i,'-----------------')\\n \""
      ]
     },
     "execution_count": 10,
     "metadata": {},
     "output_type": "execute_result"
    }
   ],
   "source": [
    "'''def final_train():\n",
    "    for i in range(218):\n",
    "        chre = cherche_dask(i)\n",
    "        data_final = chre.compute()\n",
    "        data_final = data_final.reset_index(drop = True)\n",
    "        train(data_final)\n",
    "        print('--------------------',i,'-----------------')\n",
    " '''   "
   ]
  },
  {
   "cell_type": "code",
   "execution_count": 31,
   "id": "71b868e8",
   "metadata": {},
   "outputs": [],
   "source": [
    "def final_train_sans_dask(pg,poly_geopandas,path_dxf,ind_zone,Name,Name_reseau):\n",
    "    #fil_list = pd.read_csv(\n",
    "    fil_list = pd.read_csv(BASE_DIR+'\\Out_nuage\\Down_sample\\Down_sample_'+\n",
    "                           Name+'_0.5\\List_file.txt')\n",
    "    print(len(fil_list))\n",
    "    #for j in range(len(fil_list)):\n",
    "    ddf = pd.read_csv(fil_list['0'][ind_zone])\n",
    "    #ddf['L'] = 0\n",
    "    for i in range(len(pg)):#116#nbr de chambre\n",
    "        data_final = cherche_dask(i,ddf,pg)\n",
    "        data_final = data_final.reset_index(drop = True)\n",
    "        train(data_final,poly_geopandas,path_dxf,ind_zone,Name,Name_reseau)\n",
    "        print('--------------------',i,ind_zone,'-----------------')\n",
    "        "
   ]
  },
  {
   "cell_type": "code",
   "execution_count": null,
   "id": "1a4551de",
   "metadata": {},
   "outputs": [],
   "source": []
  },
  {
   "cell_type": "markdown",
   "id": "0f98c450",
   "metadata": {},
   "source": [
    "Ecrire tous les fichiers dxf par zone dans un fichier"
   ]
  },
  {
   "cell_type": "code",
   "execution_count": 11,
   "id": "52ebe6ec",
   "metadata": {},
   "outputs": [],
   "source": [
    "def create_list_zone(Name):\n",
    "    _path = BASE_DIR+'\\J35_txt_cutted\\\\VR3D_'+Name+'\\\\DXF_file'\n",
    "    os.chdir(_path)\n",
    "    fichier = open(_path+'\\\\List_file.txt','w')\n",
    "    for file in glob.glob('*'):\n",
    "        if '.txt' in file:\n",
    "            pass\n",
    "        else :\n",
    "            fichier.write(_path+'\\\\'+file+'\\n')\n",
    "    fichier.close()"
   ]
  },
  {
   "cell_type": "code",
   "execution_count": 12,
   "id": "6cc95a17",
   "metadata": {},
   "outputs": [],
   "source": [
    "def create_list_reseau(Name,ind_zone,shp):\n",
    "    for i in range(shp):\n",
    "        _path = BASE_DIR+'\\J35_txt_cutted\\\\VR3D_'+Name+'\\\\DXF_file\\Z'+str(ind_zone+1)\n",
    "        os.chdir(_path)\n",
    "        fichier = open(_path+'\\\\List_file.txt','w')\n",
    "        for file in glob.glob(\"*\"):\n",
    "            if '.txt' in file:\n",
    "                pass\n",
    "            else : \n",
    "                fichier.write(_path+'\\\\'+file+'\\n')\n",
    "        fichier.close()"
   ]
  },
  {
   "cell_type": "code",
   "execution_count": 26,
   "id": "8ec2aa92",
   "metadata": {},
   "outputs": [],
   "source": [
    "def run_final(Name):\n",
    "    create_list_zone(Name)\n",
    "    shp = len(pd.read_csv(BASE_DIR+'\\J35_txt_cutted\\\\VR3D_'+Name+'\\\\DXF_file\\\\List_file.txt',header=None))\n",
    "    for j in range(shp): # j : Zone\n",
    "        create_list_reseau(Name,j,shp)\n",
    "        R_path = pd.read_csv(BASE_DIR+'\\J35_txt_cutted\\\\VR3D_'+\n",
    "                             Name+'\\\\DXF_file\\Z'+str(j+1)+'\\\\List_file.txt',header=None)\n",
    "        \n",
    "        for i in range(len(R_path)): # i :Reseau\n",
    "            _path = R_path[0][i]\n",
    "            os.chdir(_path)    \n",
    "            for file in glob.glob(\"*.dxf\"):\n",
    "                dxf_file = _path+'\\\\'+file\n",
    "            print(dxf_file)\n",
    "            pg,poly_geopandas,Z_eleva = run(dxf_file)\n",
    "            print(len(pg),'len')\n",
    "            pg.to_csv(_path+'\\\\Max_Min_chambre.txt',index = False)\n",
    "            poly_geopandas.to_csv(_path+'\\\\Pd_Geopandas_chambre.txt',index = False)\n",
    "            Z_eleva.to_csv(_path+'\\\\Z_elevation.txt',index = False)\n",
    "            final_train_sans_dask(pg,poly_geopandas,_path,j,Name,R_path[0][i].split('\\\\')[-1])#59 : ??????????\n",
    "            print(f'----------Le reseau n:{i} de zone n : {j} est balaye----------')"
   ]
  },
  {
   "cell_type": "code",
   "execution_count": 33,
   "id": "093e53a9",
   "metadata": {},
   "outputs": [
    {
     "name": "stdout",
     "output_type": "stream",
     "text": [
      "D:\\VR3D\\VR3D_DATASET\\J35_txt_cutted\\VR3D_XX\\DXF_file\\Z1\\ASS\\PUY-DE-DOME_ASS_1-11.dxf\n",
      "59 len\n",
      "1\n"
     ]
    },
    {
     "name": "stderr",
     "output_type": "stream",
     "text": [
      "C:\\Users\\A2921~1.RAK\\AppData\\Local\\Temp/ipykernel_24352/3114565400.py:8: SettingWithCopyWarning: \n",
      "A value is trying to be set on a copy of a slice from a DataFrame\n",
      "\n",
      "See the caveats in the documentation: https://pandas.pydata.org/pandas-docs/stable/user_guide/indexing.html#returning-a-view-versus-a-copy\n",
      "  couple['L'][i] = 1\n"
     ]
    },
    {
     "name": "stdout",
     "output_type": "stream",
     "text": [
      "-------------------- 0 0 -----------------\n",
      "-------------------- 1 0 -----------------\n",
      "-------------------- 2 0 -----------------\n",
      "-------------------- 3 0 -----------------\n",
      "-------------------- 4 0 -----------------\n",
      "-------------------- 5 0 -----------------\n",
      "-------------------- 6 0 -----------------\n",
      "-------------------- 7 0 -----------------\n",
      "-------------------- 8 0 -----------------\n",
      "-------------------- 9 0 -----------------\n",
      "-------------------- 10 0 -----------------\n",
      "-------------------- 11 0 -----------------\n",
      "-------------------- 12 0 -----------------\n",
      "-------------------- 13 0 -----------------\n",
      "-------------------- 14 0 -----------------\n",
      "-------------------- 15 0 -----------------\n",
      "-------------------- 16 0 -----------------\n",
      "-------------------- 17 0 -----------------\n",
      "-------------------- 18 0 -----------------\n",
      "-------------------- 19 0 -----------------\n",
      "-------------------- 20 0 -----------------\n",
      "-------------------- 21 0 -----------------\n",
      "-------------------- 22 0 -----------------\n",
      "-------------------- 23 0 -----------------\n",
      "-------------------- 24 0 -----------------\n",
      "-------------------- 25 0 -----------------\n",
      "-------------------- 26 0 -----------------\n",
      "-------------------- 27 0 -----------------\n",
      "-------------------- 28 0 -----------------\n",
      "-------------------- 29 0 -----------------\n",
      "-------------------- 30 0 -----------------\n",
      "-------------------- 31 0 -----------------\n",
      "-------------------- 32 0 -----------------\n",
      "-------------------- 33 0 -----------------\n",
      "-------------------- 34 0 -----------------\n",
      "-------------------- 35 0 -----------------\n",
      "-------------------- 36 0 -----------------\n",
      "-------------------- 37 0 -----------------\n",
      "-------------------- 38 0 -----------------\n",
      "-------------------- 39 0 -----------------\n",
      "-------------------- 40 0 -----------------\n",
      "-------------------- 41 0 -----------------\n",
      "-------------------- 42 0 -----------------\n",
      "-------------------- 43 0 -----------------\n",
      "-------------------- 44 0 -----------------\n",
      "-------------------- 45 0 -----------------\n",
      "-------------------- 46 0 -----------------\n",
      "-------------------- 47 0 -----------------\n",
      "-------------------- 48 0 -----------------\n",
      "-------------------- 49 0 -----------------\n",
      "-------------------- 50 0 -----------------\n",
      "-------------------- 51 0 -----------------\n",
      "-------------------- 52 0 -----------------\n",
      "-------------------- 53 0 -----------------\n",
      "-------------------- 54 0 -----------------\n",
      "-------------------- 55 0 -----------------\n",
      "-------------------- 56 0 -----------------\n",
      "-------------------- 57 0 -----------------\n",
      "-------------------- 58 0 -----------------\n",
      "----------Le reseau n:0 de zone n : 0 est balaye----------\n"
     ]
    }
   ],
   "source": [
    "run_final('XX')"
   ]
  },
  {
   "cell_type": "code",
   "execution_count": 158,
   "id": "aa7d21a5",
   "metadata": {},
   "outputs": [
    {
     "data": {
      "text/plain": [
       "\"for i in range(len(Zone_list)):\\n    path_dxf = Zone_list[0][i]\\n    dxf_file = pd.read_csv(path_dxf+'\\\\Dxf_file.txt',header = None)\\n    pg,poly_geopandas,Z_eleva = run(dxf_file)\\n    pg.to_csv(path_dxf+'\\\\Max_Min_chambre.txt',index = False)\\n    poly_geopandas.to_csv(path_dxf+'\\\\Pd_Geopandas_chambre.txt',index = False)\\n    Z_eleva.to_csv(path_dxf+'\\\\Z_elevation.txt',index = False)\\n    #final_train_sans_dask(pg,poly_geopandas,path_dxf,i)# reste commenter cette ligne si le phase de donne_sampling n'est encore fini\\n    print(f'-----Zone n:{i+1}------------')\""
      ]
     },
     "execution_count": 158,
     "metadata": {},
     "output_type": "execute_result"
    }
   ],
   "source": [
    "'''for i in range(len(Zone_list)):\n",
    "    path_dxf = Zone_list[0][i]\n",
    "    dxf_file = pd.read_csv(path_dxf+'\\\\Dxf_file.txt',header = None)\n",
    "    pg,poly_geopandas,Z_eleva = run(dxf_file)\n",
    "    pg.to_csv(path_dxf+'\\\\Max_Min_chambre.txt',index = False)\n",
    "    poly_geopandas.to_csv(path_dxf+'\\\\Pd_Geopandas_chambre.txt',index = False)\n",
    "    Z_eleva.to_csv(path_dxf+'\\\\Z_elevation.txt',index = False)\n",
    "    #final_train_sans_dask(pg,poly_geopandas,path_dxf,i)# reste commenter cette ligne si le phase de donne_sampling n'est encore fini\n",
    "    print(f'-----Zone n:{i+1}------------')'''"
   ]
  },
  {
   "cell_type": "code",
   "execution_count": null,
   "id": "d6ae8f30",
   "metadata": {},
   "outputs": [],
   "source": []
  },
  {
   "cell_type": "code",
   "execution_count": null,
   "id": "c81e8ca3",
   "metadata": {},
   "outputs": [],
   "source": []
  },
  {
   "cell_type": "markdown",
   "id": "d80e63bb",
   "metadata": {},
   "source": [
    "Faire de filtrage en utilisant Z_elevation\n"
   ]
  },
  {
   "cell_type": "code",
   "execution_count": 34,
   "id": "7b2f575f",
   "metadata": {},
   "outputs": [],
   "source": [
    "def initialise_stat(fil_list,Z_eleva):\n",
    "    \n",
    "    stat_descr = fil_list.copy()\n",
    "    stat_descr = stat_descr.rename({0:'Name_chambre'},axis=1)\n",
    "    Min_chambr = []\n",
    "    Z_elevation = []\n",
    "    Max_chambr = []\n",
    "    shp = len(fil_list[0][0]) - 5\n",
    "    for i in range(len(fil_list)):\n",
    "        Min_chambr.append(pd.read_csv(fil_list[0][i],header=None,sep=' ')[2].min())\n",
    "        Max_chambr.append(pd.read_csv(fil_list[0][i],header=None,sep=' ')[2].max())\n",
    "        Z_elevation.append(Z_eleva['0'][int(fil_list[0][i][shp:][:-4])])#56 ou 53\n",
    "            \n",
    "    stat_descr['Min/chambr'] = Min_chambr\n",
    "    stat_descr['Z_elevation'] = Z_elevation\n",
    "    stat_descr['Max/chambr'] = Max_chambr\n",
    "    stat_descr['Diff_MIn'] = stat_descr['Min/chambr'] - stat_descr['Z_elevation']\n",
    "    stat_descr['Diff_Max'] = stat_descr['Max/chambr'] - stat_descr['Z_elevation']\n",
    "    return stat_descr"
   ]
  },
  {
   "cell_type": "code",
   "execution_count": 35,
   "id": "b73f4741",
   "metadata": {},
   "outputs": [],
   "source": [
    "def get_filtre(stat_descr):\n",
    "    stat_descr['Z_filter_Mean'] = stat_descr.Z_elevation + stat_descr.Diff_MIn.median()#Utilisation Min.mean\n",
    "    alpha_coeff = stat_descr[stat_descr['Max/chambr'] == stat_descr['Max/chambr'].min()]\n",
    "    alpha_index = alpha_coeff.index[0]\n",
    "    alpha_coeff = alpha_coeff.Diff_Max[alpha_index]\n",
    "    stat_descr['Z_filter_Max_Min'] = stat_descr.Z_elevation + alpha_coeff#Utilisation Max_Min\n",
    "    return stat_descr"
   ]
  },
  {
   "cell_type": "code",
   "execution_count": null,
   "id": "0b932372",
   "metadata": {},
   "outputs": [],
   "source": []
  },
  {
   "cell_type": "code",
   "execution_count": null,
   "id": "69bef5bf",
   "metadata": {},
   "outputs": [],
   "source": []
  },
  {
   "cell_type": "markdown",
   "id": "8ab4b0e4",
   "metadata": {},
   "source": [
    "Filtrage & Ecriture de fichier final"
   ]
  },
  {
   "cell_type": "markdown",
   "id": "7424a188",
   "metadata": {},
   "source": [
    "Approche Troitoir & route--------------------"
   ]
  },
  {
   "cell_type": "code",
   "execution_count": 36,
   "id": "6202750b",
   "metadata": {},
   "outputs": [
    {
     "data": {
      "text/plain": [
       "\"def Isolation(stat_descr,name_filter): \\n    Isolatio = pd.DataFrame()\\n    Name_ch = []\\n    for i in range(len(stat_descr)):\\n        chmbr = pd.read_csv(stat_descr.Name_chambre.loc[i],header=None,sep=' ')\\n        chmbr = chmbr[chmbr[2] <= stat_descr.Z_filter_Max_Min[i]]\\n        if len(chmbr) >= 2:\\n            print(stat_descr.Name_chambre.loc[i])\\n            chmbr.to_csv(stat_descr.Name_chambre.loc[i][:-4]+name_filter+'.txt',index=False)\\n            Name_ch.append(stat_descr.Name_chambre.loc[i][:-4]+name_filter+'.txt')\\n    return Name_ch\""
      ]
     },
     "execution_count": 36,
     "metadata": {},
     "output_type": "execute_result"
    }
   ],
   "source": [
    "'''def Isolation(stat_descr,name_filter): \n",
    "    Isolatio = pd.DataFrame()\n",
    "    Name_ch = []\n",
    "    for i in range(len(stat_descr)):\n",
    "        chmbr = pd.read_csv(stat_descr.Name_chambre.loc[i],header=None,sep=' ')\n",
    "        chmbr = chmbr[chmbr[2] <= stat_descr.Z_filter_Max_Min[i]]\n",
    "        if len(chmbr) >= 2:\n",
    "            print(stat_descr.Name_chambre.loc[i])\n",
    "            chmbr.to_csv(stat_descr.Name_chambre.loc[i][:-4]+name_filter+'.txt',index=False)\n",
    "            Name_ch.append(stat_descr.Name_chambre.loc[i][:-4]+name_filter+'.txt')\n",
    "    return Name_ch'''"
   ]
  },
  {
   "cell_type": "code",
   "execution_count": 37,
   "id": "334ce9e5",
   "metadata": {},
   "outputs": [],
   "source": [
    "#name_filter = ['route','trotoir'] #filtrage sur la route et filtrage aux trotoir"
   ]
  },
  {
   "cell_type": "code",
   "execution_count": 38,
   "id": "331488b8",
   "metadata": {},
   "outputs": [
    {
     "data": {
      "text/plain": [
       "\"Name_ch = pd.DataFrame()\\nfor i in range(len(name_filtre)):\\n    stat_descr = get_filtre(stat_descr)\\n    Name_ch = Name_ch.append(Isolation(stat_descr,name_filtre[i]))\\n    stat_descr = stat_descr[stat_descr['Min/chambr']>stat_descr.Z_filter_Max_Min]\\n    stat_descr = stat_descr.reset_index(drop=True)\\nName_ch.to_csv(stat_descr.Name_chambre.loc[0][:40]+'Fil_list_filtre2.txt',index=False)\""
      ]
     },
     "execution_count": 38,
     "metadata": {},
     "output_type": "execute_result"
    }
   ],
   "source": [
    "'''Name_ch = pd.DataFrame()\n",
    "for i in range(len(name_filtre)):\n",
    "    stat_descr = get_filtre(stat_descr)\n",
    "    Name_ch = Name_ch.append(Isolation(stat_descr,name_filtre[i]))\n",
    "    stat_descr = stat_descr[stat_descr['Min/chambr']>stat_descr.Z_filter_Max_Min]\n",
    "    stat_descr = stat_descr.reset_index(drop=True)\n",
    "Name_ch.to_csv(stat_descr.Name_chambre.loc[0][:40]+'Fil_list_filtre2.txt',index=False)'''"
   ]
  },
  {
   "cell_type": "markdown",
   "id": "84d7217a",
   "metadata": {},
   "source": [
    "---------------------------------------------"
   ]
  },
  {
   "cell_type": "markdown",
   "id": "fd7aab36",
   "metadata": {},
   "source": [
    "Approche Mean"
   ]
  },
  {
   "cell_type": "code",
   "execution_count": 39,
   "id": "434c4fa5",
   "metadata": {},
   "outputs": [],
   "source": [
    "def Isolation(stat_descr): \n",
    "    Name_ch = []\n",
    "    for i in range(len(stat_descr)):\n",
    "        chmbr = pd.read_csv(stat_descr.Name_chambre.loc[i],header=None,sep=' ')\n",
    "        chmbr = chmbr[chmbr[2] <= stat_descr.Z_filter_Mean[i]+0.1]\n",
    "        if len(chmbr) >= 2:\n",
    "            print(stat_descr.Name_chambre.loc[i])\n",
    "            print(stat_descr.Name_chambre.loc[i][:-4]+'filter.txt')\n",
    "            chmbr.to_csv(stat_descr.Name_chambre.loc[i][:-4]+'filter.txt',index=False)\n",
    "            Name_ch.append([stat_descr.Name_chambre.loc[i][:-4]+'filter.txt'])\n",
    "    #pd.DataFrame(Name_ch).to_csv(stat_descr.Name_chambre.loc[0][:40]+'Fil_list_filtre.txt',index=False)\n",
    "    "
   ]
  },
  {
   "cell_type": "code",
   "execution_count": 40,
   "id": "beefd682",
   "metadata": {},
   "outputs": [],
   "source": [
    "def create_list_reseau(Name,ind_zone):\n",
    "    _path = BASE_DIR+'\\Out_chambre\\\\'+Name+'\\\\'+Name+'_Z'+str(ind_zone+1)\n",
    "    os.chdir(_path)\n",
    "    fichier = open(_path+'\\\\List_file.txt','w')\n",
    "    for file in glob.glob('*'):\n",
    "        if '.txt' in file:\n",
    "            pass\n",
    "        else :\n",
    "            fichier.write(_path+'\\\\'+file+'\\n')\n",
    "    fichier.close()"
   ]
  },
  {
   "cell_type": "code",
   "execution_count": 41,
   "id": "6630aa47",
   "metadata": {},
   "outputs": [],
   "source": [
    "def create_list_chambre(Name,ind_zone):\n",
    "    _path = BASE_DIR+'\\Out_chambre\\\\'+Name+'\\\\'+Name+'_Z'+str(ind_zone+1)\n",
    "    x_temp = pd.read_csv(_path+'\\\\List_file.txt',header=None)\n",
    "    for i in range(len(x_temp)):\n",
    "        os.chdir(x_temp[0][i])\n",
    "        fichier = open(x_temp[0][i]+'\\\\List_file.txt','w')\n",
    "        for file in glob.glob('N*.txt'):\n",
    "            fichier.write(x_temp[0][i]+'\\\\'+file+'\\n')\n",
    "        fichier.close()"
   ]
  },
  {
   "cell_type": "code",
   "execution_count": 45,
   "id": "54f3b067",
   "metadata": {},
   "outputs": [],
   "source": [
    "def run_stat(Name):\n",
    "    for i in range(1):#  8 :nombre de zone a travaille\n",
    "        # creation de list_reseau et list_chambre\n",
    "        create_list_reseau(Name,i)\n",
    "        create_list_chambre(Name,i)\n",
    "        \n",
    "        List_Reseau = pd.read_csv(BASE_DIR+'\\Out_chambre\\\\'\n",
    "                                  +Name+'\\\\'+Name+'_Z'+str(i+1)+'\\List_file.txt',header = None)\n",
    "        List_Rdxf = pd.read_csv(BASE_DIR+'\\J35_txt_cutted\\\\VR3D_'\n",
    "                                +Name+'\\\\DXF_file\\\\Z'+str(i+1)+'\\List_file.txt',header=None)\n",
    "        \n",
    "        for j in range(len(List_Reseau)):# j : Nombre de Reseau pour chaque Zone \n",
    "            # list de chambre par reseau pour chaque Zone\n",
    "            fil_list = pd.read_csv(List_Reseau[0][j]+\"\\List_file.txt\",header=None)\n",
    "            Z_eleva = pd.read_csv(List_Rdxf[0][j]+\"\\Z_elevation.txt\")\n",
    "            stat_descr = initialise_stat(fil_list,Z_eleva)\n",
    "        \n",
    "            #Enregistrement de la statistique du model \n",
    "            pd.DataFrame(stat_descr.Diff_MIn.describe()).to_csv(List_Reseau[0][j]+'\\\\stat_files.txt')\n",
    "        \n",
    "            # Filtrage de chaque chambre \n",
    "            stat_descr = get_filtre(stat_descr)\n",
    "            Isolation(stat_descr)\n",
    "            print(f'Filtrage chambre du reseau n:{j} de la zone n:{i} est fini')"
   ]
  },
  {
   "cell_type": "code",
   "execution_count": 49,
   "id": "f31be5cc",
   "metadata": {},
   "outputs": [
    {
     "name": "stdout",
     "output_type": "stream",
     "text": [
      "0\n"
     ]
    }
   ],
   "source": [
    "for i in range(1):\n",
    "    print(i)"
   ]
  },
  {
   "cell_type": "code",
   "execution_count": 46,
   "id": "42bf0c5b",
   "metadata": {},
   "outputs": [
    {
     "ename": "KeyError",
     "evalue": "2",
     "output_type": "error",
     "traceback": [
      "\u001b[1;31m---------------------------------------------------------------------------\u001b[0m",
      "\u001b[1;31mKeyError\u001b[0m                                  Traceback (most recent call last)",
      "\u001b[1;32m~\\Anaconda3\\envs\\geo_env\\lib\\site-packages\\pandas\\core\\indexes\\base.py\u001b[0m in \u001b[0;36mget_loc\u001b[1;34m(self, key, method, tolerance)\u001b[0m\n\u001b[0;32m   3360\u001b[0m             \u001b[1;32mtry\u001b[0m\u001b[1;33m:\u001b[0m\u001b[1;33m\u001b[0m\u001b[1;33m\u001b[0m\u001b[0m\n\u001b[1;32m-> 3361\u001b[1;33m                 \u001b[1;32mreturn\u001b[0m \u001b[0mself\u001b[0m\u001b[1;33m.\u001b[0m\u001b[0m_engine\u001b[0m\u001b[1;33m.\u001b[0m\u001b[0mget_loc\u001b[0m\u001b[1;33m(\u001b[0m\u001b[0mcasted_key\u001b[0m\u001b[1;33m)\u001b[0m\u001b[1;33m\u001b[0m\u001b[1;33m\u001b[0m\u001b[0m\n\u001b[0m\u001b[0;32m   3362\u001b[0m             \u001b[1;32mexcept\u001b[0m \u001b[0mKeyError\u001b[0m \u001b[1;32mas\u001b[0m \u001b[0merr\u001b[0m\u001b[1;33m:\u001b[0m\u001b[1;33m\u001b[0m\u001b[1;33m\u001b[0m\u001b[0m\n",
      "\u001b[1;32m~\\Anaconda3\\envs\\geo_env\\lib\\site-packages\\pandas\\_libs\\index.pyx\u001b[0m in \u001b[0;36mpandas._libs.index.IndexEngine.get_loc\u001b[1;34m()\u001b[0m\n",
      "\u001b[1;32m~\\Anaconda3\\envs\\geo_env\\lib\\site-packages\\pandas\\_libs\\index.pyx\u001b[0m in \u001b[0;36mpandas._libs.index.IndexEngine.get_loc\u001b[1;34m()\u001b[0m\n",
      "\u001b[1;32mpandas\\_libs\\hashtable_class_helper.pxi\u001b[0m in \u001b[0;36mpandas._libs.hashtable.Int64HashTable.get_item\u001b[1;34m()\u001b[0m\n",
      "\u001b[1;32mpandas\\_libs\\hashtable_class_helper.pxi\u001b[0m in \u001b[0;36mpandas._libs.hashtable.Int64HashTable.get_item\u001b[1;34m()\u001b[0m\n",
      "\u001b[1;31mKeyError\u001b[0m: 2",
      "\nThe above exception was the direct cause of the following exception:\n",
      "\u001b[1;31mKeyError\u001b[0m                                  Traceback (most recent call last)",
      "\u001b[1;32mC:\\Users\\A2921~1.RAK\\AppData\\Local\\Temp/ipykernel_24352/2405787452.py\u001b[0m in \u001b[0;36m<module>\u001b[1;34m\u001b[0m\n\u001b[1;32m----> 1\u001b[1;33m \u001b[0mrun_stat\u001b[0m\u001b[1;33m(\u001b[0m\u001b[1;34m'XX'\u001b[0m\u001b[1;33m)\u001b[0m\u001b[1;33m\u001b[0m\u001b[1;33m\u001b[0m\u001b[0m\n\u001b[0m",
      "\u001b[1;32mC:\\Users\\A2921~1.RAK\\AppData\\Local\\Temp/ipykernel_24352/3644990506.py\u001b[0m in \u001b[0;36mrun_stat\u001b[1;34m(Name)\u001b[0m\n\u001b[0;32m     14\u001b[0m             \u001b[0mfil_list\u001b[0m \u001b[1;33m=\u001b[0m \u001b[0mpd\u001b[0m\u001b[1;33m.\u001b[0m\u001b[0mread_csv\u001b[0m\u001b[1;33m(\u001b[0m\u001b[0mList_Reseau\u001b[0m\u001b[1;33m[\u001b[0m\u001b[1;36m0\u001b[0m\u001b[1;33m]\u001b[0m\u001b[1;33m[\u001b[0m\u001b[0mj\u001b[0m\u001b[1;33m]\u001b[0m\u001b[1;33m+\u001b[0m\u001b[1;34m\"\\List_file.txt\"\u001b[0m\u001b[1;33m,\u001b[0m\u001b[0mheader\u001b[0m\u001b[1;33m=\u001b[0m\u001b[1;32mNone\u001b[0m\u001b[1;33m)\u001b[0m\u001b[1;33m\u001b[0m\u001b[1;33m\u001b[0m\u001b[0m\n\u001b[0;32m     15\u001b[0m             \u001b[0mZ_eleva\u001b[0m \u001b[1;33m=\u001b[0m \u001b[0mpd\u001b[0m\u001b[1;33m.\u001b[0m\u001b[0mread_csv\u001b[0m\u001b[1;33m(\u001b[0m\u001b[0mList_Rdxf\u001b[0m\u001b[1;33m[\u001b[0m\u001b[1;36m0\u001b[0m\u001b[1;33m]\u001b[0m\u001b[1;33m[\u001b[0m\u001b[0mj\u001b[0m\u001b[1;33m]\u001b[0m\u001b[1;33m+\u001b[0m\u001b[1;34m\"\\Z_elevation.txt\"\u001b[0m\u001b[1;33m)\u001b[0m\u001b[1;33m\u001b[0m\u001b[1;33m\u001b[0m\u001b[0m\n\u001b[1;32m---> 16\u001b[1;33m             \u001b[0mstat_descr\u001b[0m \u001b[1;33m=\u001b[0m \u001b[0minitialise_stat\u001b[0m\u001b[1;33m(\u001b[0m\u001b[0mfil_list\u001b[0m\u001b[1;33m,\u001b[0m\u001b[0mZ_eleva\u001b[0m\u001b[1;33m)\u001b[0m\u001b[1;33m\u001b[0m\u001b[1;33m\u001b[0m\u001b[0m\n\u001b[0m\u001b[0;32m     17\u001b[0m \u001b[1;33m\u001b[0m\u001b[0m\n\u001b[0;32m     18\u001b[0m             \u001b[1;31m#Enregistrement de la statistique du model\u001b[0m\u001b[1;33m\u001b[0m\u001b[1;33m\u001b[0m\u001b[0m\n",
      "\u001b[1;32mC:\\Users\\A2921~1.RAK\\AppData\\Local\\Temp/ipykernel_24352/790153681.py\u001b[0m in \u001b[0;36minitialise_stat\u001b[1;34m(fil_list, Z_eleva)\u001b[0m\n\u001b[0;32m      8\u001b[0m     \u001b[0mshp\u001b[0m \u001b[1;33m=\u001b[0m \u001b[0mlen\u001b[0m\u001b[1;33m(\u001b[0m\u001b[0mfil_list\u001b[0m\u001b[1;33m[\u001b[0m\u001b[1;36m0\u001b[0m\u001b[1;33m]\u001b[0m\u001b[1;33m[\u001b[0m\u001b[1;36m0\u001b[0m\u001b[1;33m]\u001b[0m\u001b[1;33m)\u001b[0m \u001b[1;33m-\u001b[0m \u001b[1;36m5\u001b[0m\u001b[1;33m\u001b[0m\u001b[1;33m\u001b[0m\u001b[0m\n\u001b[0;32m      9\u001b[0m     \u001b[1;32mfor\u001b[0m \u001b[0mi\u001b[0m \u001b[1;32min\u001b[0m \u001b[0mrange\u001b[0m\u001b[1;33m(\u001b[0m\u001b[0mlen\u001b[0m\u001b[1;33m(\u001b[0m\u001b[0mfil_list\u001b[0m\u001b[1;33m)\u001b[0m\u001b[1;33m)\u001b[0m\u001b[1;33m:\u001b[0m\u001b[1;33m\u001b[0m\u001b[1;33m\u001b[0m\u001b[0m\n\u001b[1;32m---> 10\u001b[1;33m         \u001b[0mMin_chambr\u001b[0m\u001b[1;33m.\u001b[0m\u001b[0mappend\u001b[0m\u001b[1;33m(\u001b[0m\u001b[0mpd\u001b[0m\u001b[1;33m.\u001b[0m\u001b[0mread_csv\u001b[0m\u001b[1;33m(\u001b[0m\u001b[0mfil_list\u001b[0m\u001b[1;33m[\u001b[0m\u001b[1;36m0\u001b[0m\u001b[1;33m]\u001b[0m\u001b[1;33m[\u001b[0m\u001b[0mi\u001b[0m\u001b[1;33m]\u001b[0m\u001b[1;33m,\u001b[0m\u001b[0mheader\u001b[0m\u001b[1;33m=\u001b[0m\u001b[1;32mNone\u001b[0m\u001b[1;33m,\u001b[0m\u001b[0msep\u001b[0m\u001b[1;33m=\u001b[0m\u001b[1;34m' '\u001b[0m\u001b[1;33m)\u001b[0m\u001b[1;33m[\u001b[0m\u001b[1;36m2\u001b[0m\u001b[1;33m]\u001b[0m\u001b[1;33m.\u001b[0m\u001b[0mmin\u001b[0m\u001b[1;33m(\u001b[0m\u001b[1;33m)\u001b[0m\u001b[1;33m)\u001b[0m\u001b[1;33m\u001b[0m\u001b[1;33m\u001b[0m\u001b[0m\n\u001b[0m\u001b[0;32m     11\u001b[0m         \u001b[0mMax_chambr\u001b[0m\u001b[1;33m.\u001b[0m\u001b[0mappend\u001b[0m\u001b[1;33m(\u001b[0m\u001b[0mpd\u001b[0m\u001b[1;33m.\u001b[0m\u001b[0mread_csv\u001b[0m\u001b[1;33m(\u001b[0m\u001b[0mfil_list\u001b[0m\u001b[1;33m[\u001b[0m\u001b[1;36m0\u001b[0m\u001b[1;33m]\u001b[0m\u001b[1;33m[\u001b[0m\u001b[0mi\u001b[0m\u001b[1;33m]\u001b[0m\u001b[1;33m,\u001b[0m\u001b[0mheader\u001b[0m\u001b[1;33m=\u001b[0m\u001b[1;32mNone\u001b[0m\u001b[1;33m,\u001b[0m\u001b[0msep\u001b[0m\u001b[1;33m=\u001b[0m\u001b[1;34m' '\u001b[0m\u001b[1;33m)\u001b[0m\u001b[1;33m[\u001b[0m\u001b[1;36m2\u001b[0m\u001b[1;33m]\u001b[0m\u001b[1;33m.\u001b[0m\u001b[0mmax\u001b[0m\u001b[1;33m(\u001b[0m\u001b[1;33m)\u001b[0m\u001b[1;33m)\u001b[0m\u001b[1;33m\u001b[0m\u001b[1;33m\u001b[0m\u001b[0m\n\u001b[0;32m     12\u001b[0m         \u001b[0mZ_elevation\u001b[0m\u001b[1;33m.\u001b[0m\u001b[0mappend\u001b[0m\u001b[1;33m(\u001b[0m\u001b[0mZ_eleva\u001b[0m\u001b[1;33m[\u001b[0m\u001b[1;34m'0'\u001b[0m\u001b[1;33m]\u001b[0m\u001b[1;33m[\u001b[0m\u001b[0mint\u001b[0m\u001b[1;33m(\u001b[0m\u001b[0mfil_list\u001b[0m\u001b[1;33m[\u001b[0m\u001b[1;36m0\u001b[0m\u001b[1;33m]\u001b[0m\u001b[1;33m[\u001b[0m\u001b[0mi\u001b[0m\u001b[1;33m]\u001b[0m\u001b[1;33m[\u001b[0m\u001b[0mshp\u001b[0m\u001b[1;33m:\u001b[0m\u001b[1;33m]\u001b[0m\u001b[1;33m[\u001b[0m\u001b[1;33m:\u001b[0m\u001b[1;33m-\u001b[0m\u001b[1;36m4\u001b[0m\u001b[1;33m]\u001b[0m\u001b[1;33m)\u001b[0m\u001b[1;33m]\u001b[0m\u001b[1;33m)\u001b[0m\u001b[1;31m#56 ou 53\u001b[0m\u001b[1;33m\u001b[0m\u001b[1;33m\u001b[0m\u001b[0m\n",
      "\u001b[1;32m~\\Anaconda3\\envs\\geo_env\\lib\\site-packages\\pandas\\core\\frame.py\u001b[0m in \u001b[0;36m__getitem__\u001b[1;34m(self, key)\u001b[0m\n\u001b[0;32m   3456\u001b[0m             \u001b[1;32mif\u001b[0m \u001b[0mself\u001b[0m\u001b[1;33m.\u001b[0m\u001b[0mcolumns\u001b[0m\u001b[1;33m.\u001b[0m\u001b[0mnlevels\u001b[0m \u001b[1;33m>\u001b[0m \u001b[1;36m1\u001b[0m\u001b[1;33m:\u001b[0m\u001b[1;33m\u001b[0m\u001b[1;33m\u001b[0m\u001b[0m\n\u001b[0;32m   3457\u001b[0m                 \u001b[1;32mreturn\u001b[0m \u001b[0mself\u001b[0m\u001b[1;33m.\u001b[0m\u001b[0m_getitem_multilevel\u001b[0m\u001b[1;33m(\u001b[0m\u001b[0mkey\u001b[0m\u001b[1;33m)\u001b[0m\u001b[1;33m\u001b[0m\u001b[1;33m\u001b[0m\u001b[0m\n\u001b[1;32m-> 3458\u001b[1;33m             \u001b[0mindexer\u001b[0m \u001b[1;33m=\u001b[0m \u001b[0mself\u001b[0m\u001b[1;33m.\u001b[0m\u001b[0mcolumns\u001b[0m\u001b[1;33m.\u001b[0m\u001b[0mget_loc\u001b[0m\u001b[1;33m(\u001b[0m\u001b[0mkey\u001b[0m\u001b[1;33m)\u001b[0m\u001b[1;33m\u001b[0m\u001b[1;33m\u001b[0m\u001b[0m\n\u001b[0m\u001b[0;32m   3459\u001b[0m             \u001b[1;32mif\u001b[0m \u001b[0mis_integer\u001b[0m\u001b[1;33m(\u001b[0m\u001b[0mindexer\u001b[0m\u001b[1;33m)\u001b[0m\u001b[1;33m:\u001b[0m\u001b[1;33m\u001b[0m\u001b[1;33m\u001b[0m\u001b[0m\n\u001b[0;32m   3460\u001b[0m                 \u001b[0mindexer\u001b[0m \u001b[1;33m=\u001b[0m \u001b[1;33m[\u001b[0m\u001b[0mindexer\u001b[0m\u001b[1;33m]\u001b[0m\u001b[1;33m\u001b[0m\u001b[1;33m\u001b[0m\u001b[0m\n",
      "\u001b[1;32m~\\Anaconda3\\envs\\geo_env\\lib\\site-packages\\pandas\\core\\indexes\\base.py\u001b[0m in \u001b[0;36mget_loc\u001b[1;34m(self, key, method, tolerance)\u001b[0m\n\u001b[0;32m   3361\u001b[0m                 \u001b[1;32mreturn\u001b[0m \u001b[0mself\u001b[0m\u001b[1;33m.\u001b[0m\u001b[0m_engine\u001b[0m\u001b[1;33m.\u001b[0m\u001b[0mget_loc\u001b[0m\u001b[1;33m(\u001b[0m\u001b[0mcasted_key\u001b[0m\u001b[1;33m)\u001b[0m\u001b[1;33m\u001b[0m\u001b[1;33m\u001b[0m\u001b[0m\n\u001b[0;32m   3362\u001b[0m             \u001b[1;32mexcept\u001b[0m \u001b[0mKeyError\u001b[0m \u001b[1;32mas\u001b[0m \u001b[0merr\u001b[0m\u001b[1;33m:\u001b[0m\u001b[1;33m\u001b[0m\u001b[1;33m\u001b[0m\u001b[0m\n\u001b[1;32m-> 3363\u001b[1;33m                 \u001b[1;32mraise\u001b[0m \u001b[0mKeyError\u001b[0m\u001b[1;33m(\u001b[0m\u001b[0mkey\u001b[0m\u001b[1;33m)\u001b[0m \u001b[1;32mfrom\u001b[0m \u001b[0merr\u001b[0m\u001b[1;33m\u001b[0m\u001b[1;33m\u001b[0m\u001b[0m\n\u001b[0m\u001b[0;32m   3364\u001b[0m \u001b[1;33m\u001b[0m\u001b[0m\n\u001b[0;32m   3365\u001b[0m         \u001b[1;32mif\u001b[0m \u001b[0mis_scalar\u001b[0m\u001b[1;33m(\u001b[0m\u001b[0mkey\u001b[0m\u001b[1;33m)\u001b[0m \u001b[1;32mand\u001b[0m \u001b[0misna\u001b[0m\u001b[1;33m(\u001b[0m\u001b[0mkey\u001b[0m\u001b[1;33m)\u001b[0m \u001b[1;32mand\u001b[0m \u001b[1;32mnot\u001b[0m \u001b[0mself\u001b[0m\u001b[1;33m.\u001b[0m\u001b[0mhasnans\u001b[0m\u001b[1;33m:\u001b[0m\u001b[1;33m\u001b[0m\u001b[1;33m\u001b[0m\u001b[0m\n",
      "\u001b[1;31mKeyError\u001b[0m: 2"
     ]
    }
   ],
   "source": [
    "run_stat('XX')"
   ]
  },
  {
   "cell_type": "code",
   "execution_count": 114,
   "id": "cde5d84b",
   "metadata": {},
   "outputs": [
    {
     "data": {
      "text/plain": [
       "<AxesSubplot:>"
      ]
     },
     "execution_count": 114,
     "metadata": {},
     "output_type": "execute_result"
    },
    {
     "data": {
      "image/png": "[encoded data removed]",
      "text/plain": [
       "<Figure size 1440x1080 with 1 Axes>"
      ]
     },
     "metadata": {
      "needs_background": "light"
     },
     "output_type": "display_data"
    }
   ],
   "source": [
    "plt.figure(figsize=(20,15))\n",
    "stat_descr.Diff_MIn.plot.bar()"
   ]
  },
  {
   "cell_type": "code",
   "execution_count": 115,
   "id": "74920b2e",
   "metadata": {},
   "outputs": [
    {
     "data": {
      "text/plain": [
       "<AxesSubplot:>"
      ]
     },
     "execution_count": 115,
     "metadata": {},
     "output_type": "execute_result"
    },
    {
     "data": {
      "image/png": "[encoded data removed]",
      "text/plain": [
       "<Figure size 1440x1080 with 1 Axes>"
      ]
     },
     "metadata": {
      "needs_background": "light"
     },
     "output_type": "display_data"
    }
   ],
   "source": [
    "plt.figure(figsize=(20,15))\n",
    "stat_descr.Diff_Max.plot.bar()"
   ]
  },
  {
   "cell_type": "code",
   "execution_count": 116,
   "id": "0a9de2c5",
   "metadata": {},
   "outputs": [
    {
     "data": {
      "text/plain": [
       "count    97.000000\n",
       "mean      1.981072\n",
       "std       1.567285\n",
       "min       0.100000\n",
       "25%       1.117752\n",
       "50%       1.770000\n",
       "75%       2.438875\n",
       "max      10.667000\n",
       "Name: Diff_MIn, dtype: float64"
      ]
     },
     "execution_count": 116,
     "metadata": {},
     "output_type": "execute_result"
    }
   ],
   "source": [
    "stat_descr.Diff_MIn.describe()"
   ]
  },
  {
   "cell_type": "code",
   "execution_count": null,
   "id": "cef593d1",
   "metadata": {},
   "outputs": [],
   "source": []
  },
  {
   "cell_type": "markdown",
   "id": "7b788abe",
   "metadata": {},
   "source": [
    "Recherche §_filtre"
   ]
  }
 ],
 "metadata": {
  "kernelspec": {
   "display_name": "Python 3 (ipykernel)",
   "language": "python",
   "name": "python3"
  },
  "language_info": {
   "codemirror_mode": {
    "name": "ipython",
    "version": 3
   },
   "file_extension": ".py",
   "mimetype": "text/x-python",
   "name": "python",
   "nbconvert_exporter": "python",
   "pygments_lexer": "ipython3",
   "version": "3.9.7"
  }
 },
 "nbformat": 4,
 "nbformat_minor": 5
}
