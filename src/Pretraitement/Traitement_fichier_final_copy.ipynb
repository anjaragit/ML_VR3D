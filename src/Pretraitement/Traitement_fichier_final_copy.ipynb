{
 "cells": [
  {
   "cell_type": "code",
   "execution_count": 1,
   "id": "c24f99c1",
   "metadata": {},
   "outputs": [],
   "source": [
    "import  pandas as pd\n",
    "import numpy as np\n",
    "import dask.array as da\n",
    "import h5py\n",
    "from dask.diagnostics import ProgressBar\n",
    "import dask.dataframe as dd\n",
    "import time\n",
    "import glob\n",
    "import os"
   ]
  },
  {
   "cell_type": "code",
   "execution_count": 2,
   "id": "e2f19605",
   "metadata": {},
   "outputs": [],
   "source": [
    "pbar = ProgressBar()\n",
    "pbar.register()"
   ]
  },
  {
   "cell_type": "code",
   "execution_count": 3,
   "id": "55e6e299",
   "metadata": {},
   "outputs": [],
   "source": [
    "BASE_DIR = 'D:\\VR3D\\VR3D_DATASET'"
   ]
  },
  {
   "cell_type": "markdown",
   "id": "a462a441",
   "metadata": {},
   "source": [
    "Concatination de tout les chambre dans une seul fichiers "
   ]
  },
  {
   "cell_type": "markdown",
   "id": "59313f3b",
   "metadata": {},
   "source": [
    "Pour le cas de Bordeau"
   ]
  },
  {
   "cell_type": "code",
   "execution_count": null,
   "id": "1817c23a",
   "metadata": {},
   "outputs": [],
   "source": []
  },
  {
   "cell_type": "code",
   "execution_count": null,
   "id": "7c15d2cf",
   "metadata": {},
   "outputs": [],
   "source": []
  },
  {
   "cell_type": "code",
   "execution_count": null,
   "id": "831fe79c",
   "metadata": {},
   "outputs": [],
   "source": []
  },
  {
   "cell_type": "code",
   "execution_count": 10,
   "id": "dbd11032",
   "metadata": {},
   "outputs": [],
   "source": [
    "Reseau_list = pd.read_csv(path_root,header=None)"
   ]
  },
  {
   "cell_type": "code",
   "execution_count": 11,
   "id": "44bcc67d",
   "metadata": {},
   "outputs": [],
   "source": [
    "for i in range(len(Reseau_list)):\n",
    "    path_dxf = Reseau_list[0][i]\n",
    "    os.chdir(path_dxf)\n",
    "    fichier = open(path_dxf+'\\\\List_Nuage_filtre.txt','w')\n",
    "    for file in glob.glob(\"N*filter*.txt\"):\n",
    "        fichier.write(path_dxf+'\\\\'+file+'\\n')\n",
    "    fichier.close()"
   ]
  },
  {
   "cell_type": "code",
   "execution_count": 12,
   "id": "19b069f1",
   "metadata": {},
   "outputs": [],
   "source": [
    "chamb_unit = pd.DataFrame()\n",
    "for j in range(len(Reseau_list)):\n",
    "    chambre_file = pd.read_csv(Reseau_list[0][j]+'\\\\List_Nuage_filtre.txt',header = None)\n",
    "    for i in range(len(chambre_file)):\n",
    "        chamb_unit = chamb_unit.append(pd.read_csv(chambre_file[0][i]),ignore_index=True)\n",
    "chamb_unit.to_csv(\"D:\\VR3D\\VR3D_DATASET\\Out_final\\Bordeau\\Total_chambre.txt\",index=False)"
   ]
  },
  {
   "cell_type": "markdown",
   "id": "a4251c9b",
   "metadata": {},
   "source": [
    "Pour le cas de paris"
   ]
  },
  {
   "cell_type": "code",
   "execution_count": 30,
   "id": "6fd89c0a",
   "metadata": {},
   "outputs": [],
   "source": [
    "chambre_file = pd.read_csv(\"D:\\VR3D\\VR3D_DATASET\\Out_final\\Bordeau\\Filtre\\Fil_list.txt\",header = None)"
   ]
  },
  {
   "cell_type": "code",
   "execution_count": 20,
   "id": "1bf4696e",
   "metadata": {},
   "outputs": [],
   "source": [
    "chamb_unit = pd.DataFrame()\n",
    "for i in range(len(chambre_file)):\n",
    "    chamb_unit = chamb_unit.append(pd.read_csv(chambre_file[0][i]),ignore_index=True)\n",
    "chamb_unit.to_csv(\"D:\\VR3D\\VR3D_DATASET\\Out_final\\Bordeau\\Filtre\\Total_chambre.txt\",index=False)"
   ]
  },
  {
   "cell_type": "code",
   "execution_count": null,
   "id": "73e51aa0",
   "metadata": {},
   "outputs": [],
   "source": []
  },
  {
   "cell_type": "code",
   "execution_count": null,
   "id": "c8520c43",
   "metadata": {},
   "outputs": [],
   "source": []
  },
  {
   "cell_type": "markdown",
   "id": "353da4f9",
   "metadata": {},
   "source": [
    "Pour la visualization ajouter new column RGB/test uniquement"
   ]
  },
  {
   "cell_type": "code",
   "execution_count": 4,
   "id": "37d17c7f",
   "metadata": {},
   "outputs": [],
   "source": [
    "def training_fichier(input_data,i,out_path,daska_data):\n",
    "    ddf = pd.read_csv(input_data)\n",
    "    if ddf.shape[0] >= 2:\n",
    "        #ddf = ddf.rename(columns={0:'X',1:'Y',2:'Z',3:'I'})\n",
    "        ddf['L'] = 0\n",
    "        data_labelize = pd.merge(ddf,daska_data,on=['X','Y','Z'])\n",
    "        data_labelize = data_labelize.drop(columns=['I_y','L_x'])\n",
    "        data_labelize = data_labelize.rename(columns={'I_x':'I','L_y':'L'})\n",
    "        data_labelize = pd.concat([ddf,data_labelize],ignore_index=True).drop_duplicates(subset = ['X','Y','Z'],keep = 'last' )\n",
    "        data_labelize = data_labelize.reset_index(drop = True)\n",
    "        #data_train = data_labelize[data_labelize.X < 1422376.7884]\n",
    "        data_labelize.to_csv(out_path.to_numpy()[i][0],index = False) "
   ]
  },
  {
   "cell_type": "code",
   "execution_count": 10,
   "id": "e28d3a9e",
   "metadata": {},
   "outputs": [],
   "source": [
    "def create_input_file(Name):\n",
    "    _path = BASE_DIR+'\\Out_nuage\\Down_sample\\Down_sample_'+Name+'_0.5'\n",
    "    os.chdir(_path)\n",
    "    fichier = open(_path+'\\\\List_file.txt','w')\n",
    "    for file in glob.glob('N*.txt'):\n",
    "        fichier.write(_path+'\\\\'+file+'\\n')\n",
    "    fichier.close()"
   ]
  },
  {
   "cell_type": "code",
   "execution_count": 11,
   "id": "ecc82dec",
   "metadata": {},
   "outputs": [],
   "source": [
    "def create_output_file(Name):\n",
    "    in_path = BASE_DIR+'\\Out_nuage\\Down_sample\\Down_sample_'+Name+'_0.5\\\\List_file.txt'\n",
    "    out_path = BASE_DIR+'\\Out_train\\Out_train_'+Name+'_0.5'\n",
    "    fichier = open(out_path+'\\OUT.txt','w')\n",
    "    for i in range(len(pd.read_csv(in_path,header=None))):\n",
    "        fichier.write(out_path+'\\out'+str(i+1)+'.txt'+'\\n')\n",
    "    fichier.close()"
   ]
  },
  {
   "cell_type": "code",
   "execution_count": 15,
   "id": "552ad918",
   "metadata": {},
   "outputs": [],
   "source": [
    "def get_total_chambr(Name):\n",
    "    for j in range (1): #8:nombre de Zone à travailler \n",
    "        _path = BASE_DIR+'\\Out_chambre\\\\'+Name+'\\\\'+Name+'_Z'+str(j+1)\n",
    "        x_temp = pd.read_csv(_path+'\\\\List_file.txt',header=None)\n",
    "        var_local = pd.DataFrame()\n",
    "        for i in range(len(x_temp)):\n",
    "            fichier = pd.read_csv(x_temp[0][i]+'\\\\List_file_filter.txt',header=None)\n",
    "            for k in range(len(fichier)):\n",
    "                ff = pd.read_csv(fichier[0][k])\n",
    "                var_local = var_local.append(ff,ignore_index=True)\n",
    "        var_local.to_csv(_path+'\\Total_chambre.txt',index = False)\n",
    "    "
   ]
  },
  {
   "cell_type": "code",
   "execution_count": null,
   "id": "198c4baa",
   "metadata": {},
   "outputs": [],
   "source": [
    "def get_total_chambr(Name):\n",
    "    for j in range (1): #8:nombre de Zone à travailler \n",
    "        _path = BASE_DIR+'\\Out_chambre\\\\'+Name+'\\\\'+Name+'_Z'+str(j+1)\n",
    "        x_temp = pd.read_csv(_path+'\\\\List_file.txt',header=None)\n",
    "        var_local = pd.DataFrame()\n",
    "        for i in range(len(x_temp)):\n",
    "            fichier = pd.read_csv(x_temp[0][i]+'\\\\List_file_filter.txt',header=None)\n",
    "            for k in range(len(fichier)):\n",
    "                ff = pd.read_csv(fichier[0][k])\n",
    "                var_local = var_local.append(ff,ignore_index=True)\n",
    "        var_local.to_csv(_path+'\\Total_chambre.txt',index = False)"
   ]
  },
  {
   "cell_type": "code",
   "execution_count": 13,
   "id": "5c37346c",
   "metadata": {},
   "outputs": [],
   "source": [
    "def run(Name):\n",
    "    get_total_chambr(Name)\n",
    "    create_input_file(Name)\n",
    "    create_output_file(Name)\n",
    "    in_path = pd.read_csv(BASE_DIR+\n",
    "                          '\\Out_nuage\\Down_sample\\Down_sample_'+Name+'_0.5\\List_file.txt',header=None)\n",
    "    out_path = pd.read_csv(BASE_DIR+'\\Out_train\\Out_train_'+Name+'_0.5\\OUT.txt',header = None)\n",
    "    for i in range(len(in_path)):\n",
    "        print(i)\n",
    "        daska_data = pd.read_csv(BASE_DIR+'\\Out_chambre\\\\'+Name+'\\\\'+Name+'_Z'+str(1)+'\\Total_chambre.txt')\n",
    "        daska_data = daska_data.rename(columns={'0':'X','1':'Y','2':'Z','3':'I','4':'L'})\n",
    "        print(i,in_path[0][i])\n",
    "        training_fichier(in_path[0][i],i,out_path,daska_data)"
   ]
  },
  {
   "cell_type": "code",
   "execution_count": 14,
   "id": "992d5d54",
   "metadata": {},
   "outputs": [
    {
     "name": "stdout",
     "output_type": "stream",
     "text": [
      "0\n"
     ]
    },
    {
     "ename": "FileNotFoundError",
     "evalue": "[Errno 2] No such file or directory: 'D:\\\\VR3D\\\\VR3D_DATASET\\\\Out_chambre\\\\XX\\\\XX_Z1\\\\Total_chambre.txt'",
     "output_type": "error",
     "traceback": [
      "\u001b[1;31m---------------------------------------------------------------------------\u001b[0m",
      "\u001b[1;31mFileNotFoundError\u001b[0m                         Traceback (most recent call last)",
      "\u001b[1;32mC:\\Users\\A2921~1.RAK\\AppData\\Local\\Temp/ipykernel_18836/534836551.py\u001b[0m in \u001b[0;36m<module>\u001b[1;34m\u001b[0m\n\u001b[1;32m----> 1\u001b[1;33m \u001b[0mrun\u001b[0m\u001b[1;33m(\u001b[0m\u001b[1;34m'XX'\u001b[0m\u001b[1;33m)\u001b[0m\u001b[1;33m\u001b[0m\u001b[1;33m\u001b[0m\u001b[0m\n\u001b[0m",
      "\u001b[1;32mC:\\Users\\A2921~1.RAK\\AppData\\Local\\Temp/ipykernel_18836/3217713688.py\u001b[0m in \u001b[0;36mrun\u001b[1;34m(Name)\u001b[0m\n\u001b[0;32m      8\u001b[0m     \u001b[1;32mfor\u001b[0m \u001b[0mi\u001b[0m \u001b[1;32min\u001b[0m \u001b[0mrange\u001b[0m\u001b[1;33m(\u001b[0m\u001b[0mlen\u001b[0m\u001b[1;33m(\u001b[0m\u001b[0min_path\u001b[0m\u001b[1;33m)\u001b[0m\u001b[1;33m)\u001b[0m\u001b[1;33m:\u001b[0m\u001b[1;33m\u001b[0m\u001b[1;33m\u001b[0m\u001b[0m\n\u001b[0;32m      9\u001b[0m         \u001b[0mprint\u001b[0m\u001b[1;33m(\u001b[0m\u001b[0mi\u001b[0m\u001b[1;33m)\u001b[0m\u001b[1;33m\u001b[0m\u001b[1;33m\u001b[0m\u001b[0m\n\u001b[1;32m---> 10\u001b[1;33m         \u001b[0mdaska_data\u001b[0m \u001b[1;33m=\u001b[0m \u001b[0mpd\u001b[0m\u001b[1;33m.\u001b[0m\u001b[0mread_csv\u001b[0m\u001b[1;33m(\u001b[0m\u001b[0mBASE_DIR\u001b[0m\u001b[1;33m+\u001b[0m\u001b[1;34m'\\Out_chambre\\\\'\u001b[0m\u001b[1;33m+\u001b[0m\u001b[0mName\u001b[0m\u001b[1;33m+\u001b[0m\u001b[1;34m'\\\\'\u001b[0m\u001b[1;33m+\u001b[0m\u001b[0mName\u001b[0m\u001b[1;33m+\u001b[0m\u001b[1;34m'_Z'\u001b[0m\u001b[1;33m+\u001b[0m\u001b[0mstr\u001b[0m\u001b[1;33m(\u001b[0m\u001b[1;36m1\u001b[0m\u001b[1;33m)\u001b[0m\u001b[1;33m+\u001b[0m\u001b[1;34m'\\Total_chambre.txt'\u001b[0m\u001b[1;33m)\u001b[0m\u001b[1;33m\u001b[0m\u001b[1;33m\u001b[0m\u001b[0m\n\u001b[0m\u001b[0;32m     11\u001b[0m         \u001b[0mdaska_data\u001b[0m \u001b[1;33m=\u001b[0m \u001b[0mdaska_data\u001b[0m\u001b[1;33m.\u001b[0m\u001b[0mrename\u001b[0m\u001b[1;33m(\u001b[0m\u001b[0mcolumns\u001b[0m\u001b[1;33m=\u001b[0m\u001b[1;33m{\u001b[0m\u001b[1;34m'0'\u001b[0m\u001b[1;33m:\u001b[0m\u001b[1;34m'X'\u001b[0m\u001b[1;33m,\u001b[0m\u001b[1;34m'1'\u001b[0m\u001b[1;33m:\u001b[0m\u001b[1;34m'Y'\u001b[0m\u001b[1;33m,\u001b[0m\u001b[1;34m'2'\u001b[0m\u001b[1;33m:\u001b[0m\u001b[1;34m'Z'\u001b[0m\u001b[1;33m,\u001b[0m\u001b[1;34m'3'\u001b[0m\u001b[1;33m:\u001b[0m\u001b[1;34m'I'\u001b[0m\u001b[1;33m,\u001b[0m\u001b[1;34m'4'\u001b[0m\u001b[1;33m:\u001b[0m\u001b[1;34m'L'\u001b[0m\u001b[1;33m}\u001b[0m\u001b[1;33m)\u001b[0m\u001b[1;33m\u001b[0m\u001b[1;33m\u001b[0m\u001b[0m\n\u001b[0;32m     12\u001b[0m         \u001b[0mprint\u001b[0m\u001b[1;33m(\u001b[0m\u001b[0mi\u001b[0m\u001b[1;33m,\u001b[0m\u001b[0min_path\u001b[0m\u001b[1;33m[\u001b[0m\u001b[1;36m0\u001b[0m\u001b[1;33m]\u001b[0m\u001b[1;33m[\u001b[0m\u001b[0mi\u001b[0m\u001b[1;33m]\u001b[0m\u001b[1;33m)\u001b[0m\u001b[1;33m\u001b[0m\u001b[1;33m\u001b[0m\u001b[0m\n",
      "\u001b[1;32m~\\Anaconda3\\envs\\geo_env\\lib\\site-packages\\pandas\\util\\_decorators.py\u001b[0m in \u001b[0;36mwrapper\u001b[1;34m(*args, **kwargs)\u001b[0m\n\u001b[0;32m    309\u001b[0m                     \u001b[0mstacklevel\u001b[0m\u001b[1;33m=\u001b[0m\u001b[0mstacklevel\u001b[0m\u001b[1;33m,\u001b[0m\u001b[1;33m\u001b[0m\u001b[1;33m\u001b[0m\u001b[0m\n\u001b[0;32m    310\u001b[0m                 )\n\u001b[1;32m--> 311\u001b[1;33m             \u001b[1;32mreturn\u001b[0m \u001b[0mfunc\u001b[0m\u001b[1;33m(\u001b[0m\u001b[1;33m*\u001b[0m\u001b[0margs\u001b[0m\u001b[1;33m,\u001b[0m \u001b[1;33m**\u001b[0m\u001b[0mkwargs\u001b[0m\u001b[1;33m)\u001b[0m\u001b[1;33m\u001b[0m\u001b[1;33m\u001b[0m\u001b[0m\n\u001b[0m\u001b[0;32m    312\u001b[0m \u001b[1;33m\u001b[0m\u001b[0m\n\u001b[0;32m    313\u001b[0m         \u001b[1;32mreturn\u001b[0m \u001b[0mwrapper\u001b[0m\u001b[1;33m\u001b[0m\u001b[1;33m\u001b[0m\u001b[0m\n",
      "\u001b[1;32m~\\Anaconda3\\envs\\geo_env\\lib\\site-packages\\pandas\\io\\parsers\\readers.py\u001b[0m in \u001b[0;36mread_csv\u001b[1;34m(filepath_or_buffer, sep, delimiter, header, names, index_col, usecols, squeeze, prefix, mangle_dupe_cols, dtype, engine, converters, true_values, false_values, skipinitialspace, skiprows, skipfooter, nrows, na_values, keep_default_na, na_filter, verbose, skip_blank_lines, parse_dates, infer_datetime_format, keep_date_col, date_parser, dayfirst, cache_dates, iterator, chunksize, compression, thousands, decimal, lineterminator, quotechar, quoting, doublequote, escapechar, comment, encoding, encoding_errors, dialect, error_bad_lines, warn_bad_lines, on_bad_lines, delim_whitespace, low_memory, memory_map, float_precision, storage_options)\u001b[0m\n\u001b[0;32m    584\u001b[0m     \u001b[0mkwds\u001b[0m\u001b[1;33m.\u001b[0m\u001b[0mupdate\u001b[0m\u001b[1;33m(\u001b[0m\u001b[0mkwds_defaults\u001b[0m\u001b[1;33m)\u001b[0m\u001b[1;33m\u001b[0m\u001b[1;33m\u001b[0m\u001b[0m\n\u001b[0;32m    585\u001b[0m \u001b[1;33m\u001b[0m\u001b[0m\n\u001b[1;32m--> 586\u001b[1;33m     \u001b[1;32mreturn\u001b[0m \u001b[0m_read\u001b[0m\u001b[1;33m(\u001b[0m\u001b[0mfilepath_or_buffer\u001b[0m\u001b[1;33m,\u001b[0m \u001b[0mkwds\u001b[0m\u001b[1;33m)\u001b[0m\u001b[1;33m\u001b[0m\u001b[1;33m\u001b[0m\u001b[0m\n\u001b[0m\u001b[0;32m    587\u001b[0m \u001b[1;33m\u001b[0m\u001b[0m\n\u001b[0;32m    588\u001b[0m \u001b[1;33m\u001b[0m\u001b[0m\n",
      "\u001b[1;32m~\\Anaconda3\\envs\\geo_env\\lib\\site-packages\\pandas\\io\\parsers\\readers.py\u001b[0m in \u001b[0;36m_read\u001b[1;34m(filepath_or_buffer, kwds)\u001b[0m\n\u001b[0;32m    480\u001b[0m \u001b[1;33m\u001b[0m\u001b[0m\n\u001b[0;32m    481\u001b[0m     \u001b[1;31m# Create the parser.\u001b[0m\u001b[1;33m\u001b[0m\u001b[1;33m\u001b[0m\u001b[0m\n\u001b[1;32m--> 482\u001b[1;33m     \u001b[0mparser\u001b[0m \u001b[1;33m=\u001b[0m \u001b[0mTextFileReader\u001b[0m\u001b[1;33m(\u001b[0m\u001b[0mfilepath_or_buffer\u001b[0m\u001b[1;33m,\u001b[0m \u001b[1;33m**\u001b[0m\u001b[0mkwds\u001b[0m\u001b[1;33m)\u001b[0m\u001b[1;33m\u001b[0m\u001b[1;33m\u001b[0m\u001b[0m\n\u001b[0m\u001b[0;32m    483\u001b[0m \u001b[1;33m\u001b[0m\u001b[0m\n\u001b[0;32m    484\u001b[0m     \u001b[1;32mif\u001b[0m \u001b[0mchunksize\u001b[0m \u001b[1;32mor\u001b[0m \u001b[0miterator\u001b[0m\u001b[1;33m:\u001b[0m\u001b[1;33m\u001b[0m\u001b[1;33m\u001b[0m\u001b[0m\n",
      "\u001b[1;32m~\\Anaconda3\\envs\\geo_env\\lib\\site-packages\\pandas\\io\\parsers\\readers.py\u001b[0m in \u001b[0;36m__init__\u001b[1;34m(self, f, engine, **kwds)\u001b[0m\n\u001b[0;32m    809\u001b[0m             \u001b[0mself\u001b[0m\u001b[1;33m.\u001b[0m\u001b[0moptions\u001b[0m\u001b[1;33m[\u001b[0m\u001b[1;34m\"has_index_names\"\u001b[0m\u001b[1;33m]\u001b[0m \u001b[1;33m=\u001b[0m \u001b[0mkwds\u001b[0m\u001b[1;33m[\u001b[0m\u001b[1;34m\"has_index_names\"\u001b[0m\u001b[1;33m]\u001b[0m\u001b[1;33m\u001b[0m\u001b[1;33m\u001b[0m\u001b[0m\n\u001b[0;32m    810\u001b[0m \u001b[1;33m\u001b[0m\u001b[0m\n\u001b[1;32m--> 811\u001b[1;33m         \u001b[0mself\u001b[0m\u001b[1;33m.\u001b[0m\u001b[0m_engine\u001b[0m \u001b[1;33m=\u001b[0m \u001b[0mself\u001b[0m\u001b[1;33m.\u001b[0m\u001b[0m_make_engine\u001b[0m\u001b[1;33m(\u001b[0m\u001b[0mself\u001b[0m\u001b[1;33m.\u001b[0m\u001b[0mengine\u001b[0m\u001b[1;33m)\u001b[0m\u001b[1;33m\u001b[0m\u001b[1;33m\u001b[0m\u001b[0m\n\u001b[0m\u001b[0;32m    812\u001b[0m \u001b[1;33m\u001b[0m\u001b[0m\n\u001b[0;32m    813\u001b[0m     \u001b[1;32mdef\u001b[0m \u001b[0mclose\u001b[0m\u001b[1;33m(\u001b[0m\u001b[0mself\u001b[0m\u001b[1;33m)\u001b[0m\u001b[1;33m:\u001b[0m\u001b[1;33m\u001b[0m\u001b[1;33m\u001b[0m\u001b[0m\n",
      "\u001b[1;32m~\\Anaconda3\\envs\\geo_env\\lib\\site-packages\\pandas\\io\\parsers\\readers.py\u001b[0m in \u001b[0;36m_make_engine\u001b[1;34m(self, engine)\u001b[0m\n\u001b[0;32m   1038\u001b[0m             )\n\u001b[0;32m   1039\u001b[0m         \u001b[1;31m# error: Too many arguments for \"ParserBase\"\u001b[0m\u001b[1;33m\u001b[0m\u001b[1;33m\u001b[0m\u001b[0m\n\u001b[1;32m-> 1040\u001b[1;33m         \u001b[1;32mreturn\u001b[0m \u001b[0mmapping\u001b[0m\u001b[1;33m[\u001b[0m\u001b[0mengine\u001b[0m\u001b[1;33m]\u001b[0m\u001b[1;33m(\u001b[0m\u001b[0mself\u001b[0m\u001b[1;33m.\u001b[0m\u001b[0mf\u001b[0m\u001b[1;33m,\u001b[0m \u001b[1;33m**\u001b[0m\u001b[0mself\u001b[0m\u001b[1;33m.\u001b[0m\u001b[0moptions\u001b[0m\u001b[1;33m)\u001b[0m  \u001b[1;31m# type: ignore[call-arg]\u001b[0m\u001b[1;33m\u001b[0m\u001b[1;33m\u001b[0m\u001b[0m\n\u001b[0m\u001b[0;32m   1041\u001b[0m \u001b[1;33m\u001b[0m\u001b[0m\n\u001b[0;32m   1042\u001b[0m     \u001b[1;32mdef\u001b[0m \u001b[0m_failover_to_python\u001b[0m\u001b[1;33m(\u001b[0m\u001b[0mself\u001b[0m\u001b[1;33m)\u001b[0m\u001b[1;33m:\u001b[0m\u001b[1;33m\u001b[0m\u001b[1;33m\u001b[0m\u001b[0m\n",
      "\u001b[1;32m~\\Anaconda3\\envs\\geo_env\\lib\\site-packages\\pandas\\io\\parsers\\c_parser_wrapper.py\u001b[0m in \u001b[0;36m__init__\u001b[1;34m(self, src, **kwds)\u001b[0m\n\u001b[0;32m     49\u001b[0m \u001b[1;33m\u001b[0m\u001b[0m\n\u001b[0;32m     50\u001b[0m         \u001b[1;31m# open handles\u001b[0m\u001b[1;33m\u001b[0m\u001b[1;33m\u001b[0m\u001b[0m\n\u001b[1;32m---> 51\u001b[1;33m         \u001b[0mself\u001b[0m\u001b[1;33m.\u001b[0m\u001b[0m_open_handles\u001b[0m\u001b[1;33m(\u001b[0m\u001b[0msrc\u001b[0m\u001b[1;33m,\u001b[0m \u001b[0mkwds\u001b[0m\u001b[1;33m)\u001b[0m\u001b[1;33m\u001b[0m\u001b[1;33m\u001b[0m\u001b[0m\n\u001b[0m\u001b[0;32m     52\u001b[0m         \u001b[1;32massert\u001b[0m \u001b[0mself\u001b[0m\u001b[1;33m.\u001b[0m\u001b[0mhandles\u001b[0m \u001b[1;32mis\u001b[0m \u001b[1;32mnot\u001b[0m \u001b[1;32mNone\u001b[0m\u001b[1;33m\u001b[0m\u001b[1;33m\u001b[0m\u001b[0m\n\u001b[0;32m     53\u001b[0m \u001b[1;33m\u001b[0m\u001b[0m\n",
      "\u001b[1;32m~\\Anaconda3\\envs\\geo_env\\lib\\site-packages\\pandas\\io\\parsers\\base_parser.py\u001b[0m in \u001b[0;36m_open_handles\u001b[1;34m(self, src, kwds)\u001b[0m\n\u001b[0;32m    220\u001b[0m         \u001b[0mLet\u001b[0m \u001b[0mthe\u001b[0m \u001b[0mreaders\u001b[0m \u001b[0mopen\u001b[0m \u001b[0mIOHandles\u001b[0m \u001b[0mafter\u001b[0m \u001b[0mthey\u001b[0m \u001b[0mare\u001b[0m \u001b[0mdone\u001b[0m \u001b[1;32mwith\u001b[0m \u001b[0mtheir\u001b[0m \u001b[0mpotential\u001b[0m \u001b[0mraises\u001b[0m\u001b[1;33m.\u001b[0m\u001b[1;33m\u001b[0m\u001b[1;33m\u001b[0m\u001b[0m\n\u001b[0;32m    221\u001b[0m         \"\"\"\n\u001b[1;32m--> 222\u001b[1;33m         self.handles = get_handle(\n\u001b[0m\u001b[0;32m    223\u001b[0m             \u001b[0msrc\u001b[0m\u001b[1;33m,\u001b[0m\u001b[1;33m\u001b[0m\u001b[1;33m\u001b[0m\u001b[0m\n\u001b[0;32m    224\u001b[0m             \u001b[1;34m\"r\"\u001b[0m\u001b[1;33m,\u001b[0m\u001b[1;33m\u001b[0m\u001b[1;33m\u001b[0m\u001b[0m\n",
      "\u001b[1;32m~\\Anaconda3\\envs\\geo_env\\lib\\site-packages\\pandas\\io\\common.py\u001b[0m in \u001b[0;36mget_handle\u001b[1;34m(path_or_buf, mode, encoding, compression, memory_map, is_text, errors, storage_options)\u001b[0m\n\u001b[0;32m    700\u001b[0m         \u001b[1;32mif\u001b[0m \u001b[0mioargs\u001b[0m\u001b[1;33m.\u001b[0m\u001b[0mencoding\u001b[0m \u001b[1;32mand\u001b[0m \u001b[1;34m\"b\"\u001b[0m \u001b[1;32mnot\u001b[0m \u001b[1;32min\u001b[0m \u001b[0mioargs\u001b[0m\u001b[1;33m.\u001b[0m\u001b[0mmode\u001b[0m\u001b[1;33m:\u001b[0m\u001b[1;33m\u001b[0m\u001b[1;33m\u001b[0m\u001b[0m\n\u001b[0;32m    701\u001b[0m             \u001b[1;31m# Encoding\u001b[0m\u001b[1;33m\u001b[0m\u001b[1;33m\u001b[0m\u001b[0m\n\u001b[1;32m--> 702\u001b[1;33m             handle = open(\n\u001b[0m\u001b[0;32m    703\u001b[0m                 \u001b[0mhandle\u001b[0m\u001b[1;33m,\u001b[0m\u001b[1;33m\u001b[0m\u001b[1;33m\u001b[0m\u001b[0m\n\u001b[0;32m    704\u001b[0m                 \u001b[0mioargs\u001b[0m\u001b[1;33m.\u001b[0m\u001b[0mmode\u001b[0m\u001b[1;33m,\u001b[0m\u001b[1;33m\u001b[0m\u001b[1;33m\u001b[0m\u001b[0m\n",
      "\u001b[1;31mFileNotFoundError\u001b[0m: [Errno 2] No such file or directory: 'D:\\\\VR3D\\\\VR3D_DATASET\\\\Out_chambre\\\\XX\\\\XX_Z1\\\\Total_chambre.txt'"
     ]
    }
   ],
   "source": [
    "run('XX')"
   ]
  },
  {
   "cell_type": "code",
   "execution_count": null,
   "id": "3556753d",
   "metadata": {},
   "outputs": [],
   "source": []
  },
  {
   "cell_type": "code",
   "execution_count": null,
   "id": "65a0cbb5",
   "metadata": {},
   "outputs": [],
   "source": []
  },
  {
   "cell_type": "markdown",
   "id": "0b6c71ab",
   "metadata": {},
   "source": [
    "Fichier.parquet -----> h5"
   ]
  },
  {
   "cell_type": "code",
   "execution_count": null,
   "id": "54b0e58f",
   "metadata": {},
   "outputs": [],
   "source": []
  },
  {
   "cell_type": "code",
   "execution_count": 1,
   "id": "7c51bb9f",
   "metadata": {
    "scrolled": false
   },
   "outputs": [
    {
     "name": "stdout",
     "output_type": "stream",
     "text": [
      "\n",
      " D:\\VR3D\\VR3D_DATASET\\Out_nuage\\Filtre_intensite\\Filtre_contourD:\\VR3D\\VR3D_DATASET\\Out_nuage\\Filtre_intensite\\chambre_rgb0.txt ...\n",
      "\n",
      "mise en block...\n",
      "num_block =  4.418212890625\n",
      "\n",
      " Sortie Data shape = (4, 4096, 7), Label shape = (4, 4096)\n",
      "IS i= 0  ===  len(file_name)-1= 66\n",
      "\n",
      "insert_batch...\n",
      "if : 4  <=  1000\n",
      "there is space... insert new batch\n",
      "\n",
      "FINISHED.\n",
      "Next h5_index for filename output =  0 \n",
      "\n",
      "\n",
      " D:\\VR3D\\VR3D_DATASET\\Out_nuage\\Filtre_intensite\\Filtre_contourD:\\VR3D\\VR3D_DATASET\\Out_nuage\\Filtre_intensite\\chambre_rgb1_visu_rect1.txt ...\n",
      "\n",
      "mise en block...\n",
      "num_block =  3.789794921875\n",
      "\n",
      " Sortie Data shape = (3, 4096, 7), Label shape = (3, 4096)\n",
      "IS i= 1  ===  len(file_name)-1= 66\n",
      "\n",
      "insert_batch...\n",
      "if : 7  <=  1000\n",
      "there is space... insert new batch\n",
      "\n",
      "FINISHED.\n",
      "Next h5_index for filename output =  0 \n",
      "\n",
      "\n",
      " D:\\VR3D\\VR3D_DATASET\\Out_nuage\\Filtre_intensite\\Filtre_contourD:\\VR3D\\VR3D_DATASET\\Out_nuage\\Filtre_intensite\\chambre_rgb2.txt ...\n",
      "\n",
      "mise en block...\n",
      "num_block =  6.49609375\n",
      "\n",
      " Sortie Data shape = (6, 4096, 7), Label shape = (6, 4096)\n",
      "IS i= 2  ===  len(file_name)-1= 66\n",
      "\n",
      "insert_batch...\n",
      "if : 13  <=  1000\n",
      "there is space... insert new batch\n",
      "\n",
      "FINISHED.\n",
      "Next h5_index for filename output =  0 \n",
      "\n",
      "\n",
      " D:\\VR3D\\VR3D_DATASET\\Out_nuage\\Filtre_intensite\\Filtre_contourD:\\VR3D\\VR3D_DATASET\\Out_nuage\\Filtre_intensite\\chambre_rgb3_visu_rect1.txt ...\n",
      "\n",
      "mise en block...\n",
      "num_block =  3.7001953125\n",
      "\n",
      " Sortie Data shape = (3, 4096, 7), Label shape = (3, 4096)\n",
      "IS i= 3  ===  len(file_name)-1= 66\n",
      "\n",
      "insert_batch...\n",
      "if : 16  <=  1000\n",
      "there is space... insert new batch\n",
      "\n",
      "FINISHED.\n",
      "Next h5_index for filename output =  0 \n",
      "\n",
      "\n",
      " D:\\VR3D\\VR3D_DATASET\\Out_nuage\\Filtre_intensite\\Filtre_contourD:\\VR3D\\VR3D_DATASET\\Out_nuage\\Filtre_intensite\\chambre_rgb4_visu_rect1.txt ...\n",
      "\n",
      "mise en block...\n",
      "num_block =  13.2255859375\n",
      "\n",
      " Sortie Data shape = (13, 4096, 7), Label shape = (13, 4096)\n",
      "IS i= 4  ===  len(file_name)-1= 66\n",
      "\n",
      "insert_batch...\n",
      "if : 29  <=  1000\n",
      "there is space... insert new batch\n",
      "\n",
      "FINISHED.\n",
      "Next h5_index for filename output =  0 \n",
      "\n",
      "\n",
      " D:\\VR3D\\VR3D_DATASET\\Out_nuage\\Filtre_intensite\\Filtre_contourD:\\VR3D\\VR3D_DATASET\\Out_nuage\\Filtre_intensite\\chambre_rgb5.txt ...\n",
      "\n",
      "mise en block...\n",
      "num_block =  10.260009765625\n",
      "\n",
      " Sortie Data shape = (10, 4096, 7), Label shape = (10, 4096)\n",
      "IS i= 5  ===  len(file_name)-1= 66\n",
      "\n",
      "insert_batch...\n",
      "if : 39  <=  1000\n",
      "there is space... insert new batch\n",
      "\n",
      "FINISHED.\n",
      "Next h5_index for filename output =  0 \n",
      "\n",
      "\n",
      " D:\\VR3D\\VR3D_DATASET\\Out_nuage\\Filtre_intensite\\Filtre_contourD:\\VR3D\\VR3D_DATASET\\Out_nuage\\Filtre_intensite\\chambre_rgb6.txt ...\n",
      "\n",
      "mise en block...\n",
      "num_block =  2.615966796875\n",
      "\n",
      " Sortie Data shape = (2, 4096, 7), Label shape = (2, 4096)\n",
      "IS i= 6  ===  len(file_name)-1= 66\n",
      "\n",
      "insert_batch...\n",
      "if : 41  <=  1000\n",
      "there is space... insert new batch\n",
      "\n",
      "FINISHED.\n",
      "Next h5_index for filename output =  0 \n",
      "\n",
      "\n",
      " D:\\VR3D\\VR3D_DATASET\\Out_nuage\\Filtre_intensite\\Filtre_contourD:\\VR3D\\VR3D_DATASET\\Out_nuage\\Filtre_intensite\\chambre_rgb7.txt ...\n",
      "\n",
      "mise en block...\n",
      "num_block =  11.056640625\n",
      "\n",
      " Sortie Data shape = (11, 4096, 7), Label shape = (11, 4096)\n",
      "IS i= 7  ===  len(file_name)-1= 66\n",
      "\n",
      "insert_batch...\n",
      "if : 52  <=  1000\n",
      "there is space... insert new batch\n",
      "\n",
      "FINISHED.\n",
      "Next h5_index for filename output =  0 \n",
      "\n",
      "\n",
      " D:\\VR3D\\VR3D_DATASET\\Out_nuage\\Filtre_intensite\\Filtre_contourD:\\VR3D\\VR3D_DATASET\\Out_nuage\\Filtre_intensite\\chambre_rgb8.txt ...\n",
      "\n",
      "mise en block...\n",
      "num_block =  9.341552734375\n",
      "\n",
      " Sortie Data shape = (9, 4096, 7), Label shape = (9, 4096)\n",
      "IS i= 8  ===  len(file_name)-1= 66\n",
      "\n",
      "insert_batch...\n",
      "if : 61  <=  1000\n",
      "there is space... insert new batch\n",
      "\n",
      "FINISHED.\n",
      "Next h5_index for filename output =  0 \n",
      "\n",
      "\n",
      " D:\\VR3D\\VR3D_DATASET\\Out_nuage\\Filtre_intensite\\Filtre_contourD:\\VR3D\\VR3D_DATASET\\Out_nuage\\Filtre_intensite\\chambre_rgb9.txt ...\n",
      "\n",
      "mise en block...\n",
      "num_block =  2.93994140625\n",
      "\n",
      " Sortie Data shape = (2, 4096, 7), Label shape = (2, 4096)\n",
      "IS i= 9  ===  len(file_name)-1= 66\n",
      "\n",
      "insert_batch...\n",
      "if : 63  <=  1000\n",
      "there is space... insert new batch\n",
      "\n",
      "FINISHED.\n",
      "Next h5_index for filename output =  0 \n",
      "\n",
      "\n",
      " D:\\VR3D\\VR3D_DATASET\\Out_nuage\\Filtre_intensite\\Filtre_contourD:\\VR3D\\VR3D_DATASET\\Out_nuage\\Filtre_intensite\\chambre_rgb10_visu_rect1.txt ...\n",
      "\n",
      "mise en block...\n",
      "num_block =  17.469482421875\n",
      "\n",
      " Sortie Data shape = (17, 4096, 7), Label shape = (17, 4096)\n",
      "IS i= 10  ===  len(file_name)-1= 66\n",
      "\n",
      "insert_batch...\n",
      "if : 80  <=  1000\n",
      "there is space... insert new batch\n",
      "\n",
      "FINISHED.\n",
      "Next h5_index for filename output =  0 \n",
      "\n",
      "\n",
      " D:\\VR3D\\VR3D_DATASET\\Out_nuage\\Filtre_intensite\\Filtre_contourD:\\VR3D\\VR3D_DATASET\\Out_nuage\\Filtre_intensite\\chambre_rgb11.txt ...\n",
      "\n",
      "mise en block...\n",
      "num_block =  9.533203125\n",
      "\n",
      " Sortie Data shape = (9, 4096, 7), Label shape = (9, 4096)\n",
      "IS i= 11  ===  len(file_name)-1= 66\n",
      "\n",
      "insert_batch...\n",
      "if : 89  <=  1000\n",
      "there is space... insert new batch\n",
      "\n",
      "FINISHED.\n",
      "Next h5_index for filename output =  0 \n",
      "\n",
      "\n",
      " D:\\VR3D\\VR3D_DATASET\\Out_nuage\\Filtre_intensite\\Filtre_contourD:\\VR3D\\VR3D_DATASET\\Out_nuage\\Filtre_intensite\\chambre_rgb12.txt ...\n",
      "\n",
      "mise en block...\n",
      "num_block =  10.819091796875\n",
      "\n",
      " Sortie Data shape = (10, 4096, 7), Label shape = (10, 4096)\n",
      "IS i= 12  ===  len(file_name)-1= 66\n",
      "\n",
      "insert_batch...\n",
      "if : 99  <=  1000\n",
      "there is space... insert new batch\n",
      "\n",
      "FINISHED.\n",
      "Next h5_index for filename output =  0 \n",
      "\n",
      "\n",
      " D:\\VR3D\\VR3D_DATASET\\Out_nuage\\Filtre_intensite\\Filtre_contourD:\\VR3D\\VR3D_DATASET\\Out_nuage\\Filtre_intensite\\chambre_rgb13_visu_rect1.txt ...\n",
      "\n",
      "mise en block...\n",
      "num_block =  13.55908203125\n",
      "\n",
      " Sortie Data shape = (13, 4096, 7), Label shape = (13, 4096)\n",
      "IS i= 13  ===  len(file_name)-1= 66\n",
      "\n",
      "insert_batch...\n",
      "if : 112  <=  1000\n",
      "there is space... insert new batch\n",
      "\n",
      "FINISHED.\n",
      "Next h5_index for filename output =  0 \n",
      "\n",
      "\n",
      " D:\\VR3D\\VR3D_DATASET\\Out_nuage\\Filtre_intensite\\Filtre_contourD:\\VR3D\\VR3D_DATASET\\Out_nuage\\Filtre_intensite\\chambre_rgb14_visu_rect1.txt ...\n",
      "\n",
      "mise en block...\n",
      "num_block =  13.443115234375\n",
      "\n",
      " Sortie Data shape = (13, 4096, 7), Label shape = (13, 4096)\n",
      "IS i= 14  ===  len(file_name)-1= 66\n",
      "\n",
      "insert_batch...\n",
      "if : 125  <=  1000\n",
      "there is space... insert new batch\n",
      "\n",
      "FINISHED.\n",
      "Next h5_index for filename output =  0 \n",
      "\n",
      "\n",
      " D:\\VR3D\\VR3D_DATASET\\Out_nuage\\Filtre_intensite\\Filtre_contourD:\\VR3D\\VR3D_DATASET\\Out_nuage\\Filtre_intensite\\chambre_rgb15.txt ...\n",
      "\n",
      "mise en block...\n",
      "num_block =  14.6669921875\n",
      "\n",
      " Sortie Data shape = (14, 4096, 7), Label shape = (14, 4096)\n",
      "IS i= 15  ===  len(file_name)-1= 66\n",
      "\n",
      "insert_batch...\n",
      "if : 139  <=  1000\n",
      "there is space... insert new batch\n",
      "\n",
      "FINISHED.\n",
      "Next h5_index for filename output =  0 \n",
      "\n",
      "\n",
      " D:\\VR3D\\VR3D_DATASET\\Out_nuage\\Filtre_intensite\\Filtre_contourD:\\VR3D\\VR3D_DATASET\\Out_nuage\\Filtre_intensite\\chambre_rgb16.txt ...\n",
      "\n",
      "mise en block...\n",
      "num_block =  6.482666015625\n",
      "\n",
      " Sortie Data shape = (6, 4096, 7), Label shape = (6, 4096)\n",
      "IS i= 16  ===  len(file_name)-1= 66\n",
      "\n",
      "insert_batch...\n",
      "if : 145  <=  1000\n",
      "there is space... insert new batch\n",
      "\n",
      "FINISHED.\n",
      "Next h5_index for filename output =  0 \n",
      "\n",
      "\n",
      " D:\\VR3D\\VR3D_DATASET\\Out_nuage\\Filtre_intensite\\Filtre_contourD:\\VR3D\\VR3D_DATASET\\Out_nuage\\Filtre_intensite\\chambre_rgb17.txt ...\n",
      "\n",
      "mise en block...\n",
      "num_block =  8.220458984375\n",
      "\n",
      " Sortie Data shape = (8, 4096, 7), Label shape = (8, 4096)\n",
      "IS i= 17  ===  len(file_name)-1= 66\n",
      "\n",
      "insert_batch...\n",
      "if : 153  <=  1000\n",
      "there is space... insert new batch\n",
      "\n",
      "FINISHED.\n",
      "Next h5_index for filename output =  0 \n",
      "\n",
      "\n",
      " D:\\VR3D\\VR3D_DATASET\\Out_nuage\\Filtre_intensite\\Filtre_contourD:\\VR3D\\VR3D_DATASET\\Out_nuage\\Filtre_intensite\\chambre_rgb18_visu_rect1.txt ...\n",
      "\n",
      "mise en block...\n",
      "num_block =  9.879150390625\n",
      "\n",
      " Sortie Data shape = (9, 4096, 7), Label shape = (9, 4096)\n",
      "IS i= 18  ===  len(file_name)-1= 66\n",
      "\n",
      "insert_batch...\n",
      "if : 162  <=  1000\n",
      "there is space... insert new batch\n",
      "\n",
      "FINISHED.\n",
      "Next h5_index for filename output =  0 \n",
      "\n",
      "\n",
      " D:\\VR3D\\VR3D_DATASET\\Out_nuage\\Filtre_intensite\\Filtre_contourD:\\VR3D\\VR3D_DATASET\\Out_nuage\\Filtre_intensite\\chambre_rgb19.txt ...\n",
      "\n",
      "mise en block...\n",
      "num_block =  22.292236328125\n",
      "\n",
      " Sortie Data shape = (22, 4096, 7), Label shape = (22, 4096)\n",
      "IS i= 19  ===  len(file_name)-1= 66\n",
      "\n",
      "insert_batch...\n",
      "if : 184  <=  1000\n",
      "there is space... insert new batch\n",
      "\n",
      "FINISHED.\n",
      "Next h5_index for filename output =  0 \n",
      "\n",
      "\n",
      " D:\\VR3D\\VR3D_DATASET\\Out_nuage\\Filtre_intensite\\Filtre_contourD:\\VR3D\\VR3D_DATASET\\Out_nuage\\Filtre_intensite\\chambre_rgb20.txt ...\n",
      "\n",
      "mise en block...\n",
      "num_block =  6.877685546875\n",
      "\n",
      " Sortie Data shape = (6, 4096, 7), Label shape = (6, 4096)\n",
      "IS i= 20  ===  len(file_name)-1= 66\n",
      "\n",
      "insert_batch...\n",
      "if : 190  <=  1000\n",
      "there is space... insert new batch\n",
      "\n",
      "FINISHED.\n",
      "Next h5_index for filename output =  0 \n",
      "\n",
      "\n",
      " D:\\VR3D\\VR3D_DATASET\\Out_nuage\\Filtre_intensite\\Filtre_contourD:\\VR3D\\VR3D_DATASET\\Out_nuage\\Filtre_intensite\\chambre_rgb21.txt ...\n",
      "\n",
      "mise en block...\n",
      "num_block =  8.806884765625\n",
      "\n",
      " Sortie Data shape = (8, 4096, 7), Label shape = (8, 4096)\n",
      "IS i= 21  ===  len(file_name)-1= 66\n",
      "\n",
      "insert_batch...\n",
      "if : 198  <=  1000\n",
      "there is space... insert new batch\n",
      "\n",
      "FINISHED.\n",
      "Next h5_index for filename output =  0 \n",
      "\n",
      "\n",
      " D:\\VR3D\\VR3D_DATASET\\Out_nuage\\Filtre_intensite\\Filtre_contourD:\\VR3D\\VR3D_DATASET\\Out_nuage\\Filtre_intensite\\chambre_rgb22.txt ...\n",
      "\n",
      "mise en block...\n"
     ]
    },
    {
     "name": "stdout",
     "output_type": "stream",
     "text": [
      "num_block =  32.475341796875\n",
      "\n",
      " Sortie Data shape = (32, 4096, 7), Label shape = (32, 4096)\n",
      "IS i= 22  ===  len(file_name)-1= 66\n",
      "\n",
      "insert_batch...\n",
      "if : 230  <=  1000\n",
      "there is space... insert new batch\n",
      "\n",
      "FINISHED.\n",
      "Next h5_index for filename output =  0 \n",
      "\n",
      "\n",
      " D:\\VR3D\\VR3D_DATASET\\Out_nuage\\Filtre_intensite\\Filtre_contourD:\\VR3D\\VR3D_DATASET\\Out_nuage\\Filtre_intensite\\chambre_rgb23.txt ...\n",
      "\n",
      "mise en block...\n",
      "num_block =  10.701416015625\n",
      "\n",
      " Sortie Data shape = (10, 4096, 7), Label shape = (10, 4096)\n",
      "IS i= 23  ===  len(file_name)-1= 66\n",
      "\n",
      "insert_batch...\n",
      "if : 240  <=  1000\n",
      "there is space... insert new batch\n",
      "\n",
      "FINISHED.\n",
      "Next h5_index for filename output =  0 \n",
      "\n",
      "\n",
      " D:\\VR3D\\VR3D_DATASET\\Out_nuage\\Filtre_intensite\\Filtre_contourD:\\VR3D\\VR3D_DATASET\\Out_nuage\\Filtre_intensite\\chambre_rgb24.txt ...\n",
      "\n",
      "mise en block...\n",
      "num_block =  6.323486328125\n",
      "\n",
      " Sortie Data shape = (6, 4096, 7), Label shape = (6, 4096)\n",
      "IS i= 24  ===  len(file_name)-1= 66\n",
      "\n",
      "insert_batch...\n",
      "if : 246  <=  1000\n",
      "there is space... insert new batch\n",
      "\n",
      "FINISHED.\n",
      "Next h5_index for filename output =  0 \n",
      "\n",
      "\n",
      " D:\\VR3D\\VR3D_DATASET\\Out_nuage\\Filtre_intensite\\Filtre_contourD:\\VR3D\\VR3D_DATASET\\Out_nuage\\Filtre_intensite\\chambre_rgb25_visu_rect1.txt ...\n",
      "\n",
      "mise en block...\n",
      "num_block =  10.51953125\n",
      "\n",
      " Sortie Data shape = (10, 4096, 7), Label shape = (10, 4096)\n",
      "IS i= 25  ===  len(file_name)-1= 66\n",
      "\n",
      "insert_batch...\n",
      "if : 256  <=  1000\n",
      "there is space... insert new batch\n",
      "\n",
      "FINISHED.\n",
      "Next h5_index for filename output =  0 \n",
      "\n",
      "\n",
      " D:\\VR3D\\VR3D_DATASET\\Out_nuage\\Filtre_intensite\\Filtre_contourD:\\VR3D\\VR3D_DATASET\\Out_nuage\\Filtre_intensite\\chambre_rgb26.txt ...\n",
      "\n",
      "mise en block...\n",
      "num_block =  2.1337890625\n",
      "\n",
      " Sortie Data shape = (2, 4096, 7), Label shape = (2, 4096)\n",
      "IS i= 26  ===  len(file_name)-1= 66\n",
      "\n",
      "insert_batch...\n",
      "if : 258  <=  1000\n",
      "there is space... insert new batch\n",
      "\n",
      "FINISHED.\n",
      "Next h5_index for filename output =  0 \n",
      "\n",
      "\n",
      " D:\\VR3D\\VR3D_DATASET\\Out_nuage\\Filtre_intensite\\Filtre_contourD:\\VR3D\\VR3D_DATASET\\Out_nuage\\Filtre_intensite\\chambre_rgb27.txt ...\n",
      "\n",
      "mise en block...\n",
      "num_block =  7.899658203125\n",
      "\n",
      " Sortie Data shape = (7, 4096, 7), Label shape = (7, 4096)\n",
      "IS i= 27  ===  len(file_name)-1= 66\n",
      "\n",
      "insert_batch...\n",
      "if : 265  <=  1000\n",
      "there is space... insert new batch\n",
      "\n",
      "FINISHED.\n",
      "Next h5_index for filename output =  0 \n",
      "\n",
      "\n",
      " D:\\VR3D\\VR3D_DATASET\\Out_nuage\\Filtre_intensite\\Filtre_contourD:\\VR3D\\VR3D_DATASET\\Out_nuage\\Filtre_intensite\\chambre_rgb28.txt ...\n",
      "\n",
      "mise en block...\n",
      "num_block =  10.87255859375\n",
      "\n",
      " Sortie Data shape = (10, 4096, 7), Label shape = (10, 4096)\n",
      "IS i= 28  ===  len(file_name)-1= 66\n",
      "\n",
      "insert_batch...\n",
      "if : 275  <=  1000\n",
      "there is space... insert new batch\n",
      "\n",
      "FINISHED.\n",
      "Next h5_index for filename output =  0 \n",
      "\n",
      "\n",
      " D:\\VR3D\\VR3D_DATASET\\Out_nuage\\Filtre_intensite\\Filtre_contourD:\\VR3D\\VR3D_DATASET\\Out_nuage\\Filtre_intensite\\chambre_rgb29.txt ...\n",
      "\n",
      "mise en block...\n",
      "num_block =  2.19384765625\n",
      "\n",
      " Sortie Data shape = (2, 4096, 7), Label shape = (2, 4096)\n",
      "IS i= 29  ===  len(file_name)-1= 66\n",
      "\n",
      "insert_batch...\n",
      "if : 277  <=  1000\n",
      "there is space... insert new batch\n",
      "\n",
      "FINISHED.\n",
      "Next h5_index for filename output =  0 \n",
      "\n",
      "\n",
      " D:\\VR3D\\VR3D_DATASET\\Out_nuage\\Filtre_intensite\\Filtre_contourD:\\VR3D\\VR3D_DATASET\\Out_nuage\\Filtre_intensite\\chambre_rgb30.txt ...\n",
      "\n",
      "mise en block...\n",
      "num_block =  11.181640625\n",
      "\n",
      " Sortie Data shape = (11, 4096, 7), Label shape = (11, 4096)\n",
      "IS i= 30  ===  len(file_name)-1= 66\n",
      "\n",
      "insert_batch...\n",
      "if : 288  <=  1000\n",
      "there is space... insert new batch\n",
      "\n",
      "FINISHED.\n",
      "Next h5_index for filename output =  0 \n",
      "\n",
      "\n",
      " D:\\VR3D\\VR3D_DATASET\\Out_nuage\\Filtre_intensite\\Filtre_contourD:\\VR3D\\VR3D_DATASET\\Out_nuage\\Filtre_intensite\\chambre_rgb31.txt ...\n",
      "\n",
      "mise en block...\n",
      "num_block =  8.31103515625\n",
      "\n",
      " Sortie Data shape = (8, 4096, 7), Label shape = (8, 4096)\n",
      "IS i= 31  ===  len(file_name)-1= 66\n",
      "\n",
      "insert_batch...\n",
      "if : 296  <=  1000\n",
      "there is space... insert new batch\n",
      "\n",
      "FINISHED.\n",
      "Next h5_index for filename output =  0 \n",
      "\n",
      "\n",
      " D:\\VR3D\\VR3D_DATASET\\Out_nuage\\Filtre_intensite\\Filtre_contourD:\\VR3D\\VR3D_DATASET\\Out_nuage\\Filtre_intensite\\chambre_rgb32.txt ...\n",
      "\n",
      "mise en block...\n",
      "num_block =  6.07177734375\n",
      "\n",
      " Sortie Data shape = (6, 4096, 7), Label shape = (6, 4096)\n",
      "IS i= 32  ===  len(file_name)-1= 66\n",
      "\n",
      "insert_batch...\n",
      "if : 302  <=  1000\n",
      "there is space... insert new batch\n",
      "\n",
      "FINISHED.\n",
      "Next h5_index for filename output =  0 \n",
      "\n",
      "\n",
      " D:\\VR3D\\VR3D_DATASET\\Out_nuage\\Filtre_intensite\\Filtre_contourD:\\VR3D\\VR3D_DATASET\\Out_nuage\\Filtre_intensite\\chambre_rgb33.txt ...\n",
      "\n",
      "mise en block...\n",
      "num_block =  3.302978515625\n",
      "\n",
      " Sortie Data shape = (3, 4096, 7), Label shape = (3, 4096)\n",
      "IS i= 33  ===  len(file_name)-1= 66\n",
      "\n",
      "insert_batch...\n",
      "if : 305  <=  1000\n",
      "there is space... insert new batch\n",
      "\n",
      "FINISHED.\n",
      "Next h5_index for filename output =  0 \n",
      "\n",
      "\n",
      " D:\\VR3D\\VR3D_DATASET\\Out_nuage\\Filtre_intensite\\Filtre_contourD:\\VR3D\\VR3D_DATASET\\Out_nuage\\Filtre_intensite\\chambre_rgb34.txt ...\n",
      "\n",
      "mise en block...\n",
      "num_block =  3.537353515625\n",
      "\n",
      " Sortie Data shape = (3, 4096, 7), Label shape = (3, 4096)\n",
      "IS i= 34  ===  len(file_name)-1= 66\n",
      "\n",
      "insert_batch...\n",
      "if : 308  <=  1000\n",
      "there is space... insert new batch\n",
      "\n",
      "FINISHED.\n",
      "Next h5_index for filename output =  0 \n",
      "\n",
      "\n",
      " D:\\VR3D\\VR3D_DATASET\\Out_nuage\\Filtre_intensite\\Filtre_contourD:\\VR3D\\VR3D_DATASET\\Out_nuage\\Filtre_intensite\\chambre_rgb35.txt ...\n",
      "\n",
      "mise en block...\n",
      "num_block =  25.9873046875\n",
      "\n",
      " Sortie Data shape = (25, 4096, 7), Label shape = (25, 4096)\n",
      "IS i= 35  ===  len(file_name)-1= 66\n",
      "\n",
      "insert_batch...\n",
      "if : 333  <=  1000\n",
      "there is space... insert new batch\n",
      "\n",
      "FINISHED.\n",
      "Next h5_index for filename output =  0 \n",
      "\n",
      "\n",
      " D:\\VR3D\\VR3D_DATASET\\Out_nuage\\Filtre_intensite\\Filtre_contourD:\\VR3D\\VR3D_DATASET\\Out_nuage\\Filtre_intensite\\chambre_rgb36_visu_rect1.txt ...\n",
      "\n",
      "mise en block...\n",
      "num_block =  11.0791015625\n",
      "\n",
      " Sortie Data shape = (11, 4096, 7), Label shape = (11, 4096)\n",
      "IS i= 36  ===  len(file_name)-1= 66\n",
      "\n",
      "insert_batch...\n",
      "if : 344  <=  1000\n",
      "there is space... insert new batch\n",
      "\n",
      "FINISHED.\n",
      "Next h5_index for filename output =  0 \n",
      "\n",
      "\n",
      " D:\\VR3D\\VR3D_DATASET\\Out_nuage\\Filtre_intensite\\Filtre_contourD:\\VR3D\\VR3D_DATASET\\Out_nuage\\Filtre_intensite\\chambre_rgb37.txt ...\n",
      "\n",
      "mise en block...\n",
      "num_block =  2.304443359375\n",
      "\n",
      " Sortie Data shape = (2, 4096, 7), Label shape = (2, 4096)\n",
      "IS i= 37  ===  len(file_name)-1= 66\n",
      "\n",
      "insert_batch...\n",
      "if : 346  <=  1000\n",
      "there is space... insert new batch\n",
      "\n",
      "FINISHED.\n",
      "Next h5_index for filename output =  0 \n",
      "\n",
      "\n",
      " D:\\VR3D\\VR3D_DATASET\\Out_nuage\\Filtre_intensite\\Filtre_contourD:\\VR3D\\VR3D_DATASET\\Out_nuage\\Filtre_intensite\\chambre_rgb38_visu_rect1.txt ...\n",
      "\n",
      "mise en block...\n",
      "num_block =  14.9755859375\n",
      "\n",
      " Sortie Data shape = (14, 4096, 7), Label shape = (14, 4096)\n",
      "IS i= 38  ===  len(file_name)-1= 66\n",
      "\n",
      "insert_batch...\n",
      "if : 360  <=  1000\n",
      "there is space... insert new batch\n",
      "\n",
      "FINISHED.\n",
      "Next h5_index for filename output =  0 \n",
      "\n",
      "\n",
      " D:\\VR3D\\VR3D_DATASET\\Out_nuage\\Filtre_intensite\\Filtre_contourD:\\VR3D\\VR3D_DATASET\\Out_nuage\\Filtre_intensite\\chambre_rgb39_visu_rect1.txt ...\n",
      "\n",
      "mise en block...\n",
      "num_block =  17.039794921875\n",
      "\n",
      " Sortie Data shape = (17, 4096, 7), Label shape = (17, 4096)\n",
      "IS i= 39  ===  len(file_name)-1= 66\n",
      "\n",
      "insert_batch...\n",
      "if : 377  <=  1000\n",
      "there is space... insert new batch\n",
      "\n",
      "FINISHED.\n",
      "Next h5_index for filename output =  0 \n",
      "\n",
      "\n",
      " D:\\VR3D\\VR3D_DATASET\\Out_nuage\\Filtre_intensite\\Filtre_contourD:\\VR3D\\VR3D_DATASET\\Out_nuage\\Filtre_intensite\\chambre_rgb40_visu_rect1.txt ...\n",
      "\n",
      "mise en block...\n",
      "num_block =  7.699951171875\n",
      "\n",
      " Sortie Data shape = (7, 4096, 7), Label shape = (7, 4096)\n",
      "IS i= 40  ===  len(file_name)-1= 66\n",
      "\n",
      "insert_batch...\n",
      "if : 384  <=  1000\n",
      "there is space... insert new batch\n",
      "\n",
      "FINISHED.\n",
      "Next h5_index for filename output =  0 \n",
      "\n",
      "\n",
      " D:\\VR3D\\VR3D_DATASET\\Out_nuage\\Filtre_intensite\\Filtre_contourD:\\VR3D\\VR3D_DATASET\\Out_nuage\\Filtre_intensite\\chambre_rgb41.txt ...\n",
      "\n",
      "mise en block...\n",
      "num_block =  3.412109375\n",
      "\n",
      " Sortie Data shape = (3, 4096, 7), Label shape = (3, 4096)\n",
      "IS i= 41  ===  len(file_name)-1= 66\n",
      "\n",
      "insert_batch...\n",
      "if : 387  <=  1000\n",
      "there is space... insert new batch\n",
      "\n",
      "FINISHED.\n",
      "Next h5_index for filename output =  0 \n",
      "\n",
      "\n",
      " D:\\VR3D\\VR3D_DATASET\\Out_nuage\\Filtre_intensite\\Filtre_contourD:\\VR3D\\VR3D_DATASET\\Out_nuage\\Filtre_intensite\\chambre_rgb42_visu_rect1.txt ...\n",
      "\n",
      "mise en block...\n",
      "num_block =  7.4716796875\n",
      "\n",
      " Sortie Data shape = (7, 4096, 7), Label shape = (7, 4096)\n",
      "IS i= 42  ===  len(file_name)-1= 66\n",
      "\n",
      "insert_batch...\n",
      "if : 394  <=  1000\n",
      "there is space... insert new batch\n",
      "\n",
      "FINISHED.\n",
      "Next h5_index for filename output =  0 \n",
      "\n",
      "\n",
      " D:\\VR3D\\VR3D_DATASET\\Out_nuage\\Filtre_intensite\\Filtre_contourD:\\VR3D\\VR3D_DATASET\\Out_nuage\\Filtre_intensite\\chambre_rgb43_visu_rect1.txt ...\n",
      "\n",
      "mise en block...\n",
      "num_block =  7.852783203125\n",
      "\n",
      " Sortie Data shape = (7, 4096, 7), Label shape = (7, 4096)\n",
      "IS i= 43  ===  len(file_name)-1= 66\n",
      "\n",
      "insert_batch...\n",
      "if : 401  <=  1000\n",
      "there is space... insert new batch\n",
      "\n",
      "FINISHED.\n",
      "Next h5_index for filename output =  0 \n",
      "\n",
      "\n",
      " D:\\VR3D\\VR3D_DATASET\\Out_nuage\\Filtre_intensite\\Filtre_contourD:\\VR3D\\VR3D_DATASET\\Out_nuage\\Filtre_intensite\\chambre_rgb44_visu_rect1.txt ...\n",
      "\n",
      "mise en block...\n",
      "num_block =  5.81494140625\n",
      "\n",
      " Sortie Data shape = (5, 4096, 7), Label shape = (5, 4096)\n",
      "IS i= 44  ===  len(file_name)-1= 66\n",
      "\n",
      "insert_batch...\n",
      "if : 406  <=  1000\n",
      "there is space... insert new batch\n",
      "\n",
      "FINISHED.\n",
      "Next h5_index for filename output =  0 \n",
      "\n",
      "\n",
      " D:\\VR3D\\VR3D_DATASET\\Out_nuage\\Filtre_intensite\\Filtre_contourD:\\VR3D\\VR3D_DATASET\\Out_nuage\\Filtre_intensite\\chambre_rgb45_visu_rect1.txt ...\n",
      "\n",
      "mise en block...\n",
      "num_block =  10.197021484375\n",
      "\n",
      " Sortie Data shape = (10, 4096, 7), Label shape = (10, 4096)\n",
      "IS i= 45  ===  len(file_name)-1= 66\n",
      "\n",
      "insert_batch...\n",
      "if : 416  <=  1000\n",
      "there is space... insert new batch\n",
      "\n",
      "FINISHED.\n",
      "Next h5_index for filename output =  0 \n",
      "\n",
      "\n",
      " D:\\VR3D\\VR3D_DATASET\\Out_nuage\\Filtre_intensite\\Filtre_contourD:\\VR3D\\VR3D_DATASET\\Out_nuage\\Filtre_intensite\\chambre_rgb46.txt ...\n",
      "\n",
      "mise en block...\n",
      "num_block =  2.75830078125\n",
      "\n",
      " Sortie Data shape = (2, 4096, 7), Label shape = (2, 4096)\n",
      "IS i= 46  ===  len(file_name)-1= 66\n",
      "\n",
      "insert_batch...\n",
      "if : 418  <=  1000\n",
      "there is space... insert new batch\n",
      "\n",
      "FINISHED.\n",
      "Next h5_index for filename output =  0 \n",
      "\n",
      "\n",
      " D:\\VR3D\\VR3D_DATASET\\Out_nuage\\Filtre_intensite\\Filtre_contourD:\\VR3D\\VR3D_DATASET\\Out_nuage\\Filtre_intensite\\chambre_rgb47.txt ...\n"
     ]
    },
    {
     "name": "stdout",
     "output_type": "stream",
     "text": [
      "\n",
      "mise en block...\n",
      "num_block =  6.25634765625\n",
      "\n",
      " Sortie Data shape = (6, 4096, 7), Label shape = (6, 4096)\n",
      "IS i= 47  ===  len(file_name)-1= 66\n",
      "\n",
      "insert_batch...\n",
      "if : 424  <=  1000\n",
      "there is space... insert new batch\n",
      "\n",
      "FINISHED.\n",
      "Next h5_index for filename output =  0 \n",
      "\n",
      "\n",
      " D:\\VR3D\\VR3D_DATASET\\Out_nuage\\Filtre_intensite\\Filtre_contourD:\\VR3D\\VR3D_DATASET\\Out_nuage\\Filtre_intensite\\chambre_rgb48_visu_rect1.txt ...\n",
      "\n",
      "mise en block...\n",
      "num_block =  7.001708984375\n",
      "\n",
      " Sortie Data shape = (7, 4096, 7), Label shape = (7, 4096)\n",
      "IS i= 48  ===  len(file_name)-1= 66\n",
      "\n",
      "insert_batch...\n",
      "if : 431  <=  1000\n",
      "there is space... insert new batch\n",
      "\n",
      "FINISHED.\n",
      "Next h5_index for filename output =  0 \n",
      "\n",
      "\n",
      " D:\\VR3D\\VR3D_DATASET\\Out_nuage\\Filtre_intensite\\Filtre_contourD:\\VR3D\\VR3D_DATASET\\Out_nuage\\Filtre_intensite\\chambre_rgb49.txt ...\n",
      "\n",
      "mise en block...\n",
      "num_block =  9.31005859375\n",
      "\n",
      " Sortie Data shape = (9, 4096, 7), Label shape = (9, 4096)\n",
      "IS i= 49  ===  len(file_name)-1= 66\n",
      "\n",
      "insert_batch...\n",
      "if : 440  <=  1000\n",
      "there is space... insert new batch\n",
      "\n",
      "FINISHED.\n",
      "Next h5_index for filename output =  0 \n",
      "\n",
      "\n",
      " D:\\VR3D\\VR3D_DATASET\\Out_nuage\\Filtre_intensite\\Filtre_contourD:\\VR3D\\VR3D_DATASET\\Out_nuage\\Filtre_intensite\\chambre_rgb50.txt ...\n",
      "\n",
      "mise en block...\n",
      "num_block =  7.661376953125\n",
      "\n",
      " Sortie Data shape = (7, 4096, 7), Label shape = (7, 4096)\n",
      "IS i= 50  ===  len(file_name)-1= 66\n",
      "\n",
      "insert_batch...\n",
      "if : 447  <=  1000\n",
      "there is space... insert new batch\n",
      "\n",
      "FINISHED.\n",
      "Next h5_index for filename output =  0 \n",
      "\n",
      "\n",
      " D:\\VR3D\\VR3D_DATASET\\Out_nuage\\Filtre_intensite\\Filtre_contourD:\\VR3D\\VR3D_DATASET\\Out_nuage\\Filtre_intensite\\chambre_rgb51_visu_rect1.txt ...\n",
      "\n",
      "mise en block...\n",
      "num_block =  9.02392578125\n",
      "\n",
      " Sortie Data shape = (9, 4096, 7), Label shape = (9, 4096)\n",
      "IS i= 51  ===  len(file_name)-1= 66\n",
      "\n",
      "insert_batch...\n",
      "if : 456  <=  1000\n",
      "there is space... insert new batch\n",
      "\n",
      "FINISHED.\n",
      "Next h5_index for filename output =  0 \n",
      "\n",
      "\n",
      " D:\\VR3D\\VR3D_DATASET\\Out_nuage\\Filtre_intensite\\Filtre_contourD:\\VR3D\\VR3D_DATASET\\Out_nuage\\Filtre_intensite\\chambre_rgb52_visu_rect1.txt ...\n",
      "\n",
      "mise en block...\n",
      "num_block =  8.00537109375\n",
      "\n",
      " Sortie Data shape = (8, 4096, 7), Label shape = (8, 4096)\n",
      "IS i= 52  ===  len(file_name)-1= 66\n",
      "\n",
      "insert_batch...\n",
      "if : 464  <=  1000\n",
      "there is space... insert new batch\n",
      "\n",
      "FINISHED.\n",
      "Next h5_index for filename output =  0 \n",
      "\n",
      "\n",
      " D:\\VR3D\\VR3D_DATASET\\Out_nuage\\Filtre_intensite\\Filtre_contourD:\\VR3D\\VR3D_DATASET\\Out_nuage\\Filtre_intensite\\chambre_rgb53.txt ...\n",
      "\n",
      "mise en block...\n",
      "num_block =  17.826171875\n",
      "\n",
      " Sortie Data shape = (17, 4096, 7), Label shape = (17, 4096)\n",
      "IS i= 53  ===  len(file_name)-1= 66\n",
      "\n",
      "insert_batch...\n",
      "if : 481  <=  1000\n",
      "there is space... insert new batch\n",
      "\n",
      "FINISHED.\n",
      "Next h5_index for filename output =  0 \n",
      "\n",
      "\n",
      " D:\\VR3D\\VR3D_DATASET\\Out_nuage\\Filtre_intensite\\Filtre_contourD:\\VR3D\\VR3D_DATASET\\Out_nuage\\Filtre_intensite\\chambre_rgb54_visu_rect1.txt ...\n",
      "\n",
      "mise en block...\n",
      "num_block =  17.25537109375\n",
      "\n",
      " Sortie Data shape = (17, 4096, 7), Label shape = (17, 4096)\n",
      "IS i= 54  ===  len(file_name)-1= 66\n",
      "\n",
      "insert_batch...\n",
      "if : 498  <=  1000\n",
      "there is space... insert new batch\n",
      "\n",
      "FINISHED.\n",
      "Next h5_index for filename output =  0 \n",
      "\n",
      "\n",
      " D:\\VR3D\\VR3D_DATASET\\Out_nuage\\Filtre_intensite\\Filtre_contourD:\\VR3D\\VR3D_DATASET\\Out_nuage\\Filtre_intensite\\chambre_rgb55_visu_rect1.txt ...\n",
      "\n",
      "mise en block...\n",
      "num_block =  9.2626953125\n",
      "\n",
      " Sortie Data shape = (9, 4096, 7), Label shape = (9, 4096)\n",
      "IS i= 55  ===  len(file_name)-1= 66\n",
      "\n",
      "insert_batch...\n",
      "if : 507  <=  1000\n",
      "there is space... insert new batch\n",
      "\n",
      "FINISHED.\n",
      "Next h5_index for filename output =  0 \n",
      "\n",
      "\n",
      " D:\\VR3D\\VR3D_DATASET\\Out_nuage\\Filtre_intensite\\Filtre_contourD:\\VR3D\\VR3D_DATASET\\Out_nuage\\Filtre_intensite\\chambre_rgb56.txt ...\n",
      "\n",
      "mise en block...\n",
      "num_block =  10.462158203125\n",
      "\n",
      " Sortie Data shape = (10, 4096, 7), Label shape = (10, 4096)\n",
      "IS i= 56  ===  len(file_name)-1= 66\n",
      "\n",
      "insert_batch...\n",
      "if : 517  <=  1000\n",
      "there is space... insert new batch\n",
      "\n",
      "FINISHED.\n",
      "Next h5_index for filename output =  0 \n",
      "\n",
      "\n",
      " D:\\VR3D\\VR3D_DATASET\\Out_nuage\\Filtre_intensite\\Filtre_contourD:\\VR3D\\VR3D_DATASET\\Out_nuage\\Filtre_intensite\\chambre_rgb57.txt ...\n",
      "\n",
      "mise en block...\n",
      "num_block =  3.31884765625\n",
      "\n",
      " Sortie Data shape = (3, 4096, 7), Label shape = (3, 4096)\n",
      "IS i= 57  ===  len(file_name)-1= 66\n",
      "\n",
      "insert_batch...\n",
      "if : 520  <=  1000\n",
      "there is space... insert new batch\n",
      "\n",
      "FINISHED.\n",
      "Next h5_index for filename output =  0 \n",
      "\n",
      "\n",
      " D:\\VR3D\\VR3D_DATASET\\Out_nuage\\Filtre_intensite\\Filtre_contourD:\\VR3D\\VR3D_DATASET\\Out_nuage\\Filtre_intensite\\chambre_rgb58.txt ...\n",
      "\n",
      "mise en block...\n",
      "num_block =  3.158447265625\n",
      "\n",
      " Sortie Data shape = (3, 4096, 7), Label shape = (3, 4096)\n",
      "IS i= 58  ===  len(file_name)-1= 66\n",
      "\n",
      "insert_batch...\n",
      "if : 523  <=  1000\n",
      "there is space... insert new batch\n",
      "\n",
      "FINISHED.\n",
      "Next h5_index for filename output =  0 \n",
      "\n",
      "\n",
      " D:\\VR3D\\VR3D_DATASET\\Out_nuage\\Filtre_intensite\\Filtre_contourD:\\VR3D\\VR3D_DATASET\\Out_nuage\\Filtre_intensite\\chambre_rgb59_visu_rect1.txt ...\n",
      "\n",
      "mise en block...\n",
      "num_block =  1.9169921875\n",
      "\n",
      " Sortie Data shape = (1, 4096, 7), Label shape = (1, 4096)\n",
      "IS i= 59  ===  len(file_name)-1= 66\n",
      "\n",
      "insert_batch...\n",
      "if : 524  <=  1000\n",
      "there is space... insert new batch\n",
      "\n",
      "FINISHED.\n",
      "Next h5_index for filename output =  0 \n",
      "\n",
      "\n",
      " D:\\VR3D\\VR3D_DATASET\\Out_nuage\\Filtre_intensite\\Filtre_contourD:\\VR3D\\VR3D_DATASET\\Out_nuage\\Filtre_intensite\\chambre_rgb60_visu_rect1.txt ...\n",
      "\n",
      "mise en block...\n",
      "num_block =  3.043212890625\n",
      "\n",
      " Sortie Data shape = (3, 4096, 7), Label shape = (3, 4096)\n",
      "IS i= 60  ===  len(file_name)-1= 66\n",
      "\n",
      "insert_batch...\n",
      "if : 527  <=  1000\n",
      "there is space... insert new batch\n",
      "\n",
      "FINISHED.\n",
      "Next h5_index for filename output =  0 \n",
      "\n",
      "\n",
      " D:\\VR3D\\VR3D_DATASET\\Out_nuage\\Filtre_intensite\\Filtre_contourD:\\VR3D\\VR3D_DATASET\\Out_nuage\\Filtre_intensite\\chambre_rgb61.txt ...\n",
      "\n",
      "mise en block...\n",
      "num_block =  5.202392578125\n",
      "\n",
      " Sortie Data shape = (5, 4096, 7), Label shape = (5, 4096)\n",
      "IS i= 61  ===  len(file_name)-1= 66\n",
      "\n",
      "insert_batch...\n",
      "if : 532  <=  1000\n",
      "there is space... insert new batch\n",
      "\n",
      "FINISHED.\n",
      "Next h5_index for filename output =  0 \n",
      "\n",
      "\n",
      " D:\\VR3D\\VR3D_DATASET\\Out_nuage\\Filtre_intensite\\Filtre_contourD:\\VR3D\\VR3D_DATASET\\Out_nuage\\Filtre_intensite\\chambre_rgb62_visu_rect1.txt ...\n",
      "\n",
      "mise en block...\n",
      "num_block =  4.3427734375\n",
      "\n",
      " Sortie Data shape = (4, 4096, 7), Label shape = (4, 4096)\n",
      "IS i= 62  ===  len(file_name)-1= 66\n",
      "\n",
      "insert_batch...\n",
      "if : 536  <=  1000\n",
      "there is space... insert new batch\n",
      "\n",
      "FINISHED.\n",
      "Next h5_index for filename output =  0 \n",
      "\n",
      "\n",
      " D:\\VR3D\\VR3D_DATASET\\Out_nuage\\Filtre_intensite\\Filtre_contourD:\\VR3D\\VR3D_DATASET\\Out_nuage\\Filtre_intensite\\chambre_rgb63.txt ...\n",
      "\n",
      "mise en block...\n",
      "num_block =  1.587890625\n",
      "\n",
      " Sortie Data shape = (1, 4096, 7), Label shape = (1, 4096)\n",
      "IS i= 63  ===  len(file_name)-1= 66\n",
      "\n",
      "insert_batch...\n",
      "if : 537  <=  1000\n",
      "there is space... insert new batch\n",
      "\n",
      "FINISHED.\n",
      "Next h5_index for filename output =  0 \n",
      "\n",
      "\n",
      " D:\\VR3D\\VR3D_DATASET\\Out_nuage\\Filtre_intensite\\Filtre_contourD:\\VR3D\\VR3D_DATASET\\Out_nuage\\Filtre_intensite\\chambre_rgb64.txt ...\n",
      "\n",
      "mise en block...\n",
      "num_block =  14.634765625\n",
      "\n",
      " Sortie Data shape = (14, 4096, 7), Label shape = (14, 4096)\n",
      "IS i= 64  ===  len(file_name)-1= 66\n",
      "\n",
      "insert_batch...\n",
      "if : 551  <=  1000\n",
      "there is space... insert new batch\n",
      "\n",
      "FINISHED.\n",
      "Next h5_index for filename output =  0 \n",
      "\n",
      "\n",
      " D:\\VR3D\\VR3D_DATASET\\Out_nuage\\Filtre_intensite\\Filtre_contourD:\\VR3D\\VR3D_DATASET\\Out_nuage\\Filtre_intensite\\chambre_rgb65_visu_rect1.txt ...\n",
      "\n",
      "mise en block...\n",
      "num_block =  14.051513671875\n",
      "\n",
      " Sortie Data shape = (14, 4096, 7), Label shape = (14, 4096)\n",
      "IS i= 65  ===  len(file_name)-1= 66\n",
      "\n",
      "insert_batch...\n",
      "if : 565  <=  1000\n",
      "there is space... insert new batch\n",
      "\n",
      "FINISHED.\n",
      "Next h5_index for filename output =  0 \n",
      "\n",
      "\n",
      " D:\\VR3D\\VR3D_DATASET\\Out_nuage\\Filtre_intensite\\Filtre_contourD:\\VR3D\\VR3D_DATASET\\Out_nuage\\Filtre_intensite\\chambre_rgb66_visu_rect1.txt ...\n",
      "\n",
      "mise en block...\n",
      "num_block =  8.23779296875\n",
      "\n",
      " Sortie Data shape = (8, 4096, 7), Label shape = (8, 4096)\n",
      "IS i= 66  ===  len(file_name)-1= 66\n",
      "\n",
      "insert_batch...\n",
      "if : 573  <=  1000\n",
      "there is space... insert new batch\n",
      "if : last_batch = True et buffer_size =  573 est >0\n",
      "Stored D:\\VR3D\\VR3D_DATASET\\Out_nuage\\Filtre_intensite\\Filtre_contour\\data\\h5_data\\train_VR3D_18_02_2022_H5_0.h5 with size 573\n",
      "\n",
      "FINISHED.\n",
      "Next h5_index for filename output =  1 \n",
      "\n",
      "Total samples: 573\n"
     ]
    }
   ],
   "source": [
    "import h5py\n",
    "import os\n",
    "import pandas as pd\n",
    "import numpy as np\n",
    "import sys\n",
    "\n",
    "\n",
    "# Write numpy array data and label to h5_filename\n",
    "def save_h5(h5_filename, data, label, data_dtype='uint8', label_dtype='uint8'):\n",
    "    h5_fout = h5py.File(h5_filename,'w')\n",
    "    h5_fout.create_dataset(\n",
    "        'data', data=data,\n",
    "        compression='gzip', compression_opts=4,\n",
    "        dtype=data_dtype)\n",
    "    h5_fout.create_dataset(\n",
    "        'label', data=label,\n",
    "        compression='gzip', compression_opts=1,\n",
    "        dtype=label_dtype)\n",
    "    h5_fout.close()\n",
    "\n",
    "\n",
    "data_dir =\"D:\\VR3D\\VR3D_DATASET\\Out_train\\Out_train_Bordeau_0.5\"\n",
    "data_dir = \"D:\\\\MAS\\\\Pre_traitement\\\\data_source\"\n",
    "data_dir = \"D:\\VR3D\\VR3D_DATASET\\Out_train\\Down_sample_bordeau_0.5\"\n",
    "data_dir = \"D:\\VR3D\\VR3D_DATASET\\Out_nuage\\Filtre_intensite\"\n",
    "data_dir = \"D:\\VR3D\\VR3D_DATASET\\Out_nuage\\Filtre_intensite\\Filtre_contour\"\n",
    "# indoor3d_data_dir = os.path.join(data_dir, 'stanford_indoor3d')\n",
    "\n",
    "# NUM_POINT = 1024\n",
    "NUM_POINT = 4096\n",
    "H5_BATCH_SIZE = 1000\n",
    "data_dim = [NUM_POINT,7]\n",
    "# data_dim = [NUM_POINT, 7]\n",
    "label_dim = [NUM_POINT]\n",
    "data_dtype = 'float32'\n",
    "label_dtype = 'uint8'\n",
    "\n",
    "# Set paths\n",
    "# filelist = os.path.join(data_dir, 'my_data_label.txt')\n",
    "# = [os.path.join(data_dir, line.rstrip()) for line in open(filelist)]\n",
    "\n",
    "\n",
    "output_dir = os.path.join(data_dir, 'data\\h5_data')\n",
    "\n",
    "if not os.path.exists(output_dir):\n",
    "    os.mkdir(output_dir)\n",
    "\n",
    "output_filename_prefix = os.path.join(output_dir, 'train_VR3D_18_02_2022_H5')\n",
    "#output_filename_prefix = os.path.join(output_dir, 'test_eclated_from_H5_100')\n",
    "\n",
    "output_room_filelist = os.path.join(output_dir, 'room_filelist.txt')\n",
    "fout_room = open(output_room_filelist, 'w')\n",
    "\n",
    "\n",
    "def room2blocks_randomed_wrapper_normalized(data_label_filename, num_point, block_size=1.0, stride=1.0,\n",
    "                                            random_sample=False, sample_num=None, sample_aug=1):\n",
    "    if data_label_filename[-3:] == 'txt':\n",
    "        #data_label = np.loadtxt(data_label_filename)\n",
    "        data_label = pd.read_csv(data_label_filename).to_numpy()\n",
    "    elif data_label_filename[-3:] == 'npy':\n",
    "        data_label = np.load(data_label_filename)\n",
    "    elif data_label_filename[-3:] == 'uet':\n",
    "        data_label = pd.read_parquet(data_label_filename).to_numpy()\n",
    "    else:\n",
    "        print('Unknown file type! exiting.')\n",
    "        exit()\n",
    "    return room2blocks_randomed_plus_normalized(data_label, num_point, block_size, stride,\n",
    "                                                random_sample, sample_num, sample_aug)\n",
    "\n",
    "def room2blocks_randomed_plus_normalized(data_label, num_point, block_size, stride,\n",
    "                                         random_sample, sample_num, sample_aug):\n",
    "    \"\"\" room2block, with input filename and RGB preprocessing.\n",
    "        for each block centralize XYZ, add normalized XYZ as 678 channels\n",
    "    \"\"\"\n",
    "    print('\\nmise en block...')\n",
    "    data = data_label[:, 0:4]\n",
    "    # data[:,3:6] /= 255.0\n",
    "    label = data_label[:, -1].astype(np.uint8)\n",
    "    max_room_x = max(data[:, 0])\n",
    "    max_room_y = max(data[:, 1])\n",
    "    max_room_z = max(data[:, 2])\n",
    "\n",
    "    # data_batch, label_batch = room2blocks_random(data_label, num_point)\n",
    "    data_batch, label_batch = room2blocks_no_random(data_label, num_point)\n",
    "\n",
    "    new_data_batch = np.zeros((data_batch.shape[0], num_point, 7))\n",
    "    for b in range(data_batch.shape[0]):\n",
    "        new_data_batch[b, :, 4] = data_batch[b, :, 0] / max_room_x\n",
    "        new_data_batch[b, :, 5] = data_batch[b, :, 1] / max_room_y\n",
    "        new_data_batch[b, :, 6] = data_batch[b, :, 2] / max_room_z\n",
    "        minx = min(data_batch[b, :, 0])\n",
    "        miny = min(data_batch[b, :, 1])\n",
    "        data_batch[b, :, 0] -= (minx + block_size / 2)\n",
    "        data_batch[b, :, 1] -= (miny + block_size / 2)\n",
    "    new_data_batch[:, :, 0:4] = data_batch\n",
    "\n",
    "    return new_data_batch, label_batch\n",
    "\n",
    "\n",
    "def room2blocks_random(data, num_point):\n",
    "    # RandomisÃ© data numpy\n",
    "    np.random.shuffle(data)\n",
    "    # calculer nombre de blocs de 4096 dans data\n",
    "    if (data.shape[0] % num_point == 0):\n",
    "        num_block = data.shape[0] / num_point\n",
    "    else:\n",
    "        num_block = data.shape[0] / num_point + 1\n",
    "\n",
    "    print('num_block = ', num_block)\n",
    "\n",
    "    # Collect blocks\n",
    "    block_data_list = []\n",
    "    block_label_list = []\n",
    "    idx = 0\n",
    "\n",
    "    for i in range(int(num_block)):\n",
    "        # Recuper donnees x,y,z,i\n",
    "        block_data_sampled = data[int(num_point) * i:int(num_point) * (i + 1), 0:4]\n",
    "\n",
    "        # Recuper donnees x,y,z,i\n",
    "        block_label_sampled = data[int(num_point) * i:int(num_point) * (i + 1), -1]\n",
    "\n",
    "        # print('---------------------------------------------------')\n",
    "        # print(block_data_sampled)\n",
    "        # print('---------------------------------------------------')\n",
    "\n",
    "        # block_label_list.append(np.expand_dims(block_label_sampled, 0))\n",
    "        if block_data_sampled.shape[0] < num_point:\n",
    "            sample = np.random.choice(block_data_sampled.shape[0], num_point - block_data_sampled.shape[0])\n",
    "            dup_data = data[sample, 0:4]\n",
    "            dup_label = data[sample, -1]\n",
    "            block_data_sampled = np.concatenate([block_data_sampled, dup_data], 0)\n",
    "            \n",
    "            \n",
    "            \n",
    "            block_label_sampled = np.concatenate([block_label_sampled, dup_label], 0)\n",
    "        # print(block_data_sampled.shape[0])\n",
    "        # print(block_label_sampled.shape[0])\n",
    "\n",
    "        block_data_list.append(np.expand_dims(block_data_sampled, 0))\n",
    "        block_label_list.append(np.expand_dims(block_label_sampled, 0))\n",
    "\n",
    "    return np.concatenate(block_data_list, 0), np.concatenate(block_label_list, 0)\n",
    "\n",
    "\n",
    "def room2blocks_no_random(data, num_point):\n",
    "    # calculer nombre de blocs de 4096 dans data\n",
    "    if (data.shape[0] % num_point == 0):\n",
    "        num_block = data.shape[0] / num_point\n",
    "    else:\n",
    "        num_block = data.shape[0] / num_point + 1\n",
    "\n",
    "    print('num_block = ',num_block)\n",
    "\n",
    "    # Collect blocks\n",
    "    block_data_list = []\n",
    "    block_label_list = []\n",
    "    idx = 0\n",
    "\n",
    "    for i in range(int(num_block)):\n",
    "        # Recuper donnees x,y,z,i\n",
    "        block_data_sampled = data[int(num_point) * i:int(num_point) * (i + 1), 0:4]\n",
    "\n",
    "        # Recuper donnees x,y,z,i\n",
    "        block_label_sampled = data[int(num_point) * i:int(num_point) * (i + 1), -1]\n",
    "\n",
    "        # print('---------------------------------------------------')\n",
    "        # print(block_data_sampled)\n",
    "        # print('---------------------------------------------------')\n",
    "\n",
    "        # block_label_list.append(np.expand_dims(block_label_sampled, 0))\n",
    "        if block_data_sampled.shape[0] < num_point:\n",
    "            sample = np.random.choice(block_data_sampled.shape[0], num_point - block_data_sampled.shape[0])\n",
    "            dup_data = data[sample, 0:4]\n",
    "            dup_label = data[sample, -1]\n",
    "            block_data_sampled = np.concatenate([block_data_sampled, dup_data], 0)\n",
    "            block_label_sampled = np.concatenate([block_label_sampled, dup_label], 0)\n",
    "        # print(block_data_sampled.shape[0])\n",
    "        # print(block_label_sampled.shape[0])\n",
    "\n",
    "        block_data_list.append(np.expand_dims(block_data_sampled, 0))\n",
    "        block_label_list.append(np.expand_dims(block_label_sampled, 0))\n",
    "\n",
    "    return np.concatenate(block_data_list, 0), np.concatenate(block_label_list, 0)\n",
    "\n",
    "\n",
    "\n",
    "# --------------------------------------\n",
    "# ----- BATCH WRITE TO HDF5 -----\n",
    "# --------------------------------------\n",
    "batch_data_dim = [H5_BATCH_SIZE] + data_dim\n",
    "batch_label_dim = [H5_BATCH_SIZE] + label_dim\n",
    "h5_batch_data = np.zeros(batch_data_dim, dtype=np.float32)\n",
    "h5_batch_label = np.zeros(batch_label_dim, dtype=np.uint8)\n",
    "buffer_size = 0  # state: record how many samples are currently in buffer\n",
    "h5_index = 0  # state: the next h5 file to save\n",
    "\n",
    "\n",
    "def insert_batch(data, label, last_batch=False):\n",
    "    global h5_batch_data, h5_batch_label\n",
    "    global buffer_size, h5_index\n",
    "    data_size = data.shape[0]\n",
    "    print(\"\\ninsert_batch...\")\n",
    "\n",
    "    # If there is enough space, just insert\n",
    "    if buffer_size + data_size <= h5_batch_data.shape[0]:\n",
    "        print('if :', buffer_size + data_size, ' <= ', h5_batch_data.shape[0])\n",
    "        print(\"there is space... insert new batch\")\n",
    "        h5_batch_data[buffer_size:buffer_size + data_size, ...] = data\n",
    "        h5_batch_label[buffer_size:buffer_size + data_size] = label\n",
    "        buffer_size += data_size\n",
    "    else:  # not enough space\n",
    "        print('if :', buffer_size + data_size, ' > ', h5_batch_data.shape[0])\n",
    "        print(\"Space is not enough... \")\n",
    "        capacity = h5_batch_data.shape[0] - buffer_size\n",
    "        assert (capacity >= 0)\n",
    "        if capacity > 0:\n",
    "            h5_batch_data[buffer_size:buffer_size + capacity, ...] = data[0:capacity, ...]\n",
    "            h5_batch_label[buffer_size:buffer_size + capacity, ...] = label[0:capacity, ...]\n",
    "            # Save batch data and label to h5 file, reset buffer_size\n",
    "        h5_filename = output_filename_prefix + '_' + str(h5_index) + '.h5'\n",
    "        save_h5(h5_filename, h5_batch_data, h5_batch_label, data_dtype, label_dtype)\n",
    "        print('Stored {0} with size {1}'.format(h5_filename, h5_batch_data.shape[0]))\n",
    "        h5_index += 1\n",
    "        buffer_size = 0\n",
    "        # recursive call\n",
    "        insert_batch(data[capacity:, ...], label[capacity:, ...], last_batch)\n",
    "    if last_batch and buffer_size > 0:\n",
    "        print('if : last_batch = True et buffer_size = ', buffer_size, 'est >0')\n",
    "\n",
    "        h5_filename = output_filename_prefix + '_' + str(h5_index) + '.h5'\n",
    "        save_h5(h5_filename, h5_batch_data[0:buffer_size, ...], h5_batch_label[0:buffer_size, ...],\n",
    "                               data_dtype, label_dtype)\n",
    "        print('Stored {0} with size {1}'.format(h5_filename, buffer_size))\n",
    "        h5_index += 1\n",
    "        buffer_size = 0\n",
    "\n",
    "    print('\\nFINISHED.\\nNext h5_index for filename output = ', h5_index, '\\n')\n",
    "    return\n",
    "\n",
    "\n",
    "output_room_filelist = os.path.join(output_dir, 'room_filelist.txt')\n",
    "fout_room = open(output_room_filelist, 'w')\n",
    "\n",
    "#file_name = ['PNC1.txt', 'PNC2.txt', 'PNC3.txt', 'PNC4.txt', 'PNC5.txt']\n",
    "#file_name = ['PNC5_cal_100.txt']\n",
    "#file_name = ['p2_zone1.txt','p2_zone3.txt','p2_zone4.txt','p3_zone1.txt','p4_zone1.txt','p4_zone2.txt','p4_zone3.txt']\n",
    "file_list = pd.read_csv(\"D:\\VR3D\\VR3D_DATASET\\Out_nuage\\Filtre_intensite\\OUT_rect.txt\",header = None)\n",
    "file_name = [file[0] for file in file_list.to_numpy()]\n",
    "#filename = [\"D:\\\\MAS\\\\Pre_traitement\\\\data_source\\\\p1_zone1.txt\"]\n",
    "sample_cnt = 0\n",
    "for i, data_label_filename in enumerate(file_name):\n",
    "\n",
    "    print('\\n', data_dir + data_label_filename, '...')\n",
    "\n",
    "    #block_size = 200000.0\n",
    "    #stride = 100000.0\n",
    "    data, label = room2blocks_randomed_wrapper_normalized(data_label_filename, NUM_POINT, block_size=1.0,\n",
    "                                                 stride=0.5,\n",
    "                                                 random_sample=False, sample_num=None)\n",
    "    print('\\n Sortie Data shape = {0}, Label shape = {1}'.format(data.shape, label.shape))\n",
    "    for _ in range(data.shape[0]):\n",
    "        fout_room.write(os.path.basename(data_label_filename) + '\\n')\n",
    "\n",
    "    sample_cnt += data.shape[0]\n",
    "\n",
    "    print('IS i=', i, ' === ', 'len(file_name)-1=', len(file_name) - 1)\n",
    "    insert_batch(data, label, i == len(file_name) - 1)\n",
    "\n",
    "fout_room.close()\n",
    "print(\"Total samples: {0}\".format(sample_cnt))\n",
    "\n"
   ]
  },
  {
   "cell_type": "markdown",
   "id": "ca3a78af",
   "metadata": {},
   "source": [
    "Check if your data.h5 result.shape is == 1000\n",
    "S'il existe reshape le,par defaut c'est le dernier  fichier qui est de shape inferieur a 1000"
   ]
  },
  {
   "cell_type": "code",
   "execution_count": 5,
   "id": "bb621714",
   "metadata": {},
   "outputs": [],
   "source": [
    "import h5py"
   ]
  },
  {
   "cell_type": "code",
   "execution_count": 173,
   "id": "85a072e7",
   "metadata": {},
   "outputs": [],
   "source": [
    "path_input = \"D:\\\\MAS\\\\Pre_traitement\\\\data_source\\\\data\\\\h5_data\\\\train_MAS13_01_2022_H5_0.h5\""
   ]
  },
  {
   "cell_type": "code",
   "execution_count": 174,
   "id": "0c513d8d",
   "metadata": {},
   "outputs": [],
   "source": [
    "file_input = h5py.File(path_input,'r')"
   ]
  },
  {
   "cell_type": "code",
   "execution_count": 178,
   "id": "68287e82",
   "metadata": {},
   "outputs": [],
   "source": [
    "path_outp = \"D:\\VR3D\\VR3D_DATASET\\Out_train\\Out_train_Bordeau_0.5\\data\\h5_data\\\\ttzMAS_final.h5\""
   ]
  },
  {
   "cell_type": "code",
   "execution_count": 179,
   "id": "48ef7b1c",
   "metadata": {},
   "outputs": [],
   "source": [
    "file_outp = h5py.File(path_outp,'w')"
   ]
  },
  {
   "cell_type": "code",
   "execution_count": 180,
   "id": "a873fb26",
   "metadata": {},
   "outputs": [],
   "source": [
    "dset_app = file_outp.create_dataset('data',shape = (1000,4096,7))\n",
    "label_app = file_outp.create_dataset('label',shape = (1000,4096))"
   ]
  },
  {
   "cell_type": "code",
   "execution_count": 181,
   "id": "75e82ce9",
   "metadata": {},
   "outputs": [
    {
     "data": {
      "text/plain": [
       "<HDF5 dataset \"data\": shape (945, 4096, 7), type \"<f4\">"
      ]
     },
     "execution_count": 181,
     "metadata": {},
     "output_type": "execute_result"
    }
   ],
   "source": [
    "file_input['data']"
   ]
  },
  {
   "cell_type": "code",
   "execution_count": 168,
   "id": "c5e1a19f",
   "metadata": {},
   "outputs": [],
   "source": [
    "file_input.close()"
   ]
  },
  {
   "cell_type": "code",
   "execution_count": null,
   "id": "394c39d2",
   "metadata": {},
   "outputs": [],
   "source": []
  },
  {
   "cell_type": "code",
   "execution_count": 90,
   "id": "d7292495",
   "metadata": {},
   "outputs": [],
   "source": [
    "def save_h5(h5_filename, data, label, data_dtype='uint8', label_dtype='uint8'):\n",
    "    h5_fout = h5py.File(h5_filename,'w')\n",
    "    h5_fout.create_dataset(\n",
    "        'data', data=data,)\n",
    "    h5_fout.create_dataset(\n",
    "        'label', data=label,\n",
    "        compression='gzip')\n",
    "    h5_fout.close()"
   ]
  },
  {
   "cell_type": "code",
   "execution_count": 99,
   "id": "94638336",
   "metadata": {},
   "outputs": [
    {
     "data": {
      "text/plain": [
       "<bound method File.close of <HDF5 file \"train_29_10_2021_H5_0.h5\" (mode r)>>"
      ]
     },
     "execution_count": 99,
     "metadata": {},
     "output_type": "execute_result"
    }
   ],
   "source": [
    "path_input = \"D:\\\\VR3D\\\\VR3D_DATASET\\\\Out_train\\\\vr3d_Baumann\\\\archive\\\\data\\\\h5_data\\\\train_29_10_2021_H5_0.h5\"\n",
    "path_output = \"D:\\\\VR3D\\\\VR3D_DATASET\\\\Out_train\\\\vr3d_Baumann\\\\archive\\\\data\\\\h5_data\\\\train_testBA_06_12_2021_H5_0.h5\"\n",
    "file_input = h5py.File(path_input,'r')\n",
    "data = np.array(file_input['data'][:,:,-3:])\n",
    "data = data.reshape((-1,2048,3))\n",
    "label = np.array(file_input['label'][:])\n",
    "label = label.reshape((-1,2048))\n",
    "#print(file_input['data'][:,:,-3:])\n",
    "save_h5(path_output,data,label,data_dtype='uint8', label_dtype='uint8') \n",
    "file_input.close"
   ]
  },
  {
   "cell_type": "code",
   "execution_count": 9,
   "id": "1edacbdc",
   "metadata": {},
   "outputs": [],
   "source": [
    "path = \"D:\\\\VR3D\\\\VR3D_DATASET\\\\Out_train\\\\Out_train_Bordeau_0.5\\\\data\\\\h5_data\\\\train_13_01_2022_H5_0.h5\""
   ]
  },
  {
   "cell_type": "code",
   "execution_count": 10,
   "id": "f3002d4a",
   "metadata": {},
   "outputs": [],
   "source": [
    "file = h5py.File(path,'r')"
   ]
  },
  {
   "cell_type": "code",
   "execution_count": 26,
   "id": "882a6058",
   "metadata": {},
   "outputs": [
    {
     "data": {
      "text/plain": [
       "array([2244., 2245., 2270., ..., 2269., 2280., 2276.], dtype=float32)"
      ]
     },
     "execution_count": 26,
     "metadata": {},
     "output_type": "execute_result"
    }
   ],
   "source": [
    "file['data'][999,:,3]\n"
   ]
  },
  {
   "cell_type": "code",
   "execution_count": 15,
   "id": "1febaceb",
   "metadata": {},
   "outputs": [
    {
     "data": {
      "text/plain": [
       "4096"
      ]
     },
     "execution_count": 15,
     "metadata": {},
     "output_type": "execute_result"
    }
   ],
   "source": [
    "len(file['data'][5, :, 0])"
   ]
  },
  {
   "cell_type": "code",
   "execution_count": 19,
   "id": "a3b2c9a8",
   "metadata": {},
   "outputs": [
    {
     "data": {
      "text/plain": [
       "1000"
      ]
     },
     "execution_count": 19,
     "metadata": {},
     "output_type": "execute_result"
    }
   ],
   "source": [
    "len(file['data'][:, :, 0:4])"
   ]
  },
  {
   "cell_type": "code",
   "execution_count": 27,
   "id": "ff8f1e7f",
   "metadata": {},
   "outputs": [
    {
     "data": {
      "text/plain": [
       "3.0"
      ]
     },
     "execution_count": 27,
     "metadata": {},
     "output_type": "execute_result"
    }
   ],
   "source": [
    "2+2/2\n"
   ]
  },
  {
   "cell_type": "code",
   "execution_count": null,
   "id": "93905834",
   "metadata": {},
   "outputs": [],
   "source": []
  },
  {
   "cell_type": "code",
   "execution_count": null,
   "id": "5950fade",
   "metadata": {},
   "outputs": [],
   "source": []
  },
  {
   "cell_type": "code",
   "execution_count": null,
   "id": "4e00f322",
   "metadata": {},
   "outputs": [],
   "source": []
  },
  {
   "cell_type": "code",
   "execution_count": null,
   "id": "16cacaef",
   "metadata": {},
   "outputs": [],
   "source": []
  },
  {
   "cell_type": "code",
   "execution_count": 1,
   "id": "7c5eb4c5",
   "metadata": {},
   "outputs": [],
   "source": [
    "import numpy as np\n",
    "import h5py"
   ]
  },
  {
   "cell_type": "code",
   "execution_count": 4,
   "id": "35196e57",
   "metadata": {},
   "outputs": [],
   "source": [
    "path = \"D:\\VR3D\\code\\ML-VR3D\\code\\ML-VR3D\\Pretraitement\\data\\\\h5_data\\\\train_VR3D_Zpts_04_2022_H5_2.h5\""
   ]
  },
  {
   "cell_type": "code",
   "execution_count": 5,
   "id": "65bf6b7c",
   "metadata": {},
   "outputs": [],
   "source": [
    "file = h5py.File(path,'r')"
   ]
  },
  {
   "cell_type": "code",
   "execution_count": 10,
   "id": "9c4e1a03",
   "metadata": {},
   "outputs": [],
   "source": [
    "path_outp = \"D:\\VR3D\\code\\ML-VR3D\\code\\ML-VR3D\\Pretraitement\\data\\\\h5_data\\\\train_VR3Dpts.h5\""
   ]
  },
  {
   "cell_type": "code",
   "execution_count": 11,
   "id": "1370cdc6",
   "metadata": {},
   "outputs": [],
   "source": [
    "file_outp = h5py.File(path_outp,'w')"
   ]
  },
  {
   "cell_type": "code",
   "execution_count": 12,
   "id": "ddbe2913",
   "metadata": {},
   "outputs": [
    {
     "data": {
      "text/plain": [
       "<HDF5 dataset \"label\": shape (1000, 4096), type \"<f4\">"
      ]
     },
     "execution_count": 12,
     "metadata": {},
     "output_type": "execute_result"
    }
   ],
   "source": [
    "file_outp.create_dataset(\n",
    "    'data',shape= (1000,4096,7),\n",
    "    compression='gzip')\n",
    "#file_outp['data'][:] = file['data'][:]\n",
    "file_outp.create_dataset(\n",
    "    'label',shape=(1000,4096),\n",
    "    compression='gzip')\n",
    "#file_outp['label'][:] = file['label'][:]"
   ]
  },
  {
   "cell_type": "code",
   "execution_count": 13,
   "id": "625be18d",
   "metadata": {},
   "outputs": [
    {
     "data": {
      "text/plain": [
       "<HDF5 dataset \"data\": shape (1000, 4096, 7), type \"<f4\">"
      ]
     },
     "execution_count": 13,
     "metadata": {},
     "output_type": "execute_result"
    }
   ],
   "source": [
    "file_outp['data']"
   ]
  },
  {
   "cell_type": "code",
   "execution_count": 14,
   "id": "70d58b8b",
   "metadata": {},
   "outputs": [],
   "source": [
    "shp = file['data'].shape[0]"
   ]
  },
  {
   "cell_type": "code",
   "execution_count": 15,
   "id": "e634ee3a",
   "metadata": {},
   "outputs": [
    {
     "data": {
      "text/plain": [
       "754"
      ]
     },
     "execution_count": 15,
     "metadata": {},
     "output_type": "execute_result"
    }
   ],
   "source": [
    "shp"
   ]
  },
  {
   "cell_type": "code",
   "execution_count": 16,
   "id": "c9db8079",
   "metadata": {},
   "outputs": [
    {
     "data": {
      "text/plain": [
       "array([[[ 1.209     ,  0.974     , 58.982     , ...,  0.99994373,\n",
       "          0.9999685 ,  0.67053956],\n",
       "        [ 1.21      ,  0.396     , 58.988     , ...,  0.99994373,\n",
       "          0.99996835,  0.67060775],\n",
       "        [ 1.192     ,  0.202     , 58.98      , ...,  0.99994373,\n",
       "          0.9999683 ,  0.6705168 ],\n",
       "        ...,\n",
       "        [ 0.201     , -0.268     , 59.029     , ...,  0.999943  ,\n",
       "          0.99996823,  0.67107385],\n",
       "        [-0.198     , -0.32      , 59.054     , ...,  0.9999428 ,\n",
       "          0.9999682 ,  0.6713581 ],\n",
       "        [ 0.759     , -0.39      , 59.024     , ...,  0.99994344,\n",
       "          0.9999682 ,  0.67101705]]], dtype=float32)"
      ]
     },
     "execution_count": 16,
     "metadata": {},
     "output_type": "execute_result"
    }
   ],
   "source": [
    "file['data'][:1]"
   ]
  },
  {
   "cell_type": "code",
   "execution_count": 17,
   "id": "02dd700d",
   "metadata": {},
   "outputs": [],
   "source": [
    "file_outp['data'][:shp] = file['data'][:shp]\n",
    "file_outp['label'][:shp] = file['label'][:shp]\n",
    "boolean = True\n",
    "i = 1\n",
    "while boolean:\n",
    "    if shp*(i+1)<1000:\n",
    "        print(i)\n",
    "        file_outp['data'][shp*i:shp*(i+1)] = file['data'][:shp]\n",
    "        file_outp['label'][shp*i:shp*(i+1)] = file['label'][:shp]\n",
    "        i +=1\n",
    "    else :\n",
    "        file_outp['data'][shp*i:] = file['data'][:1000-shp*i]\n",
    "        file_outp['label'][shp*i:] = file['label'][:1000-shp*i]\n",
    "        boolean = False"
   ]
  },
  {
   "cell_type": "code",
   "execution_count": 18,
   "id": "47e48fc9",
   "metadata": {},
   "outputs": [
    {
     "data": {
      "text/plain": [
       "array([[[ 1.2090000e+00,  9.7399998e-01,  5.8981998e+01, ...,\n",
       "          9.9994373e-01,  9.9996853e-01,  6.7053956e-01],\n",
       "        [ 1.2100000e+00,  3.9600000e-01,  5.8987999e+01, ...,\n",
       "          9.9994373e-01,  9.9996835e-01,  6.7060775e-01],\n",
       "        [ 1.1920000e+00,  2.0200001e-01,  5.8980000e+01, ...,\n",
       "          9.9994373e-01,  9.9996829e-01,  6.7051679e-01],\n",
       "        ...,\n",
       "        [ 2.0100001e-01, -2.6800001e-01,  5.9028999e+01, ...,\n",
       "          9.9994302e-01,  9.9996823e-01,  6.7107385e-01],\n",
       "        [-1.9800000e-01, -3.1999999e-01,  5.9054001e+01, ...,\n",
       "          9.9994278e-01,  9.9996817e-01,  6.7135811e-01],\n",
       "        [ 7.5900000e-01, -3.8999999e-01,  5.9023998e+01, ...,\n",
       "          9.9994344e-01,  9.9996817e-01,  6.7101705e-01]],\n",
       "\n",
       "       [[ 6.8999998e-02, -2.0500000e-01,  5.9015999e+01, ...,\n",
       "          9.9994296e-01,  9.9996823e-01,  6.7092609e-01],\n",
       "        [ 7.5900000e-01, -4.4900000e-01,  5.9037998e+01, ...,\n",
       "          9.9994344e-01,  9.9996817e-01,  6.7117620e-01],\n",
       "        [ 7.3000002e-01, -3.7000000e-01,  5.9014999e+01, ...,\n",
       "          9.9994344e-01,  9.9996817e-01,  6.7091471e-01],\n",
       "        ...,\n",
       "        [ 1.3800000e-01, -2.6899999e-01,  5.9025002e+01, ...,\n",
       "          9.9994302e-01,  9.9996823e-01,  6.7102838e-01],\n",
       "        [ 9.4999999e-02, -3.8299999e-01,  5.9041000e+01, ...,\n",
       "          9.9994296e-01,  9.9996817e-01,  6.7121029e-01],\n",
       "        [-1.6000000e-01, -3.1700000e-01,  5.9039001e+01, ...,\n",
       "          9.9994278e-01,  9.9996817e-01,  6.7118758e-01]],\n",
       "\n",
       "       [[ 4.5800000e-01, -2.4699999e-01,  5.9012001e+01, ...,\n",
       "          9.9994320e-01,  9.9996823e-01,  6.7088062e-01],\n",
       "        [ 5.9500003e-01, -4.6100000e-01,  5.9032001e+01, ...,\n",
       "          9.9994332e-01,  9.9996817e-01,  6.7110801e-01],\n",
       "        [ 5.4699999e-01, -4.9300000e-01,  5.9053001e+01, ...,\n",
       "          9.9994326e-01,  9.9996817e-01,  6.7134672e-01],\n",
       "        ...,\n",
       "        [ 7.1600002e-01, -2.5400001e-01,  5.9000000e+01, ...,\n",
       "          9.9994338e-01,  9.9996823e-01,  6.7074418e-01],\n",
       "        [ 1.5200000e-01, -3.0100000e-01,  5.9039001e+01, ...,\n",
       "          9.9994302e-01,  9.9996817e-01,  6.7118758e-01],\n",
       "        [ 9.9900001e-01, -3.8000000e-01,  5.9021000e+01, ...,\n",
       "          9.9994361e-01,  9.9996817e-01,  6.7098290e-01]],\n",
       "\n",
       "       ...,\n",
       "\n",
       "       [[-3.3500001e-01, -2.8900000e-01,  6.2856998e+01, ...,\n",
       "          9.9964285e-01,  9.9997783e-01,  7.1459264e-01],\n",
       "        [-4.7000000e-01, -2.3899999e-01,  6.2859001e+01, ...,\n",
       "          9.9964273e-01,  9.9997783e-01,  7.1461540e-01],\n",
       "        [-4.2500001e-01,  3.4799999e-01,  6.2828999e+01, ...,\n",
       "          9.9964279e-01,  9.9997801e-01,  7.1427435e-01],\n",
       "        ...,\n",
       "        [-1.3300000e-01,  7.1000002e-02,  6.2846001e+01, ...,\n",
       "          9.9964297e-01,  9.9997789e-01,  7.1446759e-01],\n",
       "        [-1.6300000e-01,  7.4900001e-01,  6.2841999e+01, ...,\n",
       "          9.9964297e-01,  9.9997807e-01,  7.1442217e-01],\n",
       "        [-2.2900000e-01, -4.4100001e-01,  6.2858002e+01, ...,\n",
       "          9.9964291e-01,  9.9997777e-01,  7.1460402e-01]],\n",
       "\n",
       "       [[-2.8000000e-01,  3.9800000e-01,  6.2837002e+01, ...,\n",
       "          9.9964291e-01,  9.9997801e-01,  7.1436530e-01],\n",
       "        [-3.9199999e-01, -1.9499999e-01,  6.2854000e+01, ...,\n",
       "          9.9964279e-01,  9.9997783e-01,  7.1455854e-01],\n",
       "        [-4.6900001e-01,  9.7600001e-01,  6.2820999e+01, ...,\n",
       "          9.9964273e-01,  9.9997813e-01,  7.1418339e-01],\n",
       "        ...,\n",
       "        [ 3.9100000e-01,  2.9899999e-01,  6.2847000e+01, ...,\n",
       "          9.9964339e-01,  9.9997795e-01,  7.1447897e-01],\n",
       "        [ 6.5399998e-01,  2.5900000e-01,  6.2840000e+01, ...,\n",
       "          9.9964356e-01,  9.9997795e-01,  7.1439940e-01],\n",
       "        [ 2.2100000e-01,  3.7700000e-01,  6.2839001e+01, ...,\n",
       "          9.9964327e-01,  9.9997801e-01,  7.1438801e-01]],\n",
       "\n",
       "       [[ 4.8000000e-02,  8.2955002e+01,  6.2841999e+01, ...,\n",
       "          9.9964345e-01,  9.9997801e-01,  7.1442217e-01],\n",
       "        [-2.7300000e-01,  8.2719002e+01,  6.2848999e+01, ...,\n",
       "          9.9964327e-01,  9.9997795e-01,  7.1450174e-01],\n",
       "        [-3.1099999e-01,  8.2773003e+01,  6.2846001e+01, ...,\n",
       "          9.9964321e-01,  9.9997795e-01,  7.1446759e-01],\n",
       "        ...,\n",
       "        [ 3.1424600e+02,  2.1219000e+01,  6.1409000e+01, ...,\n",
       "          9.9986434e-01,  9.9996328e-01,  6.9813102e-01],\n",
       "        [ 3.1467401e+02,  2.1164000e+01,  6.1337002e+01, ...,\n",
       "          9.9986464e-01,  9.9996328e-01,  6.9731247e-01],\n",
       "        [ 3.1406601e+02,  2.0740999e+01,  6.2426998e+01, ...,\n",
       "          9.9986422e-01,  9.9996316e-01,  7.0970416e-01]]], dtype=float32)"
      ]
     },
     "execution_count": 18,
     "metadata": {},
     "output_type": "execute_result"
    }
   ],
   "source": [
    "file['data'][:]"
   ]
  },
  {
   "cell_type": "code",
   "execution_count": 19,
   "id": "d97f695c",
   "metadata": {},
   "outputs": [
    {
     "data": {
      "text/plain": [
       "array([[[ 1.2090000e+00,  9.7399998e-01,  5.8981998e+01, ...,\n",
       "          9.9994373e-01,  9.9996853e-01,  6.7053956e-01],\n",
       "        [ 1.2100000e+00,  3.9600000e-01,  5.8987999e+01, ...,\n",
       "          9.9994373e-01,  9.9996835e-01,  6.7060775e-01],\n",
       "        [ 1.1920000e+00,  2.0200001e-01,  5.8980000e+01, ...,\n",
       "          9.9994373e-01,  9.9996829e-01,  6.7051679e-01],\n",
       "        ...,\n",
       "        [ 2.0100001e-01, -2.6800001e-01,  5.9028999e+01, ...,\n",
       "          9.9994302e-01,  9.9996823e-01,  6.7107385e-01],\n",
       "        [-1.9800000e-01, -3.1999999e-01,  5.9054001e+01, ...,\n",
       "          9.9994278e-01,  9.9996817e-01,  6.7135811e-01],\n",
       "        [ 7.5900000e-01, -3.8999999e-01,  5.9023998e+01, ...,\n",
       "          9.9994344e-01,  9.9996817e-01,  6.7101705e-01]],\n",
       "\n",
       "       [[ 6.8999998e-02, -2.0500000e-01,  5.9015999e+01, ...,\n",
       "          9.9994296e-01,  9.9996823e-01,  6.7092609e-01],\n",
       "        [ 7.5900000e-01, -4.4900000e-01,  5.9037998e+01, ...,\n",
       "          9.9994344e-01,  9.9996817e-01,  6.7117620e-01],\n",
       "        [ 7.3000002e-01, -3.7000000e-01,  5.9014999e+01, ...,\n",
       "          9.9994344e-01,  9.9996817e-01,  6.7091471e-01],\n",
       "        ...,\n",
       "        [ 1.3800000e-01, -2.6899999e-01,  5.9025002e+01, ...,\n",
       "          9.9994302e-01,  9.9996823e-01,  6.7102838e-01],\n",
       "        [ 9.4999999e-02, -3.8299999e-01,  5.9041000e+01, ...,\n",
       "          9.9994296e-01,  9.9996817e-01,  6.7121029e-01],\n",
       "        [-1.6000000e-01, -3.1700000e-01,  5.9039001e+01, ...,\n",
       "          9.9994278e-01,  9.9996817e-01,  6.7118758e-01]],\n",
       "\n",
       "       [[ 4.5800000e-01, -2.4699999e-01,  5.9012001e+01, ...,\n",
       "          9.9994320e-01,  9.9996823e-01,  6.7088062e-01],\n",
       "        [ 5.9500003e-01, -4.6100000e-01,  5.9032001e+01, ...,\n",
       "          9.9994332e-01,  9.9996817e-01,  6.7110801e-01],\n",
       "        [ 5.4699999e-01, -4.9300000e-01,  5.9053001e+01, ...,\n",
       "          9.9994326e-01,  9.9996817e-01,  6.7134672e-01],\n",
       "        ...,\n",
       "        [ 7.1600002e-01, -2.5400001e-01,  5.9000000e+01, ...,\n",
       "          9.9994338e-01,  9.9996823e-01,  6.7074418e-01],\n",
       "        [ 1.5200000e-01, -3.0100000e-01,  5.9039001e+01, ...,\n",
       "          9.9994302e-01,  9.9996817e-01,  6.7118758e-01],\n",
       "        [ 9.9900001e-01, -3.8000000e-01,  5.9021000e+01, ...,\n",
       "          9.9994361e-01,  9.9996817e-01,  6.7098290e-01]],\n",
       "\n",
       "       ...,\n",
       "\n",
       "       [[ 1.1470000e+00, -1.0700000e-01,  6.2806999e+01, ...,\n",
       "          9.9964291e-01,  9.9997848e-01,  7.1402425e-01],\n",
       "        [ 3.5400000e-01, -3.5200000e-01,  6.2828999e+01, ...,\n",
       "          9.9964231e-01,  9.9997842e-01,  7.1427435e-01],\n",
       "        [ 1.0640000e+00, -4.6700001e-01,  6.2814999e+01, ...,\n",
       "          9.9964285e-01,  9.9997836e-01,  7.1411520e-01],\n",
       "        ...,\n",
       "        [ 9.7700000e-01, -6.8000004e-02,  6.2810001e+01, ...,\n",
       "          9.9964279e-01,  9.9997848e-01,  7.1405834e-01],\n",
       "        [-2.8999999e-01,  7.0999998e-01,  6.2806000e+01, ...,\n",
       "          9.9964190e-01,  9.9997866e-01,  7.1401286e-01],\n",
       "        [ 6.0000001e-03,  9.8299998e-01,  6.2791000e+01, ...,\n",
       "          9.9964207e-01,  9.9997872e-01,  7.1384233e-01]],\n",
       "\n",
       "       [[-4.4600001e-01, -4.3000001e-01,  6.2818001e+01, ...,\n",
       "          9.9964178e-01,  9.9997836e-01,  7.1414930e-01],\n",
       "        [-2.4000000e-02,  1.1900000e-01,  6.2825001e+01, ...,\n",
       "          9.9964207e-01,  9.9997854e-01,  7.1422887e-01],\n",
       "        [-4.0099999e-01,  1.1240000e+00,  6.2778000e+01, ...,\n",
       "          9.9964184e-01,  9.9997878e-01,  7.1369457e-01],\n",
       "        ...,\n",
       "        [ 1.0300000e+00,  7.7499998e-01,  6.2785999e+01, ...,\n",
       "          9.9964279e-01,  9.9997866e-01,  7.1378547e-01],\n",
       "        [-4.0500000e-01, -3.4900001e-01,  6.2817001e+01, ...,\n",
       "          9.9964184e-01,  9.9997842e-01,  7.1413791e-01],\n",
       "        [ 7.6700002e-01,  3.2400000e-01,  6.2820000e+01, ...,\n",
       "          9.9964261e-01,  9.9997854e-01,  7.1417201e-01]],\n",
       "\n",
       "       [[-4.3799999e-01,  9.1600001e-01,  6.2787998e+01, ...,\n",
       "          9.9964178e-01,  9.9997872e-01,  7.1380824e-01],\n",
       "        [-5.4000001e-02,  1.1090000e+00,  6.2789001e+01, ...,\n",
       "          9.9964207e-01,  9.9997872e-01,  7.1381962e-01],\n",
       "        [-4.3000001e-01,  1.2300000e-01,  6.2819000e+01, ...,\n",
       "          9.9964178e-01,  9.9997854e-01,  7.1416068e-01],\n",
       "        ...,\n",
       "        [-1.7100000e-01,  7.3299998e-01,  6.2798000e+01, ...,\n",
       "          9.9964195e-01,  9.9997866e-01,  7.1392190e-01],\n",
       "        [-2.9300001e-01, -3.0899999e-01,  6.2812000e+01, ...,\n",
       "          9.9964190e-01,  9.9997842e-01,  7.1408111e-01],\n",
       "        [-3.9300001e-01, -3.2900000e-01,  6.2810001e+01, ...,\n",
       "          9.9964184e-01,  9.9997842e-01,  7.1405834e-01]]], dtype=float32)"
      ]
     },
     "execution_count": 19,
     "metadata": {},
     "output_type": "execute_result"
    }
   ],
   "source": [
    "file_outp['data'][:]"
   ]
  },
  {
   "cell_type": "code",
   "execution_count": 20,
   "id": "62cfc8c9",
   "metadata": {},
   "outputs": [
    {
     "data": {
      "text/plain": [
       "<HDF5 dataset \"data\": shape (1000, 4096, 7), type \"<f4\">"
      ]
     },
     "execution_count": 20,
     "metadata": {},
     "output_type": "execute_result"
    }
   ],
   "source": [
    "file_outp['data']"
   ]
  },
  {
   "cell_type": "code",
   "execution_count": 21,
   "id": "58712f3a",
   "metadata": {},
   "outputs": [],
   "source": [
    "file_outp.close()\n",
    "file.close()"
   ]
  },
  {
   "cell_type": "code",
   "execution_count": null,
   "id": "bc1211fe",
   "metadata": {},
   "outputs": [],
   "source": []
  },
  {
   "cell_type": "code",
   "execution_count": null,
   "id": "c082b493",
   "metadata": {},
   "outputs": [],
   "source": []
  },
  {
   "cell_type": "code",
   "execution_count": null,
   "id": "943b9479",
   "metadata": {},
   "outputs": [],
   "source": []
  },
  {
   "cell_type": "code",
   "execution_count": null,
   "id": "bc15f403",
   "metadata": {},
   "outputs": [],
   "source": []
  },
  {
   "cell_type": "markdown",
   "id": "a8ae66a2",
   "metadata": {},
   "source": [
    "Equilibrage Intensite (donne d'entrainement)"
   ]
  },
  {
   "cell_type": "code",
   "execution_count": 371,
   "id": "d5941c57",
   "metadata": {},
   "outputs": [],
   "source": []
  },
  {
   "cell_type": "code",
   "execution_count": 372,
   "id": "c7bb82ef",
   "metadata": {},
   "outputs": [],
   "source": [
    "path_mas = \"D:\\\\MAS\\\\Pre_traitement\\\\data\\\\h5_data\\\\ply_data_all_3.h5\""
   ]
  },
  {
   "cell_type": "code",
   "execution_count": 375,
   "id": "266f4958",
   "metadata": {},
   "outputs": [],
   "source": []
  },
  {
   "cell_type": "code",
   "execution_count": 388,
   "id": "b0598846",
   "metadata": {},
   "outputs": [],
   "source": [
    "a = file_outp['data'][:]"
   ]
  },
  {
   "cell_type": "code",
   "execution_count": 381,
   "id": "235595c0",
   "metadata": {},
   "outputs": [],
   "source": [
    "b = file['data'][:,:,3]"
   ]
  },
  {
   "cell_type": "code",
   "execution_count": 354,
   "id": "eef6d4a3",
   "metadata": {},
   "outputs": [],
   "source": [
    "a = a.flatten()"
   ]
  },
  {
   "cell_type": "code",
   "execution_count": 355,
   "id": "0ba881b8",
   "metadata": {},
   "outputs": [],
   "source": [
    "df = pd.DataFrame(a)"
   ]
  },
  {
   "cell_type": "code",
   "execution_count": 391,
   "id": "a8eeb8f2",
   "metadata": {},
   "outputs": [],
   "source": [
    "file.close()\n",
    "file_outp.close()"
   ]
  },
  {
   "cell_type": "code",
   "execution_count": 356,
   "id": "7a826f37",
   "metadata": {},
   "outputs": [],
   "source": [
    "a = df[(df[0] <= 2300.0)]\n"
   ]
  },
  {
   "cell_type": "code",
   "execution_count": 357,
   "id": "9497cf84",
   "metadata": {},
   "outputs": [],
   "source": [
    "a = a.reset_index(drop=True)"
   ]
  },
  {
   "cell_type": "code",
   "execution_count": 358,
   "id": "1d6cf8f6",
   "metadata": {},
   "outputs": [
    {
     "data": {
      "text/plain": [
       "array([2205., 2182., 2189., ..., 2213., 2225., 2228.], dtype=float32)"
      ]
     },
     "execution_count": 358,
     "metadata": {},
     "output_type": "execute_result"
    }
   ],
   "source": [
    "a[0].values"
   ]
  },
  {
   "cell_type": "code",
   "execution_count": null,
   "id": "041ee610",
   "metadata": {},
   "outputs": [],
   "source": []
  },
  {
   "cell_type": "code",
   "execution_count": null,
   "id": "30e02b05",
   "metadata": {},
   "outputs": [],
   "source": []
  },
  {
   "cell_type": "code",
   "execution_count": 245,
   "id": "66da4d1a",
   "metadata": {},
   "outputs": [
    {
     "data": {
      "text/plain": [
       "array([34975., 31732., 32719., ..., 36103., 37795., 38218.])"
      ]
     },
     "execution_count": 245,
     "metadata": {},
     "output_type": "execute_result"
    }
   ],
   "source": [
    "a*141 - 275930"
   ]
  },
  {
   "cell_type": "code",
   "execution_count": 91,
   "id": "36d56c78",
   "metadata": {},
   "outputs": [
    {
     "data": {
      "text/plain": [
       "0.996503173828125"
      ]
     },
     "execution_count": 91,
     "metadata": {},
     "output_type": "execute_result"
    }
   ],
   "source": [
    "len(df[(df[0] <= 2300.0)&(df[0] >= 2050.0)])/len(df)"
   ]
  },
  {
   "cell_type": "code",
   "execution_count": 227,
   "id": "60dfc50d",
   "metadata": {},
   "outputs": [],
   "source": [
    "a = df[(df[0] <= 2300.0)&(df[0] >= 2050.0)]"
   ]
  },
  {
   "cell_type": "code",
   "execution_count": 235,
   "id": "09529c40",
   "metadata": {},
   "outputs": [
    {
     "ename": "ValueError",
     "evalue": "cannot reshape array of size 4081677 into shape (4096)",
     "output_type": "error",
     "traceback": [
      "\u001b[1;31m---------------------------------------------------------------------------\u001b[0m",
      "\u001b[1;31mValueError\u001b[0m                                Traceback (most recent call last)",
      "\u001b[1;32mC:\\Users\\A2921~1.RAK\\AppData\\Local\\Temp/ipykernel_15464/4252689724.py\u001b[0m in \u001b[0;36m<module>\u001b[1;34m\u001b[0m\n\u001b[1;32m----> 1\u001b[1;33m \u001b[0mnp\u001b[0m\u001b[1;33m.\u001b[0m\u001b[0marray\u001b[0m\u001b[1;33m(\u001b[0m\u001b[0ma\u001b[0m\u001b[1;33m[\u001b[0m\u001b[1;36m0\u001b[0m\u001b[1;33m]\u001b[0m\u001b[1;33m)\u001b[0m\u001b[1;33m.\u001b[0m\u001b[0mreshape\u001b[0m\u001b[1;33m(\u001b[0m\u001b[1;33m(\u001b[0m\u001b[1;33m-\u001b[0m\u001b[1;36m1\u001b[0m\u001b[1;33m,\u001b[0m\u001b[1;36m4096\u001b[0m\u001b[1;33m)\u001b[0m\u001b[1;33m)\u001b[0m\u001b[1;33m\u001b[0m\u001b[1;33m\u001b[0m\u001b[0m\n\u001b[0m",
      "\u001b[1;31mValueError\u001b[0m: cannot reshape array of size 4081677 into shape (4096)"
     ]
    }
   ],
   "source": [
    "np.array(a[0]).reshape((-1,4096))"
   ]
  },
  {
   "cell_type": "code",
   "execution_count": 77,
   "id": "63a3ee83",
   "metadata": {},
   "outputs": [],
   "source": [
    "import numpy as np\n",
    "import seaborn as sns\n",
    "import  matplotlib.pyplot as plt"
   ]
  },
  {
   "cell_type": "code",
   "execution_count": null,
   "id": "c99f2172",
   "metadata": {},
   "outputs": [],
   "source": [
    "(inten_Mas + 275930)/141"
   ]
  },
  {
   "cell_type": "code",
   "execution_count": 150,
   "id": "2e9dba76",
   "metadata": {},
   "outputs": [
    {
     "data": {
      "text/plain": [
       "2050.0"
      ]
     },
     "execution_count": 150,
     "metadata": {},
     "output_type": "execute_result"
    }
   ],
   "source": [
    "(13120.0 + 275930)/141"
   ]
  },
  {
   "cell_type": "code",
   "execution_count": 152,
   "id": "c8ec88af",
   "metadata": {},
   "outputs": [
    {
     "data": {
      "text/plain": [
       "13120"
      ]
     },
     "execution_count": 152,
     "metadata": {},
     "output_type": "execute_result"
    }
   ],
   "source": [
    "2050*141 - 275930"
   ]
  },
  {
   "cell_type": "code",
   "execution_count": null,
   "id": "c4c68f9f",
   "metadata": {},
   "outputs": [],
   "source": [
    "min = 2050\n",
    "max = 2300\n",
    "MAS.min() = 13120.0\n",
    "MAS.max() = 48377.0"
   ]
  },
  {
   "cell_type": "code",
   "execution_count": 94,
   "id": "01a0ef06",
   "metadata": {},
   "outputs": [
    {
     "data": {
      "image/png": "[encoded data removed]",
      "text/plain": [
       "<Figure size 360x360 with 1 Axes>"
      ]
     },
     "metadata": {
      "needs_background": "light"
     },
     "output_type": "display_data"
    }
   ],
   "source": [
    "sns.displot(a,x=a[0])\n",
    "plt.xlabel('intensite')\n",
    "plt.show()"
   ]
  },
  {
   "cell_type": "code",
   "execution_count": 78,
   "id": "12ade1a3",
   "metadata": {},
   "outputs": [
    {
     "data": {
      "image/png": "[encoded data removed]",
      "text/plain": [
       "<Figure size 360x360 with 1 Axes>"
      ]
     },
     "metadata": {
      "needs_background": "light"
     },
     "output_type": "display_data"
    }
   ],
   "source": [
    "sns.displot(df,x=df[0])\n",
    "plt.xlabel('intensite')\n",
    "plt.show()"
   ]
  },
  {
   "cell_type": "code",
   "execution_count": 16,
   "id": "6c2e26d2",
   "metadata": {},
   "outputs": [
    {
     "data": {
      "text/plain": [
       "array([[21690., 22680., 21950., ..., 22000., 22130., 21500.],\n",
       "       [21830., 22070., 22060., ..., 21930., 21560., 22010.],\n",
       "       [22080., 21970., 22070., ..., 22330., 21980., 22080.],\n",
       "       ...,\n",
       "       [21490., 21200., 22060., ..., 22030., 21620., 21590.],\n",
       "       [21500., 21890., 21140., ..., 21700., 21960., 21670.],\n",
       "       [21680., 21370., 21440., ..., 21510., 21890., 21800.]],\n",
       "      dtype=float32)"
      ]
     },
     "execution_count": 16,
     "metadata": {},
     "output_type": "execute_result"
    }
   ],
   "source": [
    "file_outp['data'][:,:,3]"
   ]
  },
  {
   "cell_type": "code",
   "execution_count": 17,
   "id": "cb4097c9",
   "metadata": {},
   "outputs": [],
   "source": [
    "file_outp.close()\n",
    "file.close()"
   ]
  },
  {
   "cell_type": "code",
   "execution_count": 72,
   "id": "dae43346",
   "metadata": {},
   "outputs": [],
   "source": [
    "MAS.min() = 13120.0\n",
    "MAS.max() = 48377.0\n",
    "VR3D.min() = 256\n",
    "VR3D.max() = 65408.0"
   ]
  },
  {
   "cell_type": "code",
   "execution_count": null,
   "id": "258dd771",
   "metadata": {},
   "outputs": [],
   "source": []
  },
  {
   "cell_type": "code",
   "execution_count": null,
   "id": "62ff8ead",
   "metadata": {},
   "outputs": [],
   "source": []
  },
  {
   "cell_type": "markdown",
   "id": "39fe6bcb",
   "metadata": {},
   "source": [
    "Equilibrage intensite (Test)"
   ]
  },
  {
   "cell_type": "code",
   "execution_count": null,
   "id": "79b5fbea",
   "metadata": {},
   "outputs": [],
   "source": []
  },
  {
   "cell_type": "code",
   "execution_count": 1,
   "id": "32f46223",
   "metadata": {},
   "outputs": [],
   "source": [
    "import laspy"
   ]
  },
  {
   "cell_type": "code",
   "execution_count": 2,
   "id": "2320a3f2",
   "metadata": {},
   "outputs": [],
   "source": [
    "from laspy.file import File\n",
    "import numpy as np"
   ]
  },
  {
   "cell_type": "code",
   "execution_count": 4,
   "id": "ddeca98c",
   "metadata": {},
   "outputs": [],
   "source": [
    "path = \"C:\\\\Users\\\\a.rakotoarisoa\\\\PycharmProjects\\\\ML-VR3D\\\\VR3D\\\\labelisation_automatique\\\\Test\\\\test\\\\Annotations\\\\history\\\\out1_test.las\""
   ]
  },
  {
   "cell_type": "code",
   "execution_count": 5,
   "id": "ebb7c4f4",
   "metadata": {},
   "outputs": [],
   "source": [
    "path_outp = \"C:\\\\Users\\\\a.rakotoarisoa\\\\PycharmProjects\\\\ML-VR3D\\\\VR3D\\\\labelisation_automatique\\\\Test\\\\test\\\\Annotations\\\\history\\\\modife_out1_test.txt\""
   ]
  },
  {
   "cell_type": "code",
   "execution_count": 6,
   "id": "4baf29b4",
   "metadata": {},
   "outputs": [],
   "source": [
    "file = File(path,mode='rw')"
   ]
  },
  {
   "cell_type": "code",
   "execution_count": 7,
   "id": "6c487a82",
   "metadata": {},
   "outputs": [
    {
     "data": {
      "text/plain": [
       "<laspy.file.File at 0x1eb8e940df0>"
      ]
     },
     "execution_count": 7,
     "metadata": {},
     "output_type": "execute_result"
    }
   ],
   "source": [
    "file"
   ]
  },
  {
   "cell_type": "code",
   "execution_count": 36,
   "id": "5b9a28ca",
   "metadata": {},
   "outputs": [],
   "source": [
    "binary_classes = np.empty((len(file.x), 4))\n",
    "\n",
    "binary_classes[:, 0] = file.x\n",
    "binary_classes[:, 1] = file.y\n",
    "binary_classes[:, 2] = file.z\n",
    "binary_classes[:, 3] = file.intensity"
   ]
  },
  {
   "cell_type": "code",
   "execution_count": 37,
   "id": "1baa4603",
   "metadata": {},
   "outputs": [],
   "source": [
    "binary_classes[:, 3] = binary_classes[:,3]*10"
   ]
  },
  {
   "cell_type": "code",
   "execution_count": 38,
   "id": "ebaa8d1e",
   "metadata": {},
   "outputs": [
    {
     "data": {
      "text/plain": [
       "array([ 42020.,  38070.,  34200., ..., 115030.,  47820.,  76470.])"
      ]
     },
     "execution_count": 38,
     "metadata": {},
     "output_type": "execute_result"
    }
   ],
   "source": [
    "binary_classes[:, 3] "
   ]
  },
  {
   "cell_type": "code",
   "execution_count": 39,
   "id": "fac9f94b",
   "metadata": {},
   "outputs": [
    {
     "data": {
      "text/plain": [
       "array([[1.49528562e+06, 7.19699633e+06, 5.39000000e+01, 4.20200000e+04],\n",
       "       [1.49528569e+06, 7.19699626e+06, 5.39100000e+01, 3.80700000e+04],\n",
       "       [1.49528572e+06, 7.19699623e+06, 5.39100000e+01, 3.42000000e+04],\n",
       "       ...,\n",
       "       [1.49528578e+06, 7.19700052e+06, 5.37800000e+01, 1.15030000e+05],\n",
       "       [1.49528577e+06, 7.19700049e+06, 5.38600000e+01, 4.78200000e+04],\n",
       "       [1.49528576e+06, 7.19700049e+06, 5.38600000e+01, 7.64700000e+04]])"
      ]
     },
     "execution_count": 39,
     "metadata": {},
     "output_type": "execute_result"
    }
   ],
   "source": [
    "binary_classes"
   ]
  },
  {
   "cell_type": "code",
   "execution_count": 40,
   "id": "f44dea1b",
   "metadata": {},
   "outputs": [],
   "source": [
    "np.savetxt(path_outp,binary_classes,delimiter=\",\")"
   ]
  },
  {
   "cell_type": "code",
   "execution_count": 41,
   "id": "85a49843",
   "metadata": {},
   "outputs": [],
   "source": [
    "import os"
   ]
  },
  {
   "cell_type": "code",
   "execution_count": 254,
   "id": "95c540ad",
   "metadata": {},
   "outputs": [],
   "source": [
    "save_path =\"C:\\\\Users\\\\a.rakotoarisoa\\\\PycharmProjects\\\\ML-VR3D\\\\VR3D\\\\labelisation_automatique\\\\Test\\\\test\\\\Annotations\\\\history\\\\data_contour_1.txt\""
   ]
  },
  {
   "cell_type": "code",
   "execution_count": 42,
   "id": "d43cce53",
   "metadata": {},
   "outputs": [
    {
     "data": {
      "text/plain": [
       "0"
      ]
     },
     "execution_count": 42,
     "metadata": {},
     "output_type": "execute_result"
    }
   ],
   "source": [
    "os.system('D:\\VR3D\\Tools\\LAStools\\\\bin\\\\txt2las.exe -i \\\"' + path_outp+ '\\\" -parse xyzi -olas')"
   ]
  },
  {
   "cell_type": "code",
   "execution_count": 43,
   "id": "20a38c5c",
   "metadata": {},
   "outputs": [],
   "source": [
    "file.close()"
   ]
  },
  {
   "cell_type": "code",
   "execution_count": null,
   "id": "61b84daf",
   "metadata": {},
   "outputs": [],
   "source": []
  },
  {
   "cell_type": "code",
   "execution_count": null,
   "id": "3a229d05",
   "metadata": {},
   "outputs": [],
   "source": []
  },
  {
   "cell_type": "code",
   "execution_count": null,
   "id": "96a5a3a1",
   "metadata": {},
   "outputs": [],
   "source": []
  },
  {
   "cell_type": "code",
   "execution_count": null,
   "id": "dc70f66a",
   "metadata": {},
   "outputs": [],
   "source": []
  },
  {
   "cell_type": "code",
   "execution_count": 6,
   "id": "07e36379",
   "metadata": {},
   "outputs": [],
   "source": [
    "import dask.dataframe as dd\n",
    "import dask\n",
    "import time"
   ]
  },
  {
   "cell_type": "code",
   "execution_count": null,
   "id": "7031fdf0",
   "metadata": {},
   "outputs": [],
   "source": [
    "t1 = time.time()\n",
    "path = \"D:\\VR3D\\VR3D_DATASET\\First_vr3d_PTS.txt\"\n",
    "ddf = dd.read_csv(path, header = None, sep = ' ')\n",
    "print(dask.compute(*ddf[0]))\n",
    "t2 = time.time()\n",
    "print('time execution in ', t2-t1)\n",
    "print('process finish !')"
   ]
  },
  {
   "cell_type": "code",
   "execution_count": null,
   "id": "3ee223bd",
   "metadata": {},
   "outputs": [],
   "source": []
  },
  {
   "cell_type": "code",
   "execution_count": null,
   "id": "6f7b2f1e",
   "metadata": {},
   "outputs": [],
   "source": []
  },
  {
   "cell_type": "code",
   "execution_count": null,
   "id": "11251eaf",
   "metadata": {},
   "outputs": [],
   "source": []
  },
  {
   "cell_type": "code",
   "execution_count": null,
   "id": "442a452e",
   "metadata": {},
   "outputs": [],
   "source": []
  },
  {
   "cell_type": "code",
   "execution_count": null,
   "id": "e70737b8",
   "metadata": {},
   "outputs": [],
   "source": []
  }
 ],
 "metadata": {
  "kernelspec": {
   "display_name": "Python 3",
   "language": "python",
   "name": "python3"
  },
  "language_info": {
   "codemirror_mode": {
    "name": "ipython",
    "version": 3
   },
   "file_extension": ".py",
   "mimetype": "text/x-python",
   "name": "python",
   "nbconvert_exporter": "python",
   "pygments_lexer": "ipython3",
   "version": "3.8.11"
  }
 },
 "nbformat": 4,
 "nbformat_minor": 5
}
